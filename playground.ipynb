{
 "cells": [
  {
   "cell_type": "markdown",
   "source": [
    "# Automata"
   ],
   "metadata": {}
  },
  {
   "cell_type": "code",
   "execution_count": 119,
   "source": [
    "from itertools import chain, combinations"
   ],
   "outputs": [],
   "metadata": {}
  },
  {
   "cell_type": "code",
   "execution_count": 123,
   "source": [
    "L = [\"01\", \"00\", \"100\"]"
   ],
   "outputs": [],
   "metadata": {}
  },
  {
   "cell_type": "code",
   "execution_count": 124,
   "source": [
    "def power(l1, p):\r\n",
    "    if p == 1:\r\n",
    "        return l1\r\n",
    "    else:\r\n",
    "        res = power(l1, p - 1)\r\n",
    "        return concatLanguage(res, l1)\r\n",
    "\r\n",
    "def concatLanguage(l1, l2):\r\n",
    "    res = []\r\n",
    "    for k in l1:\r\n",
    "        for j in l2:\r\n",
    "            res.append(k+j)\r\n",
    "    return res\r\n",
    "\r\n",
    "def powerOfLanguage(l, p):\r\n",
    "    \"\"\"\r\n",
    "    Step one: Concatenate once\r\n",
    "    \"\"\"\r\n",
    "    res = l\r\n",
    "    for i in range(p - 1):\r\n",
    "        res = concatLanguage(res, l)\r\n",
    "    return res\r\n"
   ],
   "outputs": [],
   "metadata": {}
  },
  {
   "cell_type": "code",
   "execution_count": 144,
   "source": [
    "res = powerOfLanguage([\"01\", \"00\", \"100\"], 4)"
   ],
   "outputs": [],
   "metadata": {}
  },
  {
   "cell_type": "code",
   "execution_count": 145,
   "source": [
    "w1=\"01001000100\"\r\n",
    "w2=\"000010000\"\r\n",
    "w3=\"100000100001\"\r\n",
    "w4=\"100000100\""
   ],
   "outputs": [],
   "metadata": {}
  },
  {
   "cell_type": "code",
   "execution_count": 146,
   "source": [
    "def checkIn(l, w):\r\n",
    "    try:\r\n",
    "        print(l.index(w))\r\n",
    "    except:\r\n",
    "        raise ValueError('W not found')\r\n"
   ],
   "outputs": [],
   "metadata": {}
  },
  {
   "cell_type": "code",
   "execution_count": 147,
   "source": [
    "test = [w1, w2, w3, w4]\r\n",
    "index = 0\r\n",
    "for i in test:\r\n",
    "    try:\r\n",
    "        checkIn(res, i)\r\n",
    "    except ValueError as nf:\r\n",
    "        print(\"%d not found\" % index)\r\n",
    "    index += 1\r\n",
    "\r\n",
    "    "
   ],
   "outputs": [
    {
     "output_type": "stream",
     "name": "stdout",
     "text": [
      "0 not found\n",
      "43\n",
      "2 not found\n",
      "64\n"
     ]
    }
   ],
   "metadata": {}
  },
  {
   "cell_type": "code",
   "execution_count": 148,
   "source": [
    "res2 = []\r\n",
    "for i in range(10):\r\n",
    "    res2 = res2 + powerOfLanguage([\"01\", \"00\", \"100\"], i+1)\r\n"
   ],
   "outputs": [],
   "metadata": {}
  },
  {
   "cell_type": "code",
   "execution_count": 149,
   "source": [
    "test = [w1, w2, w3, w4]\r\n",
    "index = 0\r\n",
    "for i in test:\r\n",
    "    try:\r\n",
    "        checkIn(res2, i)\r\n",
    "    except ValueError as nf:\r\n",
    "        print(\"%d not found\" % index)\r\n",
    "    index += 1"
   ],
   "outputs": [
    {
     "output_type": "stream",
     "name": "stdout",
     "text": [
      "166\n",
      "82\n",
      "2 not found\n",
      "103\n"
     ]
    }
   ],
   "metadata": {}
  },
  {
   "cell_type": "markdown",
   "source": [
    "# <center>Shortlex ordering</center>"
   ],
   "metadata": {}
  },
  {
   "cell_type": "code",
   "execution_count": 131,
   "source": [
    "alphabet = ['0', '1']\r\n",
    "L = ['010', '01', '100']"
   ],
   "outputs": [],
   "metadata": {}
  },
  {
   "cell_type": "code",
   "execution_count": 132,
   "source": [
    "res_short = []\r\n",
    "for i in range(4):\r\n",
    "    res_short = res_short + powerOfLanguage(L, i+1)"
   ],
   "outputs": [],
   "metadata": {}
  },
  {
   "cell_type": "code",
   "execution_count": 140,
   "source": [
    "res_short.sort()\r\n",
    "res_short.sort(key=len, reverse=False)"
   ],
   "outputs": [],
   "metadata": {}
  },
  {
   "cell_type": "code",
   "execution_count": 135,
   "source": [
    "res_short.sort(key=len, reverse=False)"
   ],
   "outputs": [],
   "metadata": {}
  },
  {
   "cell_type": "markdown",
   "source": [
    "# Answer for shortlex order: \r\n"
   ],
   "metadata": {}
  },
  {
   "cell_type": "code",
   "execution_count": 141,
   "source": [
    "res_short[:16]"
   ],
   "outputs": [
    {
     "output_type": "execute_result",
     "data": {
      "text/plain": [
       "['01',\n",
       " '010',\n",
       " '100',\n",
       " '0101',\n",
       " '01001',\n",
       " '01010',\n",
       " '01100',\n",
       " '10001',\n",
       " '010010',\n",
       " '010100',\n",
       " '010101',\n",
       " '100010',\n",
       " '100100',\n",
       " '0100101',\n",
       " '0101001',\n",
       " '0101010']"
      ]
     },
     "metadata": {},
     "execution_count": 141
    }
   ],
   "metadata": {}
  },
  {
   "cell_type": "markdown",
   "source": [
    "# Power set"
   ],
   "metadata": {}
  },
  {
   "cell_type": "code",
   "execution_count": 150,
   "source": [
    "\r\n",
    "def powerset(iterable):\r\n",
    "    \"powerset([1,2,3]) --> () (1,) (2,) (3,) (1,2) (1,3) (2,3) (1,2,3)\"\r\n",
    "    s = list(iterable)\r\n",
    "    return chain.from_iterable(combinations(s, r) for r in range(len(s)+1))"
   ],
   "outputs": [],
   "metadata": {}
  },
  {
   "cell_type": "code",
   "execution_count": 154,
   "source": [
    "list(powerset([('a', 2), ('b', 2), ]))"
   ],
   "outputs": [
    {
     "output_type": "execute_result",
     "data": {
      "text/plain": [
       "[(), (('a', 2),), (('b', 2),), (('a', 2), ('b', 2))]"
      ]
     },
     "metadata": {},
     "execution_count": 154
    }
   ],
   "metadata": {}
  },
  {
   "cell_type": "markdown",
   "source": [
    "The answer of 4d is : {$\\phi$, {(a, 2)}, {(b, 2)}, {(a, 2), (b, 2)} }"
   ],
   "metadata": {}
  }
 ],
 "metadata": {
  "orig_nbformat": 4,
  "language_info": {
   "name": "python",
   "version": "3.8.0",
   "mimetype": "text/x-python",
   "codemirror_mode": {
    "name": "ipython",
    "version": 3
   },
   "pygments_lexer": "ipython3",
   "nbconvert_exporter": "python",
   "file_extension": ".py"
  },
  "kernelspec": {
   "name": "python3",
   "display_name": "Python 3.8.0 32-bit ('venv': venv)"
  },
  "interpreter": {
   "hash": "67176aa62ce702ae4822ae5a2222842b74bf2fe1fdc4a19d69f0ad18bd063919"
  }
 },
 "nbformat": 4,
 "nbformat_minor": 2
}