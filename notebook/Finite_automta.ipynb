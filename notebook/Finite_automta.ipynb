{
 "cells": [
  {
   "cell_type": "markdown",
   "metadata": {},
   "source": [
    "# Finite Automata"
   ]
  },
  {
   "cell_type": "markdown",
   "metadata": {},
   "source": [
    "## Deterministic Finite Automata"
   ]
  },
  {
   "cell_type": "code",
   "execution_count": 162,
   "metadata": {},
   "outputs": [],
   "source": [
    "from automata.fa.dfa import DFA\n",
    "from automata.tm.dtm import DTM\n",
    "from automata.base.exceptions import RejectionException\n",
    "\n"
   ]
  },
  {
   "cell_type": "code",
   "execution_count": 163,
   "metadata": {},
   "outputs": [],
   "source": [
    "\n",
    "# DFA which matches all binary strings ending in an odd number of '1's\n",
    "dfa = DFA(\n",
    "    states={'q0', 'q1', 'q2'},\n",
    "    input_symbols={'0', '1'},\n",
    "    transitions={\n",
    "        'q0': {'0': 'q0', '1': 'q1'},\n",
    "        'q1': {'0': 'q0', '1': 'q2'},\n",
    "        'q2': {'0': 'q2', '1': 'q1'}\n",
    "    },\n",
    "    initial_state='q0',\n",
    "    final_states={'q1'}\n",
    ")\n"
   ]
  },
  {
   "cell_type": "code",
   "execution_count": 164,
   "metadata": {},
   "outputs": [
    {
     "data": {
      "text/plain": [
       "'q1'"
      ]
     },
     "execution_count": 164,
     "metadata": {},
     "output_type": "execute_result"
    }
   ],
   "source": [
    "dfa.read_input('01')  # returns 'q1'"
   ]
  },
  {
   "cell_type": "code",
   "execution_count": 165,
   "metadata": {},
   "outputs": [
    {
     "name": "stdout",
     "output_type": "stream",
     "text": [
      "q0\n",
      "q0\n",
      "q1\n",
      "q0\n",
      "q1\n",
      "q0\n",
      "q1\n",
      "q0\n",
      "q0\n",
      "q1\n",
      "q0\n",
      "q1\n",
      "q0\n",
      "q0\n",
      "q1\n"
     ]
    }
   ],
   "source": [
    "for i in dfa.read_input_stepwise('01010100101001'):\n",
    "    print(i)"
   ]
  },
  {
   "cell_type": "code",
   "execution_count": 166,
   "metadata": {},
   "outputs": [
    {
     "name": "stdout",
     "output_type": "stream",
     "text": [
      "The input was rejected\n"
     ]
    }
   ],
   "source": [
    "\n",
    "try:\n",
    "    dfa.read_input('011')  # raises RejectionException\n",
    "except RejectionException:\n",
    "    print(\"The input was rejected\")"
   ]
  },
  {
   "cell_type": "code",
   "execution_count": 167,
   "metadata": {},
   "outputs": [],
   "source": [
    "# DFA which matches all binary strings ending in an odd number of '1's\n",
    "dfa = DFA(\n",
    "    states={'A', 'B', 'C'},\n",
    "    input_symbols={'0', '1'},\n",
    "    transitions={\n",
    "        'A': {'0': 'B', '1': 'A'},\n",
    "        'B': {'0': 'C', '1': 'A'},\n",
    "        'C': {'0': 'C', '1': 'C'}\n",
    "    },\n",
    "    initial_state='A',\n",
    "    final_states={'A', 'B'}\n",
    ")\n"
   ]
  },
  {
   "cell_type": "code",
   "execution_count": 168,
   "metadata": {},
   "outputs": [
    {
     "data": {
      "text/plain": [
       "'A'"
      ]
     },
     "execution_count": 168,
     "metadata": {},
     "output_type": "execute_result"
    }
   ],
   "source": [
    "dfa.read_input('011011')  # returns 'q1'"
   ]
  },
  {
   "cell_type": "markdown",
   "metadata": {},
   "source": [
    "## Quiz 4"
   ]
  },
  {
   "cell_type": "code",
   "execution_count": 169,
   "metadata": {},
   "outputs": [],
   "source": [
    "# DFA which matches all binary strings ending in an odd number of '1's\n",
    "dfa = DFA(\n",
    "    states={'A', 'B', 'C'},\n",
    "    input_symbols={'0', '1'},\n",
    "    transitions={\n",
    "        'A': {'0': 'B', '1': 'A'},\n",
    "        'B': {'0': 'C', '1': 'A'},\n",
    "        'C': {'0': 'C', '1': 'C'}\n",
    "    },\n",
    "    initial_state='A',\n",
    "    final_states={'A', 'B'}\n",
    ")"
   ]
  },
  {
   "cell_type": "markdown",
   "metadata": {},
   "source": [
    "# **<span style=\"color:#1a87cf\">Turing Machine</span>**\n",
    "We are using DTM[Deterministic Turing Machine]"
   ]
  },
  {
   "cell_type": "code",
   "execution_count": 170,
   "metadata": {},
   "outputs": [],
   "source": [
    "# DTM which matches all strings beginning with '0's, and followed by\n",
    "# the same number of '1's\n",
    "dtm = DTM(\n",
    "    states={'q0', 'q1', 'q2', 'q3', 'q4'},\n",
    "    input_symbols={'0', '1'},\n",
    "    tape_symbols={'0', '1', '_'},\n",
    "    transitions={\n",
    "        'q0': {\n",
    "            '1': ('q0', '1', 'R'),\n",
    "            '0': ('q1', '0', 'R')\n",
    "        },\n",
    "        'q1': {\n",
    "            '0': ('q2', '0', 'R'),\n",
    "            '1': ('q0', '1', 'R')\n",
    "        },\n",
    "        'q2': {\n",
    "            '0': ('q2', '0', 'R'),\n",
    "            '1': ('q3', '1', 'R')\n",
    "        },\n",
    "        'q3': {\n",
    "            '0': ('q3', '0', 'R'),\n",
    "            '1': ('q3', '1', 'R'),\n",
    "            '_' : ('q4', '_', 'R')\n",
    "        }\n",
    "    },\n",
    "    initial_state='q0',\n",
    "    blank_symbol='_',\n",
    "    final_states={'q4'}\n",
    ")"
   ]
  },
  {
   "cell_type": "code",
   "execution_count": 171,
   "metadata": {},
   "outputs": [
    {
     "data": {
      "text/plain": [
       "(True, False)"
      ]
     },
     "execution_count": 171,
     "metadata": {},
     "output_type": "execute_result"
    }
   ],
   "source": [
    "dtm.accepts_input('00101010001'), dtm.accepts_input('00'),"
   ]
  },
  {
   "cell_type": "code",
   "execution_count": 172,
   "metadata": {},
   "outputs": [
    {
     "data": {
      "text/plain": [
       "{'q4'}"
      ]
     },
     "execution_count": 172,
     "metadata": {},
     "output_type": "execute_result"
    }
   ],
   "source": [
    "dtm.final_states"
   ]
  },
  {
   "cell_type": "code",
   "execution_count": 173,
   "metadata": {},
   "outputs": [
    {
     "data": {
      "text/plain": [
       "TMConfiguration('q4', TMTape('0001__', 5))"
      ]
     },
     "execution_count": 173,
     "metadata": {},
     "output_type": "execute_result"
    }
   ],
   "source": [
    "dtm.read_input('0001')"
   ]
  },
  {
   "cell_type": "code",
   "execution_count": 174,
   "metadata": {},
   "outputs": [],
   "source": [
    "res = dtm.read_input_stepwise('001010001')"
   ]
  },
  {
   "cell_type": "code",
   "execution_count": 175,
   "metadata": {},
   "outputs": [
    {
     "name": "stdout",
     "output_type": "stream",
     "text": [
      "TMConfiguration('q0', TMTape('001010001', 0))\n",
      "TMConfiguration('q1', TMTape('001010001', 1))\n",
      "TMConfiguration('q2', TMTape('001010001', 2))\n",
      "TMConfiguration('q3', TMTape('001010001', 3))\n",
      "TMConfiguration('q3', TMTape('001010001', 4))\n",
      "TMConfiguration('q3', TMTape('001010001', 5))\n",
      "TMConfiguration('q3', TMTape('001010001', 6))\n",
      "TMConfiguration('q3', TMTape('001010001', 7))\n",
      "TMConfiguration('q3', TMTape('001010001', 8))\n",
      "TMConfiguration('q3', TMTape('001010001_', 9))\n",
      "TMConfiguration('q4', TMTape('001010001__', 10))\n"
     ]
    }
   ],
   "source": [
    "for i in res:\n",
    "    print(i)"
   ]
  },
  {
   "cell_type": "code",
   "execution_count": 176,
   "metadata": {},
   "outputs": [],
   "source": [
    "mv_right_dtm = DTM(\n",
    "    states={'q0', 'q1', 'q2', 'q3', 'q4'},\n",
    "    input_symbols={'0', '1'},\n",
    "    tape_symbols={'0', '1', '_', '$'},\n",
    "    transitions={\n",
    "        'q0': {\n",
    "            '1': ('q0', '1', 'R'),\n",
    "            '0': ('q0', '0', 'R'),\n",
    "            '_': ('q1', '_', 'L'),\n",
    "        },\n",
    "        'q1': {\n",
    "            '0': ('q2', '_', 'R'),\n",
    "            '1': ('q3', '_', 'R'),\n",
    "            '_': ('q4', '$', 'L'),\n",
    "            \n",
    "        },\n",
    "        'q2': {\n",
    "            '_': ('q0', '0', 'L'),\n",
    "        },\n",
    "        'q3': {\n",
    "            '_': ('q0', '1', 'L'),\n",
    "        }\n",
    "    },\n",
    "    initial_state='q0',\n",
    "    blank_symbol='_',\n",
    "    final_states={'q4'}\n",
    ")"
   ]
  },
  {
   "cell_type": "code",
   "execution_count": 179,
   "metadata": {},
   "outputs": [],
   "source": [
    "res = mv_right_dtm.read_input_stepwise('0101')"
   ]
  },
  {
   "cell_type": "code",
   "execution_count": 180,
   "metadata": {},
   "outputs": [
    {
     "name": "stdout",
     "output_type": "stream",
     "text": [
      "TMConfiguration('q0', TMTape('0101', 0))\n",
      "TMConfiguration('q0', TMTape('0101', 1))\n",
      "TMConfiguration('q0', TMTape('0101', 2))\n",
      "TMConfiguration('q0', TMTape('0101', 3))\n",
      "TMConfiguration('q0', TMTape('0101_', 4))\n",
      "TMConfiguration('q1', TMTape('0101_', 3))\n",
      "TMConfiguration('q3', TMTape('010__', 4))\n",
      "TMConfiguration('q0', TMTape('010_1', 3))\n",
      "TMConfiguration('q1', TMTape('010_1', 2))\n",
      "TMConfiguration('q2', TMTape('01__1', 3))\n",
      "TMConfiguration('q0', TMTape('01_01', 2))\n",
      "TMConfiguration('q1', TMTape('01_01', 1))\n",
      "TMConfiguration('q3', TMTape('0__01', 2))\n",
      "TMConfiguration('q0', TMTape('0_101', 1))\n",
      "TMConfiguration('q1', TMTape('0_101', 0))\n",
      "TMConfiguration('q2', TMTape('__101', 1))\n",
      "TMConfiguration('q0', TMTape('_0101', 0))\n",
      "TMConfiguration('q1', TMTape('__0101', 0))\n",
      "TMConfiguration('q4', TMTape('_$_0101', 0))\n"
     ]
    }
   ],
   "source": [
    "for i in res:\n",
    "    print(i)"
   ]
  },
  {
   "cell_type": "code",
   "execution_count": 187,
   "metadata": {},
   "outputs": [],
   "source": [
    "split_str = DTM(\n",
    "    states={'q0', 'q1', 'q2', 'q3', 'q4', 'q5', 'q6'},\n",
    "    input_symbols={'0', '1'},\n",
    "    tape_symbols={'0', '1', 'a','b', 'c', 'd', '_'},\n",
    "    transitions={\n",
    "        'q0': {\n",
    "            '1': ('q0', '1', 'L'),\n",
    "            '0': ('q0', '0', 'L'),\n",
    "            'c': ('q1', 'c', 'R'),\n",
    "            'a': ('q1', 'a', 'R'),\n",
    "        },\n",
    "        'q1': {\n",
    "            '1': ('q2', 'c', 'R'),\n",
    "            '0': ('q2', 'a', 'R')\n",
    "        },\n",
    "        'q2': {\n",
    "            '1': ('q3', '1', 'R'),\n",
    "            '0': ('q3', '0', 'R'),\n",
    "        },\n",
    "        'q3': {\n",
    "            '1': ('q3', '1', 'R'),\n",
    "            '0': ('q3', '0', 'R'),\n",
    "            'd': ('q4', 'd', 'L'),\n",
    "            'b': ('q4', 'b', 'L'),\n",
    "            '_': ('q4', '_', 'L')\n",
    "        },\n",
    "        'q4': {\n",
    "            '1': ('q0', 'd', 'L'),\n",
    "            '0': ('q0', 'b', 'L')\n",
    "        },\n",
    "        'q5': {\n",
    "            '1': ('q0', '1', 'L'),\n",
    "            '0': ('q0', '0', 'L'),\n",
    "            'c': ('q6', 'c', 'R'),\n",
    "            'a': ('q6', 'a', 'R'),\n",
    "            'b': ('q6', 'b', 'R'),\n",
    "            'd': ('q6', 'd', 'R')\n",
    "        }\n",
    "    },\n",
    "    initial_state='q1',\n",
    "    blank_symbol='_',\n",
    "    final_states={'q6'}\n",
    ")"
   ]
  },
  {
   "cell_type": "code",
   "execution_count": 188,
   "metadata": {},
   "outputs": [
    {
     "name": "stdout",
     "output_type": "stream",
     "text": [
      "TMConfiguration('q1', TMTape('0101', 0))\n",
      "TMConfiguration('q2', TMTape('a101', 1))\n",
      "TMConfiguration('q3', TMTape('a101', 2))\n",
      "TMConfiguration('q3', TMTape('a101', 3))\n",
      "TMConfiguration('q3', TMTape('a101_', 4))\n",
      "TMConfiguration('q4', TMTape('a101_', 3))\n",
      "TMConfiguration('q0', TMTape('a10d_', 2))\n",
      "TMConfiguration('q0', TMTape('a10d_', 1))\n",
      "TMConfiguration('q0', TMTape('a10d_', 0))\n",
      "TMConfiguration('q1', TMTape('a10d_', 1))\n",
      "TMConfiguration('q2', TMTape('ac0d_', 2))\n",
      "TMConfiguration('q3', TMTape('ac0d_', 3))\n",
      "TMConfiguration('q4', TMTape('ac0d_', 2))\n",
      "TMConfiguration('q0', TMTape('acbd_', 1))\n",
      "TMConfiguration('q1', TMTape('acbd_', 2))\n"
     ]
    },
    {
     "ename": "RejectionException",
     "evalue": "The machine entered a non-final configuration for which no transition is defined (q1, b)",
     "output_type": "error",
     "traceback": [
      "\u001b[1;31m---------------------------------------------------------------------------\u001b[0m",
      "\u001b[1;31mRejectionException\u001b[0m                        Traceback (most recent call last)",
      "\u001b[1;32m~\\AppData\\Local\\Temp/ipykernel_780/3661462228.py\u001b[0m in \u001b[0;36m<module>\u001b[1;34m\u001b[0m\n\u001b[1;32m----> 1\u001b[1;33m \u001b[1;32mfor\u001b[0m \u001b[0mi\u001b[0m \u001b[1;32min\u001b[0m \u001b[0msplit_str\u001b[0m\u001b[1;33m.\u001b[0m\u001b[0mread_input_stepwise\u001b[0m\u001b[1;33m(\u001b[0m\u001b[1;34m'0101'\u001b[0m\u001b[1;33m)\u001b[0m\u001b[1;33m:\u001b[0m\u001b[1;33m\u001b[0m\u001b[1;33m\u001b[0m\u001b[0m\n\u001b[0m\u001b[0;32m      2\u001b[0m     \u001b[0mprint\u001b[0m\u001b[1;33m(\u001b[0m\u001b[0mi\u001b[0m\u001b[1;33m)\u001b[0m\u001b[1;33m\u001b[0m\u001b[1;33m\u001b[0m\u001b[0m\n",
      "\u001b[1;32md:\\Projects\\CourseProjects\\Automata\\venv\\lib\\site-packages\\automata\\tm\\dtm.py\u001b[0m in \u001b[0;36mread_input_stepwise\u001b[1;34m(self, input_str)\u001b[0m\n\u001b[0;32m    131\u001b[0m         \u001b[1;31m# iteration is always guaranteed to run (as it should)\u001b[0m\u001b[1;33m\u001b[0m\u001b[1;33m\u001b[0m\u001b[1;33m\u001b[0m\u001b[0m\n\u001b[0;32m    132\u001b[0m         \u001b[1;32mwhile\u001b[0m \u001b[1;32mnot\u001b[0m \u001b[0mself\u001b[0m\u001b[1;33m.\u001b[0m\u001b[0m_has_accepted\u001b[0m\u001b[1;33m(\u001b[0m\u001b[0mcurrent_configuration\u001b[0m\u001b[1;33m)\u001b[0m\u001b[1;33m:\u001b[0m\u001b[1;33m\u001b[0m\u001b[1;33m\u001b[0m\u001b[0m\n\u001b[1;32m--> 133\u001b[1;33m             current_configuration = self._get_next_configuration(\n\u001b[0m\u001b[0;32m    134\u001b[0m                 \u001b[0mcurrent_configuration\u001b[0m\u001b[1;33m\u001b[0m\u001b[1;33m\u001b[0m\u001b[0m\n\u001b[0;32m    135\u001b[0m             )\n",
      "\u001b[1;32md:\\Projects\\CourseProjects\\Automata\\venv\\lib\\site-packages\\automata\\tm\\dtm.py\u001b[0m in \u001b[0;36m_get_next_configuration\u001b[1;34m(self, old_config)\u001b[0m\n\u001b[0;32m    105\u001b[0m             \u001b[0mtransitions\u001b[0m\u001b[1;33m.\u001b[0m\u001b[0mremove\u001b[0m\u001b[1;33m(\u001b[0m\u001b[1;32mNone\u001b[0m\u001b[1;33m)\u001b[0m\u001b[1;33m\u001b[0m\u001b[1;33m\u001b[0m\u001b[0m\n\u001b[0;32m    106\u001b[0m         \u001b[1;32mif\u001b[0m \u001b[0mlen\u001b[0m\u001b[1;33m(\u001b[0m\u001b[0mtransitions\u001b[0m\u001b[1;33m)\u001b[0m \u001b[1;33m==\u001b[0m \u001b[1;36m0\u001b[0m\u001b[1;33m:\u001b[0m\u001b[1;33m\u001b[0m\u001b[1;33m\u001b[0m\u001b[0m\n\u001b[1;32m--> 107\u001b[1;33m             raise exceptions.RejectionException(\n\u001b[0m\u001b[0;32m    108\u001b[0m                 \u001b[1;34m'The machine entered a non-final configuration for which no '\u001b[0m\u001b[1;33m\u001b[0m\u001b[1;33m\u001b[0m\u001b[0m\n\u001b[0;32m    109\u001b[0m                 'transition is defined ({}, {})'.format(\n",
      "\u001b[1;31mRejectionException\u001b[0m: The machine entered a non-final configuration for which no transition is defined (q1, b)"
     ]
    }
   ],
   "source": [
    "for i in split_str.read_input_stepwise('0101'):\n",
    "    print(i)"
   ]
  }
 ],
 "metadata": {
  "interpreter": {
   "hash": "67176aa62ce702ae4822ae5a2222842b74bf2fe1fdc4a19d69f0ad18bd063919"
  },
  "kernelspec": {
   "display_name": "Python 3.8.0 32-bit ('venv': venv)",
   "name": "python3"
  },
  "language_info": {
   "codemirror_mode": {
    "name": "ipython",
    "version": 3
   },
   "file_extension": ".py",
   "mimetype": "text/x-python",
   "name": "python",
   "nbconvert_exporter": "python",
   "pygments_lexer": "ipython3",
   "version": "3.8.0"
  },
  "orig_nbformat": 4
 },
 "nbformat": 4,
 "nbformat_minor": 2
}
