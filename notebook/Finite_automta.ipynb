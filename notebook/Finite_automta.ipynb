{
 "cells": [
  {
   "cell_type": "markdown",
   "metadata": {},
   "source": [
    "# Finite Automata"
   ]
  },
  {
   "cell_type": "markdown",
   "metadata": {},
   "source": [
    "## Deterministic Finite Automata"
   ]
  },
  {
   "cell_type": "code",
   "execution_count": 1,
   "metadata": {},
   "outputs": [],
   "source": [
    "from automata.fa.dfa import DFA\n",
    "from automata.base.exceptions import RejectionException\n",
    "\n"
   ]
  },
  {
   "cell_type": "code",
   "execution_count": 2,
   "metadata": {},
   "outputs": [],
   "source": [
    "\n",
    "# DFA which matches all binary strings ending in an odd number of '1's\n",
    "dfa = DFA(\n",
    "    states={'q0', 'q1', 'q2'},\n",
    "    input_symbols={'0', '1'},\n",
    "    transitions={\n",
    "        'q0': {'0': 'q0', '1': 'q1'},\n",
    "        'q1': {'0': 'q0', '1': 'q2'},\n",
    "        'q2': {'0': 'q2', '1': 'q1'}\n",
    "    },\n",
    "    initial_state='q0',\n",
    "    final_states={'q1'}\n",
    ")\n"
   ]
  },
  {
   "cell_type": "code",
   "execution_count": 3,
   "metadata": {},
   "outputs": [
    {
     "data": {
      "text/plain": [
       "'q1'"
      ]
     },
     "execution_count": 3,
     "metadata": {},
     "output_type": "execute_result"
    }
   ],
   "source": [
    "dfa.read_input('01')  # returns 'q1'"
   ]
  },
  {
   "cell_type": "code",
   "execution_count": 4,
   "metadata": {},
   "outputs": [
    {
     "name": "stdout",
     "output_type": "stream",
     "text": [
      "The input was rejected\n"
     ]
    }
   ],
   "source": [
    "\n",
    "try:\n",
    "    dfa.read_input('011')  # raises RejectionException\n",
    "except RejectionException:\n",
    "    print(\"The input was rejected\")"
   ]
  },
  {
   "cell_type": "code",
   "execution_count": 5,
   "metadata": {},
   "outputs": [],
   "source": [
    "# DFA which matches all binary strings ending in an odd number of '1's\n",
    "dfa = DFA(\n",
    "    states={'A', 'B', 'C'},\n",
    "    input_symbols={'0', '1'},\n",
    "    transitions={\n",
    "        'A': {'0': 'B', '1': 'A'},\n",
    "        'B': {'0': 'C', '1': 'A'},\n",
    "        'C': {'0': 'C', '1': 'C'}\n",
    "    },\n",
    "    initial_state='A',\n",
    "    final_states={'A', 'B'}\n",
    ")\n"
   ]
  },
  {
   "cell_type": "code",
   "execution_count": 6,
   "metadata": {},
   "outputs": [
    {
     "ename": "RejectionException",
     "evalue": "the DFA stopped on a non-final state (C)",
     "output_type": "error",
     "traceback": [
      "\u001b[1;31m---------------------------------------------------------------------------\u001b[0m",
      "\u001b[1;31mRejectionException\u001b[0m                        Traceback (most recent call last)",
      "\u001b[1;32m~\\AppData\\Local\\Temp/ipykernel_16272/4138755806.py\u001b[0m in \u001b[0;36m<module>\u001b[1;34m\u001b[0m\n\u001b[1;32m----> 1\u001b[1;33m \u001b[0mdfa\u001b[0m\u001b[1;33m.\u001b[0m\u001b[0mread_input\u001b[0m\u001b[1;33m(\u001b[0m\u001b[1;34m'0110011'\u001b[0m\u001b[1;33m)\u001b[0m  \u001b[1;31m# returns 'q1'\u001b[0m\u001b[1;33m\u001b[0m\u001b[1;33m\u001b[0m\u001b[0m\n\u001b[0m",
      "\u001b[1;32md:\\Projects\\CourseProjects\\Automata\\venv\\lib\\site-packages\\automata\\base\\automaton.py\u001b[0m in \u001b[0;36mread_input\u001b[1;34m(self, input_str)\u001b[0m\n\u001b[0;32m     32\u001b[0m         \"\"\"\n\u001b[0;32m     33\u001b[0m         \u001b[0mvalidation_generator\u001b[0m \u001b[1;33m=\u001b[0m \u001b[0mself\u001b[0m\u001b[1;33m.\u001b[0m\u001b[0mread_input_stepwise\u001b[0m\u001b[1;33m(\u001b[0m\u001b[0minput_str\u001b[0m\u001b[1;33m)\u001b[0m\u001b[1;33m\u001b[0m\u001b[1;33m\u001b[0m\u001b[0m\n\u001b[1;32m---> 34\u001b[1;33m         \u001b[1;32mfor\u001b[0m \u001b[0mconfig\u001b[0m \u001b[1;32min\u001b[0m \u001b[0mvalidation_generator\u001b[0m\u001b[1;33m:\u001b[0m\u001b[1;33m\u001b[0m\u001b[1;33m\u001b[0m\u001b[0m\n\u001b[0m\u001b[0;32m     35\u001b[0m             \u001b[1;32mpass\u001b[0m\u001b[1;33m\u001b[0m\u001b[1;33m\u001b[0m\u001b[0m\n\u001b[0;32m     36\u001b[0m         \u001b[1;32mreturn\u001b[0m \u001b[0mconfig\u001b[0m\u001b[1;33m\u001b[0m\u001b[1;33m\u001b[0m\u001b[0m\n",
      "\u001b[1;32md:\\Projects\\CourseProjects\\Automata\\venv\\lib\\site-packages\\automata\\fa\\dfa.py\u001b[0m in \u001b[0;36mread_input_stepwise\u001b[1;34m(self, input_str)\u001b[0m\n\u001b[0;32m    173\u001b[0m             \u001b[1;32myield\u001b[0m \u001b[0mcurrent_state\u001b[0m\u001b[1;33m\u001b[0m\u001b[1;33m\u001b[0m\u001b[0m\n\u001b[0;32m    174\u001b[0m \u001b[1;33m\u001b[0m\u001b[0m\n\u001b[1;32m--> 175\u001b[1;33m         \u001b[0mself\u001b[0m\u001b[1;33m.\u001b[0m\u001b[0m_check_for_input_rejection\u001b[0m\u001b[1;33m(\u001b[0m\u001b[0mcurrent_state\u001b[0m\u001b[1;33m)\u001b[0m\u001b[1;33m\u001b[0m\u001b[1;33m\u001b[0m\u001b[0m\n\u001b[0m\u001b[0;32m    176\u001b[0m \u001b[1;33m\u001b[0m\u001b[0m\n\u001b[0;32m    177\u001b[0m     \u001b[1;32mdef\u001b[0m \u001b[0mminify\u001b[0m\u001b[1;33m(\u001b[0m\u001b[0mself\u001b[0m\u001b[1;33m,\u001b[0m \u001b[0mretain_names\u001b[0m\u001b[1;33m=\u001b[0m\u001b[1;32mTrue\u001b[0m\u001b[1;33m)\u001b[0m\u001b[1;33m:\u001b[0m\u001b[1;33m\u001b[0m\u001b[1;33m\u001b[0m\u001b[0m\n",
      "\u001b[1;32md:\\Projects\\CourseProjects\\Automata\\venv\\lib\\site-packages\\automata\\fa\\dfa.py\u001b[0m in \u001b[0;36m_check_for_input_rejection\u001b[1;34m(self, current_state)\u001b[0m\n\u001b[0;32m    155\u001b[0m         \u001b[1;34m\"\"\"Raise an error if the given config indicates rejected input.\"\"\"\u001b[0m\u001b[1;33m\u001b[0m\u001b[1;33m\u001b[0m\u001b[0m\n\u001b[0;32m    156\u001b[0m         \u001b[1;32mif\u001b[0m \u001b[0mcurrent_state\u001b[0m \u001b[1;32mnot\u001b[0m \u001b[1;32min\u001b[0m \u001b[0mself\u001b[0m\u001b[1;33m.\u001b[0m\u001b[0mfinal_states\u001b[0m\u001b[1;33m:\u001b[0m\u001b[1;33m\u001b[0m\u001b[1;33m\u001b[0m\u001b[0m\n\u001b[1;32m--> 157\u001b[1;33m             raise exceptions.RejectionException(\n\u001b[0m\u001b[0;32m    158\u001b[0m                 'the DFA stopped on a non-final state ({})'.format(\n\u001b[0;32m    159\u001b[0m                     current_state))\n",
      "\u001b[1;31mRejectionException\u001b[0m: the DFA stopped on a non-final state (C)"
     ]
    }
   ],
   "source": [
    "dfa.read_input('0110011')  # returns 'q1'"
   ]
  },
  {
   "cell_type": "markdown",
   "metadata": {},
   "source": [
    "## Quiz 4"
   ]
  },
  {
   "cell_type": "code",
   "execution_count": null,
   "metadata": {},
   "outputs": [],
   "source": [
    "# DFA which matches all binary strings ending in an odd number of '1's\n",
    "dfa = DFA(\n",
    "    states={'A', 'B', 'C'},\n",
    "    input_symbols={'0', '1'},\n",
    "    transitions={\n",
    "        'A': {'0': 'B', '1': 'A'},\n",
    "        'B': {'0': 'C', '1': 'A'},\n",
    "        'C': {'0': 'C', '1': 'C'}\n",
    "    },\n",
    "    initial_state='A',\n",
    "    final_states={'A', 'B'}\n",
    ")"
   ]
  },
  {
   "cell_type": "markdown",
   "metadata": {},
   "source": [
    "## Non-Deterministic Finite Automata"
   ]
  },
  {
   "cell_type": "markdown",
   "metadata": {},
   "source": [
    "# [Automata Toolkit](https://pypi.org/project/automata-toolkit/)"
   ]
  },
  {
   "cell_type": "code",
   "execution_count": null,
   "metadata": {},
   "outputs": [],
   "source": [
    "dfa = {\n",
    "   \"states\": [\n",
    "       \"phi\",\n",
    "       \"A\",\n",
    "       \"B\",\n",
    "       \"C\"\n",
    "    ],\n",
    "    \"initial_state\": \"A\",\n",
    "    \"final_states\":[\n",
    "       \"A\",\"B\"\n",
    "    ],\n",
    "    \"alphabets\": [\n",
    "       \"0\",\"1\"\n",
    "    ],\n",
    "    \"transition_function\": {\n",
    "        \"A\": {\n",
    "            \"0\": \"B\",\n",
    "            \"1\": \"A\"    \n",
    "        },\n",
    "        \"B\": {\n",
    "            \"0\": \"C\",\n",
    "            \"1\": \"A\"    \n",
    "        },\n",
    "        \"C\": {\n",
    "            \"0\": \"C\",\n",
    "            \"1\": \"C\"    \n",
    "        }\n",
    "    },\n",
    "    \"reachable_states\": [\n",
    "        \"A\", \"B\", \"C\"\n",
    "    ],\n",
    "    \"final_reachable_states\": [\n",
    "        \"A\", \"B\", \"C\"\n",
    "    ],\n",
    "}"
   ]
  }
 ],
 "metadata": {
  "interpreter": {
   "hash": "67176aa62ce702ae4822ae5a2222842b74bf2fe1fdc4a19d69f0ad18bd063919"
  },
  "kernelspec": {
   "display_name": "Python 3.8.0 32-bit ('venv': venv)",
   "name": "python3"
  },
  "language_info": {
   "codemirror_mode": {
    "name": "ipython",
    "version": 3
   },
   "file_extension": ".py",
   "mimetype": "text/x-python",
   "name": "python",
   "nbconvert_exporter": "python",
   "pygments_lexer": "ipython3",
   "version": "3.8.0"
  },
  "orig_nbformat": 4
 },
 "nbformat": 4,
 "nbformat_minor": 2
}
