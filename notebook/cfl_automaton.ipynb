{
 "cells": [
  {
   "cell_type": "markdown",
   "metadata": {},
   "source": [
    "# Automate CFL string creation"
   ]
  },
  {
   "cell_type": "code",
   "execution_count": 67,
   "metadata": {},
   "outputs": [],
   "source": [
    "class CFG(object):\n",
    "    '''\n",
    "    Context Free Grammer Implementation,\n",
    "    Functionality:\n",
    "        1) Capable of drawing the chain from start to end for a CFG and and string.\n",
    "        2) Example: cfg = CFG(['S'], {\n",
    "                            'S':[['0', 'S', '0'], ['0', 'S','1', 'S', '0'], ['']]\n",
    "                        })\n",
    "                    dr = cfg.print_derivation('0000010010100', word='0S0')\n",
    "                    print(dr)\n",
    "\n",
    "    '''\n",
    "    def __init__(self, alphabets, rules, ) -> None:\n",
    "        super().__init__()\n",
    "        self.alphabets = alphabets\n",
    "        self.rules = rules\n",
    "    \n",
    "    def derive_helper(self, matchword, word = '', ):\n",
    "        '''\n",
    "        Left most derivation implementation.\n",
    "        '''\n",
    "        try:\n",
    "            index = min([i for i in [word.find(i) for i in self.alphabets] if i >= 0])\n",
    "            if len(word) < 20:\n",
    "                if index != -1:\n",
    "                    derivations = self.replaceLeftMost(word, index)\n",
    "                    for k in derivations:\n",
    "                        chain = self.derive_helper(matchword, k)\n",
    "                        if chain:\n",
    "                            # print(k, end=' <== ')\n",
    "                            chain.append(word)\n",
    "                            return chain\n",
    "                elif matchword == word:\n",
    "                    chain = []\n",
    "                    chain.append(word)\n",
    "                    return chain\n",
    "\n",
    "        except ValueError:\n",
    "            if matchword == word:\n",
    "                chain = []\n",
    "                chain.append(word)\n",
    "                return chain\n",
    "        \n",
    "    def derive(self, matchword, word = ''):\n",
    "        chain = self.derive_helper(matchword, word)\n",
    "        return chain\n",
    "\n",
    "    def print_derivation(self, matchword, word = ''):\n",
    "        chain = self.derive_helper(matchword, word)\n",
    "        if chain and len(chain)>0:\n",
    "            res = \"\"\n",
    "            for i in chain:\n",
    "                res = i + \"|\"+res\n",
    "            return res[:-1].replace('|', ' ==> ')\n",
    "\n",
    "    def print_derivation_automate(self, matchword):\n",
    "        start_word = [''.join(i) for i in cfg_5a.rules['S']]\n",
    "        for i in start_word:\n",
    "            res = self.print_derivation(matchword, i)\n",
    "            if res:\n",
    "                print(res)\n",
    "\n",
    "    def replaceLeftMost(self, word, index):\n",
    "        if index != -1:\n",
    "            symbol = word[index]\n",
    "            return [word[:index]+ ''.join(i)+word[index+1:] for i in self.rules[symbol]]\n",
    "        else:\n",
    "            return None\n",
    "\n"
   ]
  },
  {
   "cell_type": "code",
   "execution_count": 68,
   "metadata": {},
   "outputs": [],
   "source": [
    "cfg = CFG(['S'], {\n",
    "    'S':[['0', 'S', '0'], ['0', 'S','1', 'S', '0'], ['']]\n",
    "    })"
   ]
  },
  {
   "cell_type": "code",
   "execution_count": 69,
   "metadata": {},
   "outputs": [
    {
     "data": {
      "text/plain": [
       "'0S0 ==> 00S1S00 ==> 000S1S01S00 ==> 0000S01S01S00 ==> 00000S1S001S01S00 ==> 000001S001S01S00 ==> 000001001S01S00 ==> 00000100101S00 ==> 0000010010100'"
      ]
     },
     "execution_count": 69,
     "metadata": {},
     "output_type": "execute_result"
    }
   ],
   "source": [
    "dr = cfg.print_derivation('0000010010100', word='0S0')\n",
    "dr"
   ]
  },
  {
   "cell_type": "code",
   "execution_count": 70,
   "metadata": {},
   "outputs": [],
   "source": [
    "cfg_5a = CFG(['S','P', 'C', 'A', 'Q', 'R', 'X', 'Y', 'B'], {\n",
    "    'S':[['P', 'C'], ['A', 'Q'], ['A', 'R'], ['']],\n",
    "    'P':[['X']],\n",
    "    'C':[['2', 'C'], ['2']],\n",
    "    'A':[['0', 'A'], ['0'], ['']],\n",
    "    'Q':[['Y', 'C']],\n",
    "    'R':[['B', 'Y'],],\n",
    "    'X':[['0', 'X', '1'], ['0', '1']],\n",
    "    'Y':[['1', 'Y', '2'], ['1', '2']],\n",
    "    'B':[['1', 'B'], ['1']]\n",
    "    })"
   ]
  },
  {
   "cell_type": "code",
   "execution_count": 71,
   "metadata": {},
   "outputs": [
    {
     "data": {
      "text/plain": [
       "[['P', 'C'], ['A', 'Q'], ['A', 'R'], ['']]"
      ]
     },
     "execution_count": 71,
     "metadata": {},
     "output_type": "execute_result"
    }
   ],
   "source": [
    "cfg_5a.rules['S']"
   ]
  },
  {
   "cell_type": "code",
   "execution_count": 75,
   "metadata": {},
   "outputs": [
    {
     "data": {
      "text/plain": [
       "'AR ==> 0AR ==> 00AR ==> 00R ==> 00BY ==> 001BY ==> 0011BY ==> 00111BY ==> 001111BY ==> 0011111BY ==> 00111111Y ==> 001111111Y2 ==> 0011111111Y22 ==> 00111111111Y222 ==> 001111111111Y2222 ==> 001111111111122222'"
      ]
     },
     "execution_count": 75,
     "metadata": {},
     "output_type": "execute_result"
    }
   ],
   "source": [
    "cfg_5a.print_derivation('001111111111122222', 'AR')"
   ]
  },
  {
   "cell_type": "code",
   "execution_count": 100,
   "metadata": {},
   "outputs": [
    {
     "data": {
      "text/plain": [
       "False"
      ]
     },
     "execution_count": 100,
     "metadata": {},
     "output_type": "execute_result"
    }
   ],
   "source": [
    "import re\n",
    "r = re.compile(r'(.)\\1*')\n",
    "grp = [m.group() for m in r.finditer('000222')]\n",
    "len(grp) == 3 and grp[0].find('0') == 0 and grp[1].find('1') == 0 and grp[2].find('2') == 0 and (len(grp[0]) == len(grp[1]) or len(grp[1]) != len(grp[2]) )\n",
    "\n"
   ]
  },
  {
   "cell_type": "code",
   "execution_count": 85,
   "metadata": {},
   "outputs": [
    {
     "data": {
      "text/plain": [
       "[<re.Match object; span=(0, 3), match='000'>,\n",
       " <re.Match object; span=(3, 6), match='111'>,\n",
       " <re.Match object; span=(6, 9), match='222'>]"
      ]
     },
     "execution_count": 85,
     "metadata": {},
     "output_type": "execute_result"
    }
   ],
   "source": [
    "[m for m in r.finditer('000111222')]"
   ]
  }
 ],
 "metadata": {
  "interpreter": {
   "hash": "67176aa62ce702ae4822ae5a2222842b74bf2fe1fdc4a19d69f0ad18bd063919"
  },
  "kernelspec": {
   "display_name": "Python 3.8.0 32-bit ('venv': venv)",
   "language": "python",
   "name": "python3"
  },
  "language_info": {
   "codemirror_mode": {
    "name": "ipython",
    "version": 3
   },
   "file_extension": ".py",
   "mimetype": "text/x-python",
   "name": "python",
   "nbconvert_exporter": "python",
   "pygments_lexer": "ipython3",
   "version": "3.8.0"
  },
  "orig_nbformat": 4
 },
 "nbformat": 4,
 "nbformat_minor": 2
}
