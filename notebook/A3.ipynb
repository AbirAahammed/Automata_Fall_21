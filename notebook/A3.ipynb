{
 "cells": [
  {
   "cell_type": "markdown",
   "metadata": {},
   "source": [
    "# Assignment Answers"
   ]
  },
  {
   "cell_type": "code",
   "execution_count": 1,
   "metadata": {},
   "outputs": [],
   "source": [
    "import re\n",
    "import ast\n",
    "from automata.fa.nfa import NFA\n",
    "from automata.fa.dfa import DFA\n"
   ]
  },
  {
   "cell_type": "code",
   "execution_count": 2,
   "metadata": {},
   "outputs": [],
   "source": [
    "regex = '1+0+$+(1+0+$)(1+0)*(1+0+$)'"
   ]
  },
  {
   "cell_type": "code",
   "execution_count": 3,
   "metadata": {},
   "outputs": [
    {
     "name": "stdout",
     "output_type": "stream",
     "text": [
      "[]\n",
      "No match\n"
     ]
    }
   ],
   "source": [
    "txt = \"01\"\n",
    "regex = \"(0|1)0\"\n",
    "x = re.findall(regex, txt)\n",
    "\n",
    "print(x)\n",
    "\n",
    "if x:\n",
    "  print(\"Yes, there is at least one match!\")\n",
    "else:\n",
    "  print(\"No match\")\n"
   ]
  },
  {
   "cell_type": "code",
   "execution_count": 4,
   "metadata": {},
   "outputs": [
    {
     "name": "stdout",
     "output_type": "stream",
     "text": [
      "1 | 0+$+(1+0+$)(1+0)*(1+0+$)\n"
     ]
    }
   ],
   "source": [
    "reg = '1+0+$+(1+0+$)(1+0)*(1+0+$)'\n",
    "print(reg[:reg.find('+')], '|',reg[reg.find('+')+1:])"
   ]
  },
  {
   "cell_type": "code",
   "execution_count": 5,
   "metadata": {},
   "outputs": [],
   "source": [
    "# defining string \n",
    "def getOccurenceIndex(str, c):\n",
    "    return [i for i in range(len(str)) if str.startswith(c, i)]"
   ]
  },
  {
   "cell_type": "code",
   "execution_count": 6,
   "metadata": {},
   "outputs": [
    {
     "data": {
      "text/plain": [
       "[1, 3, 5, 8, 10, 15, 21, 23]"
      ]
     },
     "execution_count": 6,
     "metadata": {},
     "output_type": "execute_result"
    }
   ],
   "source": [
    "getOccurenceIndex(reg, '+')"
   ]
  },
  {
   "cell_type": "code",
   "execution_count": 7,
   "metadata": {},
   "outputs": [
    {
     "data": {
      "text/plain": [
       "[6, 13, 19]"
      ]
     },
     "execution_count": 7,
     "metadata": {},
     "output_type": "execute_result"
    }
   ],
   "source": [
    "getOccurenceIndex(reg, '(')"
   ]
  },
  {
   "cell_type": "code",
   "execution_count": 8,
   "metadata": {},
   "outputs": [
    {
     "data": {
      "text/plain": [
       "[12, 17, 25]"
      ]
     },
     "execution_count": 8,
     "metadata": {},
     "output_type": "execute_result"
    }
   ],
   "source": [
    "getOccurenceIndex(reg, ')')"
   ]
  },
  {
   "cell_type": "code",
   "execution_count": 9,
   "metadata": {},
   "outputs": [],
   "source": [
    "res = []\n",
    "while reg.find('+') < reg.find('('):\n",
    "    res += reg[:reg.find('+')]\n",
    "    reg = reg[reg.find('+')+1:]"
   ]
  },
  {
   "cell_type": "code",
   "execution_count": 10,
   "metadata": {},
   "outputs": [
    {
     "data": {
      "text/plain": [
       "6"
      ]
     },
     "execution_count": 10,
     "metadata": {},
     "output_type": "execute_result"
    }
   ],
   "source": [
    "reg.find(')')"
   ]
  },
  {
   "cell_type": "code",
   "execution_count": 11,
   "metadata": {},
   "outputs": [
    {
     "data": {
      "text/plain": [
       "13"
      ]
     },
     "execution_count": 11,
     "metadata": {},
     "output_type": "execute_result"
    }
   ],
   "source": [
    "reg.rfind('(')"
   ]
  },
  {
   "cell_type": "code",
   "execution_count": 12,
   "metadata": {},
   "outputs": [],
   "source": [
    "p = ['1', '0']"
   ]
  },
  {
   "cell_type": "code",
   "execution_count": 13,
   "metadata": {},
   "outputs": [
    {
     "name": "stdout",
     "output_type": "stream",
     "text": [
      "('0', '1', '2')\n",
      "('0', '1', '3')\n",
      "('0', '2', '3')\n",
      "('1', '2', '3')\n"
     ]
    }
   ],
   "source": [
    "import itertools\n",
    "items = ['0', '1', '2', '3']\n",
    "for i in itertools.combinations(items, 3):\n",
    "    print(i)"
   ]
  },
  {
   "cell_type": "code",
   "execution_count": 14,
   "metadata": {},
   "outputs": [],
   "source": [
    "from itertools import chain, combinations\n",
    "\n",
    "def powerset(iterable):\n",
    "    \"powerset([1,2,3]) --> () (1,) (2,) (3,) (1,2) (1,3) (2,3) (1,2,3)\"\n",
    "    s = list(iterable)\n",
    "    return chain.from_iterable(combinations(s, r) for r in range(len(s)+1))"
   ]
  },
  {
   "cell_type": "code",
   "execution_count": 15,
   "metadata": {},
   "outputs": [
    {
     "data": {
      "text/plain": [
       "[(), (0,), (1,), (2,), (0, 1), (0, 2), (1, 2), (0, 1, 2)]"
      ]
     },
     "execution_count": 15,
     "metadata": {},
     "output_type": "execute_result"
    }
   ],
   "source": [
    "[i for i in powerset([0,1,2])]"
   ]
  },
  {
   "cell_type": "markdown",
   "metadata": {},
   "source": [
    "# Testing Q3"
   ]
  },
  {
   "cell_type": "code",
   "execution_count": 16,
   "metadata": {},
   "outputs": [],
   "source": [
    "# NFA which matches strings beginning with 'a', ending with 'a', and containing\n",
    "# no consecutive 'b's\n",
    "nfa = NFA(\n",
    "    states={'a', 'b', 'c'},\n",
    "    input_symbols={'0', '1'},\n",
    "    transitions={\n",
    "        'a': {'0': {'b'}, '': {'b'}},\n",
    "        # Use '' as the key name for empty string (lambda/epsilon) transitions\n",
    "        'b': {'0': {'c', 'a'}, '1': {'c', 'b'}},\n",
    "        'c': {'0': {'c'}, '1': {'b'}}\n",
    "    },\n",
    "    initial_state='a',\n",
    "    final_states={'b'}\n",
    ")"
   ]
  },
  {
   "cell_type": "code",
   "execution_count": 17,
   "metadata": {},
   "outputs": [],
   "source": [
    "# DFA which matches all binary strings ending in an odd number of '1's\n",
    "dfa = DFA(\n",
    "    states={'A', 'B', 'C'},\n",
    "    input_symbols={'0', '1'},\n",
    "    transitions={\n",
    "        'A': {'0': 'A', '1': 'B'},\n",
    "        'B': {'0': 'C', '1': 'B'},\n",
    "        'C': {'0': 'C', '1': 'B'}\n",
    "    },\n",
    "    initial_state='A',\n",
    "    final_states={'A', 'B', 'C'}\n",
    ")"
   ]
  },
  {
   "cell_type": "code",
   "execution_count": 18,
   "metadata": {},
   "outputs": [
    {
     "data": {
      "text/plain": [
       "True"
      ]
     },
     "execution_count": 18,
     "metadata": {},
     "output_type": "execute_result"
    }
   ],
   "source": [
    "dfa.accepts_input('')"
   ]
  },
  {
   "cell_type": "code",
   "execution_count": 19,
   "metadata": {},
   "outputs": [
    {
     "data": {
      "text/plain": [
       "True"
      ]
     },
     "execution_count": 19,
     "metadata": {},
     "output_type": "execute_result"
    }
   ],
   "source": [
    "nfa.accepts_input('')"
   ]
  },
  {
   "cell_type": "code",
   "execution_count": 20,
   "metadata": {},
   "outputs": [],
   "source": [
    "binStr = None\n",
    "with open('D:\\\\Projects\\\\CourseProjects\\\\Automata\\\\Scripts\\\\gendata.txt', 'r') as f:\n",
    "    binStr = f.read().split('\\n')\n",
    "    f.close()"
   ]
  },
  {
   "cell_type": "code",
   "execution_count": 24,
   "metadata": {},
   "outputs": [],
   "source": [
    "simple_bin_dfa = DFA(\n",
    "    states={'A'},\n",
    "    input_symbols={'0', '1'},\n",
    "    transitions={\n",
    "        'A': {'0': 'A', '1': 'A'}\n",
    "    },\n",
    "    initial_state='A',\n",
    "    final_states={'A'}\n",
    ")"
   ]
  },
  {
   "cell_type": "code",
   "execution_count": 21,
   "metadata": {},
   "outputs": [],
   "source": [
    "class ValidationError(Exception):\n",
    "    pass\n",
    "\n",
    "for i in binStr:\n",
    "    if not dfa.accepts_input(i):\n",
    "        raise ValidationError('Invalid result, Input : {}'.format(i))"
   ]
  },
  {
   "cell_type": "code",
   "execution_count": 27,
   "metadata": {},
   "outputs": [],
   "source": [
    "for i in binStr:\n",
    "    if not (dfa.accepts_input(i) == simple_bin_dfa.accepts_input(i) == nfa.accepts_input(i)):\n",
    "                raise ValidationError('Invalid result, Input : {}'.format(i))"
   ]
  },
  {
   "cell_type": "code",
   "execution_count": 28,
   "metadata": {},
   "outputs": [
    {
     "data": {
      "text/plain": [
       "(True, True, True)"
      ]
     },
     "execution_count": 28,
     "metadata": {},
     "output_type": "execute_result"
    }
   ],
   "source": [
    "i = ''\n",
    "dfa.accepts_input(i), simple_bin_dfa.accepts_input(i), nfa.accepts_input(i)"
   ]
  },
  {
   "cell_type": "markdown",
   "metadata": {},
   "source": [
    "# Question 4 Testing"
   ]
  },
  {
   "cell_type": "code",
   "execution_count": 30,
   "metadata": {},
   "outputs": [],
   "source": [
    "dfa_a = DFA(\n",
    "    states={'A', 'B', 'C', 'D','E'},\n",
    "    input_symbols={'0', '1'},\n",
    "    transitions={\n",
    "        'A': {'0': 'C', '1': 'B'},\n",
    "        'B': {'0': 'E', '1': 'D'},\n",
    "        'C': {'0': 'A', '1': 'D'},\n",
    "        'D': {'0': 'E', '1': 'B'},\n",
    "        'E': {'0': 'E', '1': 'E'}\n",
    "    },\n",
    "    initial_state='A',\n",
    "    final_states={'B', 'C'}\n",
    ")"
   ]
  },
  {
   "cell_type": "code",
   "execution_count": 48,
   "metadata": {},
   "outputs": [],
   "source": [
    "for i in binStr:\n",
    "    if dfa_a.accepts_input(i):\n",
    "        res = i.split('01')\n",
    "        if (len(res) == 1):\n",
    "            if len(res[0]) % 2 != 1:\n",
    "                raise ValidationError('Invalid result, Input : {}'.format(i))\n",
    "        else:\n",
    "            res[0] = res[0]+'0'\n",
    "            res[1] = res[1]+'1'\n",
    "            if res[0].find('1') == -1 and res[1].find('0') == -1:\n",
    "                if (len(res[0]) + len(res[1])) % 2 != 1:\n",
    "                    raise ValidationError('Invalid result, Input : {}'.format(i))  \n",
    "\n",
    "            "
   ]
  },
  {
   "cell_type": "code",
   "execution_count": null,
   "metadata": {},
   "outputs": [],
   "source": []
  },
  {
   "cell_type": "code",
   "execution_count": null,
   "metadata": {},
   "outputs": [],
   "source": []
  },
  {
   "cell_type": "code",
   "execution_count": 50,
   "metadata": {},
   "outputs": [],
   "source": [
    "dfa_b = DFA(\n",
    "    states={'A', 'B', 'C'},\n",
    "    input_symbols={'0', '1'},\n",
    "    transitions={\n",
    "        'A': {'0': 'A', '1': 'B'},\n",
    "        'B': {'0': 'B', '1': 'C'},\n",
    "        'C': {'0': 'C', '1': 'A'}\n",
    "    },\n",
    "    initial_state='A',\n",
    "    final_states={'A'}\n",
    ")"
   ]
  },
  {
   "cell_type": "code",
   "execution_count": 53,
   "metadata": {},
   "outputs": [],
   "source": [
    "for i in binStr:\n",
    "    if dfa_b.accepts_input(i):\n",
    "        if (i.count('1') % 3 != 0):\n",
    "            raise ValidationError('Invalid result, Input : {}'.format(i))  \n",
    "\n"
   ]
  },
  {
   "cell_type": "code",
   "execution_count": 54,
   "metadata": {},
   "outputs": [
    {
     "data": {
      "text/plain": [
       "True"
      ]
     },
     "execution_count": 54,
     "metadata": {},
     "output_type": "execute_result"
    }
   ],
   "source": [
    "dfa_b.accepts_input('')"
   ]
  },
  {
   "cell_type": "code",
   "execution_count": 80,
   "metadata": {},
   "outputs": [],
   "source": [
    "dfa_c = DFA(\n",
    "    states={'A', 'B', 'C', 'D', 'E', 'F', 'G', 'H', 'I','J', 'K', 'L', 'M'},\n",
    "    input_symbols={'0', '1'},\n",
    "    transitions={\n",
    "        'A': {'0': 'B', '1': 'C'},\n",
    "        'B': {'0': 'D', '1': 'C'},\n",
    "        'C': {'0': 'B', '1': 'E'},\n",
    "        'D': {'0': 'F', '1': 'C'},\n",
    "        'E': {'0': 'B', '1': 'G'},\n",
    "        'F': {'0': 'F', '1': 'H'},\n",
    "        'G': {'0': 'I', '1': 'G'},\n",
    "        'H': {'0': 'F', '1': 'J'},\n",
    "        'I': {'0': 'K', '1': 'G'},\n",
    "        'J': {'0': 'F', '1': 'L'},\n",
    "        'K': {'0': 'M', '1': 'G'},\n",
    "        'L': {'0': 'L', '1': 'L'},\n",
    "        'M': {'0': 'M', '1': 'M'}\n",
    "    },\n",
    "    initial_state='A',\n",
    "    final_states={'F', 'G', 'H', 'I', 'J', 'K'}\n",
    ")"
   ]
  },
  {
   "cell_type": "code",
   "execution_count": 81,
   "metadata": {},
   "outputs": [],
   "source": [
    "for i in binStr:\n",
    "    if dfa_c.accepts_input(i):\n",
    "        found_000 = i.find('000') != -1\n",
    "        found_111 = i.find('111') != -1\n",
    "        if not ((found_000 and not found_111) or (not found_000 and found_111)):\n",
    "            raise ValidationError('Invalid result, Input : {}'.format(i)) \n",
    "    else:\n",
    "        found_000 = i.find('000') != -1\n",
    "        found_111 = i.find('111') != -1\n",
    "        if ((found_000 and not found_111) or (not found_000 and found_111)):\n",
    "            raise ValidationError('Invalid result, Input : {}'.format(i)) "
   ]
  },
  {
   "cell_type": "code",
   "execution_count": null,
   "metadata": {},
   "outputs": [],
   "source": []
  },
  {
   "cell_type": "code",
   "execution_count": 62,
   "metadata": {},
   "outputs": [
    {
     "ename": "ValidationError",
     "evalue": "Invalid result, Input : 000111",
     "output_type": "error",
     "traceback": [
      "\u001b[1;31m---------------------------------------------------------------------------\u001b[0m",
      "\u001b[1;31mValidationError\u001b[0m                           Traceback (most recent call last)",
      "\u001b[1;32m~\\AppData\\Local\\Temp/ipykernel_21832/2050181805.py\u001b[0m in \u001b[0;36m<module>\u001b[1;34m\u001b[0m\n\u001b[0;32m      4\u001b[0m \u001b[0mfound_111\u001b[0m \u001b[1;33m=\u001b[0m \u001b[0mi\u001b[0m\u001b[1;33m.\u001b[0m\u001b[0mfind\u001b[0m\u001b[1;33m(\u001b[0m\u001b[1;34m'111'\u001b[0m\u001b[1;33m)\u001b[0m \u001b[1;33m!=\u001b[0m \u001b[1;33m-\u001b[0m\u001b[1;36m1\u001b[0m\u001b[1;33m\u001b[0m\u001b[1;33m\u001b[0m\u001b[0m\n\u001b[0;32m      5\u001b[0m \u001b[1;32mif\u001b[0m \u001b[1;32mnot\u001b[0m \u001b[1;33m(\u001b[0m\u001b[1;33m(\u001b[0m\u001b[0mfound_000\u001b[0m \u001b[1;32mand\u001b[0m \u001b[1;32mnot\u001b[0m \u001b[0mfound_111\u001b[0m\u001b[1;33m)\u001b[0m \u001b[1;32mor\u001b[0m \u001b[1;33m(\u001b[0m\u001b[1;32mnot\u001b[0m \u001b[0mfound_000\u001b[0m \u001b[1;32mand\u001b[0m \u001b[0mfound_111\u001b[0m\u001b[1;33m)\u001b[0m\u001b[1;33m)\u001b[0m\u001b[1;33m:\u001b[0m\u001b[1;33m\u001b[0m\u001b[1;33m\u001b[0m\u001b[0m\n\u001b[1;32m----> 6\u001b[1;33m     \u001b[1;32mraise\u001b[0m \u001b[0mValidationError\u001b[0m\u001b[1;33m(\u001b[0m\u001b[1;34m'Invalid result, Input : {}'\u001b[0m\u001b[1;33m.\u001b[0m\u001b[0mformat\u001b[0m\u001b[1;33m(\u001b[0m\u001b[0mi\u001b[0m\u001b[1;33m)\u001b[0m\u001b[1;33m)\u001b[0m\u001b[1;33m\u001b[0m\u001b[1;33m\u001b[0m\u001b[0m\n\u001b[0m",
      "\u001b[1;31mValidationError\u001b[0m: Invalid result, Input : 000111"
     ]
    }
   ],
   "source": [
    "dfa_c.accepts_input('000')\n",
    "i = '000111'\n",
    "found_000 = i.find('000') != -1\n",
    "found_111 = i.find('111') != -1\n",
    "if not ((found_000 and not found_111) or (not found_000 and found_111)):\n",
    "    raise ValidationError('Invalid result, Input : {}'.format(i))  "
   ]
  },
  {
   "cell_type": "code",
   "execution_count": null,
   "metadata": {},
   "outputs": [],
   "source": []
  },
  {
   "cell_type": "code",
   "execution_count": 75,
   "metadata": {},
   "outputs": [],
   "source": [
    "nfa_c = NFA(\n",
    "    states={'A', 'B', 'C', 'D', 'E', 'F', 'G', 'H', 'I', 'J', 'K', 'L', 'M', 'N', 'O'},\n",
    "    input_symbols={'0', '1'},\n",
    "    transitions={\n",
    "        'A': {'': {'B', 'I'}},\n",
    "        'B': {'0': {'J'}, '1': {'C'}},\n",
    "        'C': {'0': {'B'}, '1': {'D'}},\n",
    "        'D': {'0': {'B'}, '1': {'E'}},\n",
    "        'E': {'0': {'F'}, '1': {'E'}},\n",
    "        'F': {'0': {'G'}, '1': {'E'}},\n",
    "        'G': {'0': {'H'}, '1': {'E'}},\n",
    "        'H': {'0': {'H'}, '1': {'H'}},\n",
    "        'I': {'0': {'J'}, '1': {'C'}},\n",
    "        'J': {'0': {'K'}, '1': {'I'}},\n",
    "        'K': {'0': {'L'}, '1': {'I'}},\n",
    "        'L': {'0': {'L'}, '1': {'M'}},\n",
    "        'M': {'0': {'L'}, '1': {'N'}},\n",
    "        'N': {'0': {'L'}, '1': {'O'}},\n",
    "        'O': {'0': {'O'}, '1': {'O'}}\n",
    "    },\n",
    "    initial_state='A',\n",
    "    final_states={'E', 'F', 'G', 'L', 'M', 'N'}\n",
    ")"
   ]
  },
  {
   "cell_type": "code",
   "execution_count": 76,
   "metadata": {},
   "outputs": [
    {
     "data": {
      "text/plain": [
       "False"
      ]
     },
     "execution_count": 76,
     "metadata": {},
     "output_type": "execute_result"
    }
   ],
   "source": [
    "nfa_c.accepts_input('000111')"
   ]
  },
  {
   "cell_type": "code",
   "execution_count": 77,
   "metadata": {},
   "outputs": [
    {
     "name": "stdout",
     "output_type": "stream",
     "text": [
      "{'B', 'I', 'A'}\n",
      "{'J'}\n",
      "{'K'}\n",
      "{'L'}\n",
      "{'M'}\n",
      "{'N'}\n",
      "{'O'}\n"
     ]
    },
    {
     "ename": "RejectionException",
     "evalue": "the NFA stopped on all non-final states (O)",
     "output_type": "error",
     "traceback": [
      "\u001b[1;31m---------------------------------------------------------------------------\u001b[0m",
      "\u001b[1;31mRejectionException\u001b[0m                        Traceback (most recent call last)",
      "\u001b[1;32m~\\AppData\\Local\\Temp/ipykernel_21832/1678474291.py\u001b[0m in \u001b[0;36m<module>\u001b[1;34m\u001b[0m\n\u001b[1;32m----> 1\u001b[1;33m \u001b[1;32mfor\u001b[0m \u001b[0mi\u001b[0m \u001b[1;32min\u001b[0m \u001b[0mnfa_c\u001b[0m\u001b[1;33m.\u001b[0m\u001b[0mread_input_stepwise\u001b[0m\u001b[1;33m(\u001b[0m\u001b[1;34m'000111'\u001b[0m\u001b[1;33m)\u001b[0m\u001b[1;33m:\u001b[0m\u001b[1;33m\u001b[0m\u001b[1;33m\u001b[0m\u001b[0m\n\u001b[0m\u001b[0;32m      2\u001b[0m     \u001b[0mprint\u001b[0m\u001b[1;33m(\u001b[0m\u001b[0mi\u001b[0m\u001b[1;33m)\u001b[0m\u001b[1;33m\u001b[0m\u001b[1;33m\u001b[0m\u001b[0m\n",
      "\u001b[1;32md:\\Projects\\CourseProjects\\Automata\\venv\\lib\\site-packages\\automata\\fa\\nfa.py\u001b[0m in \u001b[0;36mread_input_stepwise\u001b[1;34m(self, input_str)\u001b[0m\n\u001b[0;32m    130\u001b[0m             \u001b[1;32myield\u001b[0m \u001b[0mcurrent_states\u001b[0m\u001b[1;33m\u001b[0m\u001b[1;33m\u001b[0m\u001b[0m\n\u001b[0;32m    131\u001b[0m \u001b[1;33m\u001b[0m\u001b[0m\n\u001b[1;32m--> 132\u001b[1;33m         \u001b[0mself\u001b[0m\u001b[1;33m.\u001b[0m\u001b[0m_check_for_input_rejection\u001b[0m\u001b[1;33m(\u001b[0m\u001b[0mcurrent_states\u001b[0m\u001b[1;33m)\u001b[0m\u001b[1;33m\u001b[0m\u001b[1;33m\u001b[0m\u001b[0m\n\u001b[0m\u001b[0;32m    133\u001b[0m \u001b[1;33m\u001b[0m\u001b[0m\n\u001b[0;32m    134\u001b[0m     \u001b[1;32mdef\u001b[0m \u001b[0mconcatenate\u001b[0m\u001b[1;33m(\u001b[0m\u001b[0mself\u001b[0m\u001b[1;33m,\u001b[0m \u001b[0mother\u001b[0m\u001b[1;33m)\u001b[0m\u001b[1;33m:\u001b[0m\u001b[1;33m\u001b[0m\u001b[1;33m\u001b[0m\u001b[0m\n",
      "\u001b[1;32md:\\Projects\\CourseProjects\\Automata\\venv\\lib\\site-packages\\automata\\fa\\nfa.py\u001b[0m in \u001b[0;36m_check_for_input_rejection\u001b[1;34m(self, current_states)\u001b[0m\n\u001b[0;32m    112\u001b[0m         \u001b[1;34m\"\"\"Raise an error if the given config indicates rejected input.\"\"\"\u001b[0m\u001b[1;33m\u001b[0m\u001b[1;33m\u001b[0m\u001b[0m\n\u001b[0;32m    113\u001b[0m         \u001b[1;32mif\u001b[0m \u001b[1;32mnot\u001b[0m \u001b[1;33m(\u001b[0m\u001b[0mcurrent_states\u001b[0m \u001b[1;33m&\u001b[0m \u001b[0mself\u001b[0m\u001b[1;33m.\u001b[0m\u001b[0mfinal_states\u001b[0m\u001b[1;33m)\u001b[0m\u001b[1;33m:\u001b[0m\u001b[1;33m\u001b[0m\u001b[1;33m\u001b[0m\u001b[0m\n\u001b[1;32m--> 114\u001b[1;33m             raise exceptions.RejectionException(\n\u001b[0m\u001b[0;32m    115\u001b[0m                 'the NFA stopped on all non-final states ({})'.format(\n\u001b[0;32m    116\u001b[0m                     ', '.join(str(state) for state in current_states)))\n",
      "\u001b[1;31mRejectionException\u001b[0m: the NFA stopped on all non-final states (O)"
     ]
    }
   ],
   "source": [
    "for i in nfa_c.read_input_stepwise('000111'):\n",
    "    print(i)"
   ]
  },
  {
   "cell_type": "code",
   "execution_count": null,
   "metadata": {},
   "outputs": [],
   "source": []
  }
 ],
 "metadata": {
  "interpreter": {
   "hash": "67176aa62ce702ae4822ae5a2222842b74bf2fe1fdc4a19d69f0ad18bd063919"
  },
  "kernelspec": {
   "display_name": "Python 3.8.0 32-bit ('venv': venv)",
   "name": "python3"
  },
  "language_info": {
   "codemirror_mode": {
    "name": "ipython",
    "version": 3
   },
   "file_extension": ".py",
   "mimetype": "text/x-python",
   "name": "python",
   "nbconvert_exporter": "python",
   "pygments_lexer": "ipython3",
   "version": "3.8.0"
  },
  "orig_nbformat": 4
 },
 "nbformat": 4,
 "nbformat_minor": 2
}
