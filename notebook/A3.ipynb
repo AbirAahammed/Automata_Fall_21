{
 "cells": [
  {
   "cell_type": "markdown",
   "metadata": {},
   "source": [
    "# Assignment Answers"
   ]
  },
  {
   "cell_type": "code",
   "execution_count": 22,
   "metadata": {},
   "outputs": [],
   "source": [
    "import re\n",
    "import ast"
   ]
  },
  {
   "cell_type": "code",
   "execution_count": 4,
   "metadata": {},
   "outputs": [],
   "source": [
    "regex = '1+0+$+(1+0+$)(1+0)*(1+0+$)'"
   ]
  },
  {
   "cell_type": "code",
   "execution_count": 20,
   "metadata": {},
   "outputs": [
    {
     "name": "stdout",
     "output_type": "stream",
     "text": [
      "[]\n",
      "No match\n"
     ]
    }
   ],
   "source": [
    "txt = \"01\"\n",
    "regex = \"(0|1)0\"\n",
    "x = re.findall(regex, txt)\n",
    "\n",
    "print(x)\n",
    "\n",
    "if x:\n",
    "  print(\"Yes, there is at least one match!\")\n",
    "else:\n",
    "  print(\"No match\")\n"
   ]
  },
  {
   "cell_type": "code",
   "execution_count": 63,
   "metadata": {},
   "outputs": [
    {
     "name": "stdout",
     "output_type": "stream",
     "text": [
      "1 | 0+$+(1+0+$)(1+0)*(1+0+$)\n"
     ]
    }
   ],
   "source": [
    "reg = '1+0+$+(1+0+$)(1+0)*(1+0+$)'\n",
    "print(reg[:reg.find('+')], '|',reg[reg.find('+')+1:])"
   ]
  },
  {
   "cell_type": "code",
   "execution_count": 65,
   "metadata": {},
   "outputs": [
    {
     "name": "stdout",
     "output_type": "stream",
     "text": [
      "The original string is : 1+0+$+(1+0+$)(1+0)*(1+0+$)\n",
      "The substring to find : (\n",
      "The start indices of the substrings are : [6, 13, 19]\n"
     ]
    }
   ],
   "source": [
    "# defining string \n",
    "def getOccurenceIndex(str, c):\n",
    "    return [i for i in range(len(str)) if str.startswith(c, i)]"
   ]
  },
  {
   "cell_type": "code",
   "execution_count": 60,
   "metadata": {},
   "outputs": [],
   "source": [
    "res = []\n",
    "while reg.find('+') < reg.find('('):\n",
    "    res += reg[:reg.find('+')]\n",
    "    reg = reg[reg.find('+')+1:]"
   ]
  },
  {
   "cell_type": "code",
   "execution_count": 61,
   "metadata": {},
   "outputs": [
    {
     "data": {
      "text/plain": [
       "6"
      ]
     },
     "execution_count": 61,
     "metadata": {},
     "output_type": "execute_result"
    }
   ],
   "source": [
    "reg.find(')')"
   ]
  },
  {
   "cell_type": "code",
   "execution_count": 62,
   "metadata": {},
   "outputs": [
    {
     "data": {
      "text/plain": [
       "13"
      ]
     },
     "execution_count": 62,
     "metadata": {},
     "output_type": "execute_result"
    }
   ],
   "source": [
    "reg.rfind('(')"
   ]
  }
 ],
 "metadata": {
  "interpreter": {
   "hash": "67176aa62ce702ae4822ae5a2222842b74bf2fe1fdc4a19d69f0ad18bd063919"
  },
  "kernelspec": {
   "display_name": "Python 3.8.0 32-bit ('venv': venv)",
   "name": "python3"
  },
  "language_info": {
   "codemirror_mode": {
    "name": "ipython",
    "version": 3
   },
   "file_extension": ".py",
   "mimetype": "text/x-python",
   "name": "python",
   "nbconvert_exporter": "python",
   "pygments_lexer": "ipython3",
   "version": "3.8.0"
  },
  "orig_nbformat": 4
 },
 "nbformat": 4,
 "nbformat_minor": 2
}
