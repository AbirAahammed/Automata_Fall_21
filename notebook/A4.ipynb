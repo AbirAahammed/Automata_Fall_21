{
 "cells": [
  {
   "cell_type": "markdown",
   "metadata": {},
   "source": [
    "# TM for Q4"
   ]
  },
  {
   "cell_type": "code",
   "execution_count": 1,
   "metadata": {},
   "outputs": [],
   "source": [
    "from automata.tm.dtm import DTM"
   ]
  },
  {
   "cell_type": "code",
   "execution_count": 8,
   "metadata": {},
   "outputs": [
    {
     "ename": "InvalidDirectionError",
     "evalue": "result direction is not valid (S)",
     "output_type": "error",
     "traceback": [
      "\u001b[1;31m---------------------------------------------------------------------------\u001b[0m",
      "\u001b[1;31mInvalidDirectionError\u001b[0m                     Traceback (most recent call last)",
      "\u001b[1;32m~\\AppData\\Local\\Temp/ipykernel_27620/1087375846.py\u001b[0m in \u001b[0;36m<module>\u001b[1;34m\u001b[0m\n\u001b[1;32m----> 1\u001b[1;33m U_TM = DTM(\n\u001b[0m\u001b[0;32m      2\u001b[0m     states={'q0', 'q1', 'q2', 'q3', 'q4', 'q5', 'q6',\n\u001b[0;32m      3\u001b[0m     'q7', 'q8', 'q9', 'q10', 'q11', 'q12', 'q13'},\n\u001b[0;32m      4\u001b[0m     \u001b[0minput_symbols\u001b[0m\u001b[1;33m=\u001b[0m\u001b[1;33m{\u001b[0m\u001b[1;34m'0'\u001b[0m\u001b[1;33m,\u001b[0m \u001b[1;34m'1'\u001b[0m\u001b[1;33m}\u001b[0m\u001b[1;33m,\u001b[0m\u001b[1;33m\u001b[0m\u001b[1;33m\u001b[0m\u001b[0m\n\u001b[0;32m      5\u001b[0m     \u001b[0mtape_symbols\u001b[0m\u001b[1;33m=\u001b[0m\u001b[1;33m{\u001b[0m\u001b[1;34m'0'\u001b[0m\u001b[1;33m,\u001b[0m \u001b[1;34m'1'\u001b[0m\u001b[1;33m,\u001b[0m \u001b[1;34m'x'\u001b[0m\u001b[1;33m,\u001b[0m\u001b[1;34m'$'\u001b[0m\u001b[1;33m,\u001b[0m \u001b[1;34m'#'\u001b[0m\u001b[1;33m,\u001b[0m \u001b[1;34m'_'\u001b[0m\u001b[1;33m}\u001b[0m\u001b[1;33m,\u001b[0m\u001b[1;33m\u001b[0m\u001b[1;33m\u001b[0m\u001b[0m\n",
      "\u001b[1;32md:\\Projects\\CourseProjects\\Automata\\venv\\lib\\site-packages\\automata\\tm\\dtm.py\u001b[0m in \u001b[0;36m__init__\u001b[1;34m(self, states, input_symbols, tape_symbols, transitions, initial_state, blank_symbol, final_states)\u001b[0m\n\u001b[0;32m     25\u001b[0m         \u001b[0mself\u001b[0m\u001b[1;33m.\u001b[0m\u001b[0mblank_symbol\u001b[0m \u001b[1;33m=\u001b[0m \u001b[0mblank_symbol\u001b[0m\u001b[1;33m\u001b[0m\u001b[1;33m\u001b[0m\u001b[0m\n\u001b[0;32m     26\u001b[0m         \u001b[0mself\u001b[0m\u001b[1;33m.\u001b[0m\u001b[0mfinal_states\u001b[0m \u001b[1;33m=\u001b[0m \u001b[0mfinal_states\u001b[0m\u001b[1;33m.\u001b[0m\u001b[0mcopy\u001b[0m\u001b[1;33m(\u001b[0m\u001b[1;33m)\u001b[0m\u001b[1;33m\u001b[0m\u001b[1;33m\u001b[0m\u001b[0m\n\u001b[1;32m---> 27\u001b[1;33m         \u001b[0mself\u001b[0m\u001b[1;33m.\u001b[0m\u001b[0mvalidate\u001b[0m\u001b[1;33m(\u001b[0m\u001b[1;33m)\u001b[0m\u001b[1;33m\u001b[0m\u001b[1;33m\u001b[0m\u001b[0m\n\u001b[0m\u001b[0;32m     28\u001b[0m \u001b[1;33m\u001b[0m\u001b[0m\n\u001b[0;32m     29\u001b[0m     \u001b[1;32mdef\u001b[0m \u001b[0m_validate_transition_state\u001b[0m\u001b[1;33m(\u001b[0m\u001b[0mself\u001b[0m\u001b[1;33m,\u001b[0m \u001b[0mtransition_state\u001b[0m\u001b[1;33m)\u001b[0m\u001b[1;33m:\u001b[0m\u001b[1;33m\u001b[0m\u001b[1;33m\u001b[0m\u001b[0m\n",
      "\u001b[1;32md:\\Projects\\CourseProjects\\Automata\\venv\\lib\\site-packages\\automata\\tm\\dtm.py\u001b[0m in \u001b[0;36mvalidate\u001b[1;34m(self)\u001b[0m\n\u001b[0;32m     76\u001b[0m         \u001b[0mself\u001b[0m\u001b[1;33m.\u001b[0m\u001b[0m_read_input_symbol_subset\u001b[0m\u001b[1;33m(\u001b[0m\u001b[1;33m)\u001b[0m\u001b[1;33m\u001b[0m\u001b[1;33m\u001b[0m\u001b[0m\n\u001b[0;32m     77\u001b[0m         \u001b[0mself\u001b[0m\u001b[1;33m.\u001b[0m\u001b[0m_validate_blank_symbol\u001b[0m\u001b[1;33m(\u001b[0m\u001b[1;33m)\u001b[0m\u001b[1;33m\u001b[0m\u001b[1;33m\u001b[0m\u001b[0m\n\u001b[1;32m---> 78\u001b[1;33m         \u001b[0mself\u001b[0m\u001b[1;33m.\u001b[0m\u001b[0m_validate_transitions\u001b[0m\u001b[1;33m(\u001b[0m\u001b[1;33m)\u001b[0m\u001b[1;33m\u001b[0m\u001b[1;33m\u001b[0m\u001b[0m\n\u001b[0m\u001b[0;32m     79\u001b[0m         \u001b[0mself\u001b[0m\u001b[1;33m.\u001b[0m\u001b[0m_validate_initial_state\u001b[0m\u001b[1;33m(\u001b[0m\u001b[1;33m)\u001b[0m\u001b[1;33m\u001b[0m\u001b[1;33m\u001b[0m\u001b[0m\n\u001b[0;32m     80\u001b[0m         \u001b[0mself\u001b[0m\u001b[1;33m.\u001b[0m\u001b[0m_validate_initial_state_transitions\u001b[0m\u001b[1;33m(\u001b[0m\u001b[1;33m)\u001b[0m\u001b[1;33m\u001b[0m\u001b[1;33m\u001b[0m\u001b[0m\n",
      "\u001b[1;32md:\\Projects\\CourseProjects\\Automata\\venv\\lib\\site-packages\\automata\\tm\\dtm.py\u001b[0m in \u001b[0;36m_validate_transitions\u001b[1;34m(self)\u001b[0m\n\u001b[0;32m     63\u001b[0m             \u001b[0mself\u001b[0m\u001b[1;33m.\u001b[0m\u001b[0m_validate_transition_state\u001b[0m\u001b[1;33m(\u001b[0m\u001b[0mstate\u001b[0m\u001b[1;33m)\u001b[0m\u001b[1;33m\u001b[0m\u001b[1;33m\u001b[0m\u001b[0m\n\u001b[0;32m     64\u001b[0m             \u001b[0mself\u001b[0m\u001b[1;33m.\u001b[0m\u001b[0m_validate_transition_symbols\u001b[0m\u001b[1;33m(\u001b[0m\u001b[0mstate\u001b[0m\u001b[1;33m,\u001b[0m \u001b[0mpaths\u001b[0m\u001b[1;33m)\u001b[0m\u001b[1;33m\u001b[0m\u001b[1;33m\u001b[0m\u001b[0m\n\u001b[1;32m---> 65\u001b[1;33m             \u001b[0mself\u001b[0m\u001b[1;33m.\u001b[0m\u001b[0m_validate_transition_results\u001b[0m\u001b[1;33m(\u001b[0m\u001b[0mpaths\u001b[0m\u001b[1;33m)\u001b[0m\u001b[1;33m\u001b[0m\u001b[1;33m\u001b[0m\u001b[0m\n\u001b[0m\u001b[0;32m     66\u001b[0m \u001b[1;33m\u001b[0m\u001b[0m\n\u001b[0;32m     67\u001b[0m     \u001b[1;32mdef\u001b[0m \u001b[0m_validate_final_state_transitions\u001b[0m\u001b[1;33m(\u001b[0m\u001b[0mself\u001b[0m\u001b[1;33m)\u001b[0m\u001b[1;33m:\u001b[0m\u001b[1;33m\u001b[0m\u001b[1;33m\u001b[0m\u001b[0m\n",
      "\u001b[1;32md:\\Projects\\CourseProjects\\Automata\\venv\\lib\\site-packages\\automata\\tm\\dtm.py\u001b[0m in \u001b[0;36m_validate_transition_results\u001b[1;34m(self, paths)\u001b[0m\n\u001b[0;32m     57\u001b[0m     \u001b[1;32mdef\u001b[0m \u001b[0m_validate_transition_results\u001b[0m\u001b[1;33m(\u001b[0m\u001b[0mself\u001b[0m\u001b[1;33m,\u001b[0m \u001b[0mpaths\u001b[0m\u001b[1;33m)\u001b[0m\u001b[1;33m:\u001b[0m\u001b[1;33m\u001b[0m\u001b[1;33m\u001b[0m\u001b[0m\n\u001b[0;32m     58\u001b[0m         \u001b[1;32mfor\u001b[0m \u001b[0mresult\u001b[0m \u001b[1;32min\u001b[0m \u001b[0mpaths\u001b[0m\u001b[1;33m.\u001b[0m\u001b[0mvalues\u001b[0m\u001b[1;33m(\u001b[0m\u001b[1;33m)\u001b[0m\u001b[1;33m:\u001b[0m\u001b[1;33m\u001b[0m\u001b[1;33m\u001b[0m\u001b[0m\n\u001b[1;32m---> 59\u001b[1;33m             \u001b[0mself\u001b[0m\u001b[1;33m.\u001b[0m\u001b[0m_validate_transition_result\u001b[0m\u001b[1;33m(\u001b[0m\u001b[0mresult\u001b[0m\u001b[1;33m)\u001b[0m\u001b[1;33m\u001b[0m\u001b[1;33m\u001b[0m\u001b[0m\n\u001b[0m\u001b[0;32m     60\u001b[0m \u001b[1;33m\u001b[0m\u001b[0m\n\u001b[0;32m     61\u001b[0m     \u001b[1;32mdef\u001b[0m \u001b[0m_validate_transitions\u001b[0m\u001b[1;33m(\u001b[0m\u001b[0mself\u001b[0m\u001b[1;33m)\u001b[0m\u001b[1;33m:\u001b[0m\u001b[1;33m\u001b[0m\u001b[1;33m\u001b[0m\u001b[0m\n",
      "\u001b[1;32md:\\Projects\\CourseProjects\\Automata\\venv\\lib\\site-packages\\automata\\tm\\dtm.py\u001b[0m in \u001b[0;36m_validate_transition_result\u001b[1;34m(self, result)\u001b[0m\n\u001b[0;32m     53\u001b[0m             raise exceptions.InvalidSymbolError(\n\u001b[0;32m     54\u001b[0m                 'result symbol is not valid ({})'.format(result_symbol))\n\u001b[1;32m---> 55\u001b[1;33m         \u001b[0mself\u001b[0m\u001b[1;33m.\u001b[0m\u001b[0m_validate_transition_result_direction\u001b[0m\u001b[1;33m(\u001b[0m\u001b[0mresult_direction\u001b[0m\u001b[1;33m)\u001b[0m\u001b[1;33m\u001b[0m\u001b[1;33m\u001b[0m\u001b[0m\n\u001b[0m\u001b[0;32m     56\u001b[0m \u001b[1;33m\u001b[0m\u001b[0m\n\u001b[0;32m     57\u001b[0m     \u001b[1;32mdef\u001b[0m \u001b[0m_validate_transition_results\u001b[0m\u001b[1;33m(\u001b[0m\u001b[0mself\u001b[0m\u001b[1;33m,\u001b[0m \u001b[0mpaths\u001b[0m\u001b[1;33m)\u001b[0m\u001b[1;33m:\u001b[0m\u001b[1;33m\u001b[0m\u001b[1;33m\u001b[0m\u001b[0m\n",
      "\u001b[1;32md:\\Projects\\CourseProjects\\Automata\\venv\\lib\\site-packages\\automata\\tm\\dtm.py\u001b[0m in \u001b[0;36m_validate_transition_result_direction\u001b[1;34m(self, result_direction)\u001b[0m\n\u001b[0;32m     41\u001b[0m     \u001b[1;32mdef\u001b[0m \u001b[0m_validate_transition_result_direction\u001b[0m\u001b[1;33m(\u001b[0m\u001b[0mself\u001b[0m\u001b[1;33m,\u001b[0m \u001b[0mresult_direction\u001b[0m\u001b[1;33m)\u001b[0m\u001b[1;33m:\u001b[0m\u001b[1;33m\u001b[0m\u001b[1;33m\u001b[0m\u001b[0m\n\u001b[0;32m     42\u001b[0m         \u001b[1;32mif\u001b[0m \u001b[0mresult_direction\u001b[0m \u001b[1;32mnot\u001b[0m \u001b[1;32min\u001b[0m \u001b[1;33m(\u001b[0m\u001b[1;34m'L'\u001b[0m\u001b[1;33m,\u001b[0m \u001b[1;34m'N'\u001b[0m\u001b[1;33m,\u001b[0m \u001b[1;34m'R'\u001b[0m\u001b[1;33m)\u001b[0m\u001b[1;33m:\u001b[0m\u001b[1;33m\u001b[0m\u001b[1;33m\u001b[0m\u001b[0m\n\u001b[1;32m---> 43\u001b[1;33m             raise tm_exceptions.InvalidDirectionError(\n\u001b[0m\u001b[0;32m     44\u001b[0m                 'result direction is not valid ({})'.format(\n\u001b[0;32m     45\u001b[0m                     result_direction))\n",
      "\u001b[1;31mInvalidDirectionError\u001b[0m: result direction is not valid (S)"
     ]
    }
   ],
   "source": [
    "U_TM = DTM(\n",
    "    states={'q0', 'q1', 'q2', 'q3', 'q4', 'q5', 'q6',\n",
    "    'q7', 'q8', 'q9', 'q10', 'q11', 'q12', 'q13'},\n",
    "    input_symbols={'0', '1'},\n",
    "    tape_symbols={'0', '1', 'x','$', '#', '_'},\n",
    "    transitions={\n",
    "        'q0': {\n",
    "            '$': ('q1', '$', 'R'),\n",
    "        },\n",
    "        'q1': {\n",
    "            '0': ('q2', 'x', 'R'),\n",
    "            '1': ('q1', '1', 'R'),\n",
    "            'x': ('q1', 'x', 'R'),\n",
    "            '#': ('q12', '#', 'L')\n",
    "        },\n",
    "        'q2': {\n",
    "            '0': ('q3', 'x', 'R'),\n",
    "            '1': ('q2', '1', 'R'),\n",
    "            'x': ('q2', 'x', 'R'),\n",
    "            '#': ('q5', '#', 'R')\n",
    "        },\n",
    "        'q3': {\n",
    "            '0': ('q4', '0', 'R'),\n",
    "            '1': ('q3', '1', 'R'),\n",
    "            'x': ('q3', 'x', 'R'),\n",
    "            '#': ('q5', '#', 'R')\n",
    "        },\n",
    "        'q4': {\n",
    "            '0': ('q2', 'x', 'R'),\n",
    "            '1': ('q4', '1', 'R'),\n",
    "            'x': ('q4', 'x', 'R'),\n",
    "            '#': ('q5', '#', 'R')\n",
    "        },\n",
    "        'q5': {\n",
    "            '0': ('q7', '0', 'R'),\n",
    "            '1': ('q7', '1', 'R'),\n",
    "            '_': ('q6', '0', 'L')\n",
    "        },\n",
    "        'q6': {\n",
    "            '#': ('q5', '#', 'R')\n",
    "        },\n",
    "        'q7': {\n",
    "            '0': ('q7', '0', 'R'),\n",
    "            '1': ('q7', '1', 'R'),\n",
    "            '_': ('q8', '_', 'L')\n",
    "        },\n",
    "        'q8': {\n",
    "            '0': ('q9', '1', 'L'),\n",
    "            '1': ('q8', '0', 'L'),\n",
    "            '#': ('q11', '#', 'R'),\n",
    "        },\n",
    "        'q9': {\n",
    "            '0': ('q9', '0', 'L'),\n",
    "            '1': ('q9', '1', 'L'),\n",
    "            'x': ('q9', 'x', 'L'),\n",
    "            '$': ('q0', '$', 'S'),\n",
    "            '#': ('q9', '#', 'L'),\n",
    "        },\n",
    "        'q10': {\n",
    "            '0': ('q10', '0', 'R'),\n",
    "            '_': ('q9', '0', 'L')\n",
    "        },\n",
    "        'q11': {\n",
    "            '0': ('q10', '1', 'R'),\n",
    "        },\n",
    "        'q12': {\n",
    "            '1': ('q12', '1', 'L'),\n",
    "            'x': ('q12', 'x', 'L'),\n",
    "            '$': ('q13', '$', 'L'),\n",
    "        }\n",
    "    },\n",
    "    initial_state='q1',\n",
    "    blank_symbol='_',\n",
    "    final_states={'q13'}\n",
    ")"
   ]
  },
  {
   "cell_type": "code",
   "execution_count": 7,
   "metadata": {},
   "outputs": [
    {
     "name": "stdout",
     "output_type": "stream",
     "text": [
      "TMConfiguration('q1', TMTape('101000011', 0))\n",
      "TMConfiguration('q1', TMTape('101000011', 1))\n",
      "TMConfiguration('q2', TMTape('1x1000011', 2))\n",
      "TMConfiguration('q2', TMTape('1x1000011', 3))\n",
      "TMConfiguration('q3', TMTape('1x1x00011', 4))\n",
      "TMConfiguration('q4', TMTape('1x1x00011', 5))\n",
      "TMConfiguration('q2', TMTape('1x1x0x011', 6))\n",
      "TMConfiguration('q3', TMTape('1x1x0xx11', 7))\n",
      "TMConfiguration('q3', TMTape('1x1x0xx11', 8))\n",
      "TMConfiguration('q3', TMTape('1x1x0xx11_', 9))\n"
     ]
    },
    {
     "ename": "RejectionException",
     "evalue": "The machine entered a non-final configuration for which no transition is defined (q3, _)",
     "output_type": "error",
     "traceback": [
      "\u001b[1;31m---------------------------------------------------------------------------\u001b[0m",
      "\u001b[1;31mRejectionException\u001b[0m                        Traceback (most recent call last)",
      "\u001b[1;32m~\\AppData\\Local\\Temp/ipykernel_27620/3402837003.py\u001b[0m in \u001b[0;36m<module>\u001b[1;34m\u001b[0m\n\u001b[1;32m----> 1\u001b[1;33m \u001b[1;32mfor\u001b[0m \u001b[0mi\u001b[0m \u001b[1;32min\u001b[0m \u001b[0mU_TM\u001b[0m\u001b[1;33m.\u001b[0m\u001b[0mread_input_stepwise\u001b[0m\u001b[1;33m(\u001b[0m\u001b[1;34m'101000011'\u001b[0m\u001b[1;33m)\u001b[0m\u001b[1;33m:\u001b[0m\u001b[1;33m\u001b[0m\u001b[1;33m\u001b[0m\u001b[0m\n\u001b[0m\u001b[0;32m      2\u001b[0m     \u001b[0mprint\u001b[0m\u001b[1;33m(\u001b[0m\u001b[0mi\u001b[0m\u001b[1;33m)\u001b[0m\u001b[1;33m\u001b[0m\u001b[1;33m\u001b[0m\u001b[0m\n",
      "\u001b[1;32md:\\Projects\\CourseProjects\\Automata\\venv\\lib\\site-packages\\automata\\tm\\dtm.py\u001b[0m in \u001b[0;36mread_input_stepwise\u001b[1;34m(self, input_str)\u001b[0m\n\u001b[0;32m    131\u001b[0m         \u001b[1;31m# iteration is always guaranteed to run (as it should)\u001b[0m\u001b[1;33m\u001b[0m\u001b[1;33m\u001b[0m\u001b[1;33m\u001b[0m\u001b[0m\n\u001b[0;32m    132\u001b[0m         \u001b[1;32mwhile\u001b[0m \u001b[1;32mnot\u001b[0m \u001b[0mself\u001b[0m\u001b[1;33m.\u001b[0m\u001b[0m_has_accepted\u001b[0m\u001b[1;33m(\u001b[0m\u001b[0mcurrent_configuration\u001b[0m\u001b[1;33m)\u001b[0m\u001b[1;33m:\u001b[0m\u001b[1;33m\u001b[0m\u001b[1;33m\u001b[0m\u001b[0m\n\u001b[1;32m--> 133\u001b[1;33m             current_configuration = self._get_next_configuration(\n\u001b[0m\u001b[0;32m    134\u001b[0m                 \u001b[0mcurrent_configuration\u001b[0m\u001b[1;33m\u001b[0m\u001b[1;33m\u001b[0m\u001b[0m\n\u001b[0;32m    135\u001b[0m             )\n",
      "\u001b[1;32md:\\Projects\\CourseProjects\\Automata\\venv\\lib\\site-packages\\automata\\tm\\dtm.py\u001b[0m in \u001b[0;36m_get_next_configuration\u001b[1;34m(self, old_config)\u001b[0m\n\u001b[0;32m    105\u001b[0m             \u001b[0mtransitions\u001b[0m\u001b[1;33m.\u001b[0m\u001b[0mremove\u001b[0m\u001b[1;33m(\u001b[0m\u001b[1;32mNone\u001b[0m\u001b[1;33m)\u001b[0m\u001b[1;33m\u001b[0m\u001b[1;33m\u001b[0m\u001b[0m\n\u001b[0;32m    106\u001b[0m         \u001b[1;32mif\u001b[0m \u001b[0mlen\u001b[0m\u001b[1;33m(\u001b[0m\u001b[0mtransitions\u001b[0m\u001b[1;33m)\u001b[0m \u001b[1;33m==\u001b[0m \u001b[1;36m0\u001b[0m\u001b[1;33m:\u001b[0m\u001b[1;33m\u001b[0m\u001b[1;33m\u001b[0m\u001b[0m\n\u001b[1;32m--> 107\u001b[1;33m             raise exceptions.RejectionException(\n\u001b[0m\u001b[0;32m    108\u001b[0m                 \u001b[1;34m'The machine entered a non-final configuration for which no '\u001b[0m\u001b[1;33m\u001b[0m\u001b[1;33m\u001b[0m\u001b[0m\n\u001b[0;32m    109\u001b[0m                 'transition is defined ({}, {})'.format(\n",
      "\u001b[1;31mRejectionException\u001b[0m: The machine entered a non-final configuration for which no transition is defined (q3, _)"
     ]
    }
   ],
   "source": [
    "for i in U_TM.read_input_stepwise('101000011'):\n",
    "    print(i)"
   ]
  }
 ],
 "metadata": {
  "interpreter": {
   "hash": "67176aa62ce702ae4822ae5a2222842b74bf2fe1fdc4a19d69f0ad18bd063919"
  },
  "kernelspec": {
   "display_name": "Python 3.8.0 32-bit ('venv': venv)",
   "name": "python3"
  },
  "language_info": {
   "codemirror_mode": {
    "name": "ipython",
    "version": 3
   },
   "file_extension": ".py",
   "mimetype": "text/x-python",
   "name": "python",
   "nbconvert_exporter": "python",
   "pygments_lexer": "ipython3",
   "version": "3.8.0"
  },
  "orig_nbformat": 4
 },
 "nbformat": 4,
 "nbformat_minor": 2
}
