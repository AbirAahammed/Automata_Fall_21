{
 "cells": [
  {
   "cell_type": "markdown",
   "metadata": {},
   "source": [
    "# TM for Q4"
   ]
  },
  {
   "cell_type": "code",
   "execution_count": 1,
   "metadata": {},
   "outputs": [],
   "source": [
    "from automata.tm.dtm import DTM"
   ]
  },
  {
   "cell_type": "code",
   "execution_count": 2,
   "metadata": {},
   "outputs": [
    {
     "ename": "InvalidDirectionError",
     "evalue": "result direction is not valid (S)",
     "output_type": "error",
     "traceback": [
      "\u001b[1;31m---------------------------------------------------------------------------\u001b[0m",
      "\u001b[1;31mInvalidDirectionError\u001b[0m                     Traceback (most recent call last)",
      "\u001b[1;32m~\\AppData\\Local\\Temp/ipykernel_25260/1087375846.py\u001b[0m in \u001b[0;36m<module>\u001b[1;34m\u001b[0m\n\u001b[1;32m----> 1\u001b[1;33m U_TM = DTM(\n\u001b[0m\u001b[0;32m      2\u001b[0m     states={'q0', 'q1', 'q2', 'q3', 'q4', 'q5', 'q6',\n\u001b[0;32m      3\u001b[0m     'q7', 'q8', 'q9', 'q10', 'q11', 'q12', 'q13'},\n\u001b[0;32m      4\u001b[0m     \u001b[0minput_symbols\u001b[0m\u001b[1;33m=\u001b[0m\u001b[1;33m{\u001b[0m\u001b[1;34m'0'\u001b[0m\u001b[1;33m,\u001b[0m \u001b[1;34m'1'\u001b[0m\u001b[1;33m}\u001b[0m\u001b[1;33m,\u001b[0m\u001b[1;33m\u001b[0m\u001b[1;33m\u001b[0m\u001b[0m\n\u001b[0;32m      5\u001b[0m     \u001b[0mtape_symbols\u001b[0m\u001b[1;33m=\u001b[0m\u001b[1;33m{\u001b[0m\u001b[1;34m'0'\u001b[0m\u001b[1;33m,\u001b[0m \u001b[1;34m'1'\u001b[0m\u001b[1;33m,\u001b[0m \u001b[1;34m'x'\u001b[0m\u001b[1;33m,\u001b[0m\u001b[1;34m'$'\u001b[0m\u001b[1;33m,\u001b[0m \u001b[1;34m'#'\u001b[0m\u001b[1;33m,\u001b[0m \u001b[1;34m'_'\u001b[0m\u001b[1;33m}\u001b[0m\u001b[1;33m,\u001b[0m\u001b[1;33m\u001b[0m\u001b[1;33m\u001b[0m\u001b[0m\n",
      "\u001b[1;32md:\\Projects\\CourseProjects\\Automata\\venv\\lib\\site-packages\\automata\\tm\\dtm.py\u001b[0m in \u001b[0;36m__init__\u001b[1;34m(self, states, input_symbols, tape_symbols, transitions, initial_state, blank_symbol, final_states)\u001b[0m\n\u001b[0;32m     25\u001b[0m         \u001b[0mself\u001b[0m\u001b[1;33m.\u001b[0m\u001b[0mblank_symbol\u001b[0m \u001b[1;33m=\u001b[0m \u001b[0mblank_symbol\u001b[0m\u001b[1;33m\u001b[0m\u001b[1;33m\u001b[0m\u001b[0m\n\u001b[0;32m     26\u001b[0m         \u001b[0mself\u001b[0m\u001b[1;33m.\u001b[0m\u001b[0mfinal_states\u001b[0m \u001b[1;33m=\u001b[0m \u001b[0mfinal_states\u001b[0m\u001b[1;33m.\u001b[0m\u001b[0mcopy\u001b[0m\u001b[1;33m(\u001b[0m\u001b[1;33m)\u001b[0m\u001b[1;33m\u001b[0m\u001b[1;33m\u001b[0m\u001b[0m\n\u001b[1;32m---> 27\u001b[1;33m         \u001b[0mself\u001b[0m\u001b[1;33m.\u001b[0m\u001b[0mvalidate\u001b[0m\u001b[1;33m(\u001b[0m\u001b[1;33m)\u001b[0m\u001b[1;33m\u001b[0m\u001b[1;33m\u001b[0m\u001b[0m\n\u001b[0m\u001b[0;32m     28\u001b[0m \u001b[1;33m\u001b[0m\u001b[0m\n\u001b[0;32m     29\u001b[0m     \u001b[1;32mdef\u001b[0m \u001b[0m_validate_transition_state\u001b[0m\u001b[1;33m(\u001b[0m\u001b[0mself\u001b[0m\u001b[1;33m,\u001b[0m \u001b[0mtransition_state\u001b[0m\u001b[1;33m)\u001b[0m\u001b[1;33m:\u001b[0m\u001b[1;33m\u001b[0m\u001b[1;33m\u001b[0m\u001b[0m\n",
      "\u001b[1;32md:\\Projects\\CourseProjects\\Automata\\venv\\lib\\site-packages\\automata\\tm\\dtm.py\u001b[0m in \u001b[0;36mvalidate\u001b[1;34m(self)\u001b[0m\n\u001b[0;32m     76\u001b[0m         \u001b[0mself\u001b[0m\u001b[1;33m.\u001b[0m\u001b[0m_read_input_symbol_subset\u001b[0m\u001b[1;33m(\u001b[0m\u001b[1;33m)\u001b[0m\u001b[1;33m\u001b[0m\u001b[1;33m\u001b[0m\u001b[0m\n\u001b[0;32m     77\u001b[0m         \u001b[0mself\u001b[0m\u001b[1;33m.\u001b[0m\u001b[0m_validate_blank_symbol\u001b[0m\u001b[1;33m(\u001b[0m\u001b[1;33m)\u001b[0m\u001b[1;33m\u001b[0m\u001b[1;33m\u001b[0m\u001b[0m\n\u001b[1;32m---> 78\u001b[1;33m         \u001b[0mself\u001b[0m\u001b[1;33m.\u001b[0m\u001b[0m_validate_transitions\u001b[0m\u001b[1;33m(\u001b[0m\u001b[1;33m)\u001b[0m\u001b[1;33m\u001b[0m\u001b[1;33m\u001b[0m\u001b[0m\n\u001b[0m\u001b[0;32m     79\u001b[0m         \u001b[0mself\u001b[0m\u001b[1;33m.\u001b[0m\u001b[0m_validate_initial_state\u001b[0m\u001b[1;33m(\u001b[0m\u001b[1;33m)\u001b[0m\u001b[1;33m\u001b[0m\u001b[1;33m\u001b[0m\u001b[0m\n\u001b[0;32m     80\u001b[0m         \u001b[0mself\u001b[0m\u001b[1;33m.\u001b[0m\u001b[0m_validate_initial_state_transitions\u001b[0m\u001b[1;33m(\u001b[0m\u001b[1;33m)\u001b[0m\u001b[1;33m\u001b[0m\u001b[1;33m\u001b[0m\u001b[0m\n",
      "\u001b[1;32md:\\Projects\\CourseProjects\\Automata\\venv\\lib\\site-packages\\automata\\tm\\dtm.py\u001b[0m in \u001b[0;36m_validate_transitions\u001b[1;34m(self)\u001b[0m\n\u001b[0;32m     63\u001b[0m             \u001b[0mself\u001b[0m\u001b[1;33m.\u001b[0m\u001b[0m_validate_transition_state\u001b[0m\u001b[1;33m(\u001b[0m\u001b[0mstate\u001b[0m\u001b[1;33m)\u001b[0m\u001b[1;33m\u001b[0m\u001b[1;33m\u001b[0m\u001b[0m\n\u001b[0;32m     64\u001b[0m             \u001b[0mself\u001b[0m\u001b[1;33m.\u001b[0m\u001b[0m_validate_transition_symbols\u001b[0m\u001b[1;33m(\u001b[0m\u001b[0mstate\u001b[0m\u001b[1;33m,\u001b[0m \u001b[0mpaths\u001b[0m\u001b[1;33m)\u001b[0m\u001b[1;33m\u001b[0m\u001b[1;33m\u001b[0m\u001b[0m\n\u001b[1;32m---> 65\u001b[1;33m             \u001b[0mself\u001b[0m\u001b[1;33m.\u001b[0m\u001b[0m_validate_transition_results\u001b[0m\u001b[1;33m(\u001b[0m\u001b[0mpaths\u001b[0m\u001b[1;33m)\u001b[0m\u001b[1;33m\u001b[0m\u001b[1;33m\u001b[0m\u001b[0m\n\u001b[0m\u001b[0;32m     66\u001b[0m \u001b[1;33m\u001b[0m\u001b[0m\n\u001b[0;32m     67\u001b[0m     \u001b[1;32mdef\u001b[0m \u001b[0m_validate_final_state_transitions\u001b[0m\u001b[1;33m(\u001b[0m\u001b[0mself\u001b[0m\u001b[1;33m)\u001b[0m\u001b[1;33m:\u001b[0m\u001b[1;33m\u001b[0m\u001b[1;33m\u001b[0m\u001b[0m\n",
      "\u001b[1;32md:\\Projects\\CourseProjects\\Automata\\venv\\lib\\site-packages\\automata\\tm\\dtm.py\u001b[0m in \u001b[0;36m_validate_transition_results\u001b[1;34m(self, paths)\u001b[0m\n\u001b[0;32m     57\u001b[0m     \u001b[1;32mdef\u001b[0m \u001b[0m_validate_transition_results\u001b[0m\u001b[1;33m(\u001b[0m\u001b[0mself\u001b[0m\u001b[1;33m,\u001b[0m \u001b[0mpaths\u001b[0m\u001b[1;33m)\u001b[0m\u001b[1;33m:\u001b[0m\u001b[1;33m\u001b[0m\u001b[1;33m\u001b[0m\u001b[0m\n\u001b[0;32m     58\u001b[0m         \u001b[1;32mfor\u001b[0m \u001b[0mresult\u001b[0m \u001b[1;32min\u001b[0m \u001b[0mpaths\u001b[0m\u001b[1;33m.\u001b[0m\u001b[0mvalues\u001b[0m\u001b[1;33m(\u001b[0m\u001b[1;33m)\u001b[0m\u001b[1;33m:\u001b[0m\u001b[1;33m\u001b[0m\u001b[1;33m\u001b[0m\u001b[0m\n\u001b[1;32m---> 59\u001b[1;33m             \u001b[0mself\u001b[0m\u001b[1;33m.\u001b[0m\u001b[0m_validate_transition_result\u001b[0m\u001b[1;33m(\u001b[0m\u001b[0mresult\u001b[0m\u001b[1;33m)\u001b[0m\u001b[1;33m\u001b[0m\u001b[1;33m\u001b[0m\u001b[0m\n\u001b[0m\u001b[0;32m     60\u001b[0m \u001b[1;33m\u001b[0m\u001b[0m\n\u001b[0;32m     61\u001b[0m     \u001b[1;32mdef\u001b[0m \u001b[0m_validate_transitions\u001b[0m\u001b[1;33m(\u001b[0m\u001b[0mself\u001b[0m\u001b[1;33m)\u001b[0m\u001b[1;33m:\u001b[0m\u001b[1;33m\u001b[0m\u001b[1;33m\u001b[0m\u001b[0m\n",
      "\u001b[1;32md:\\Projects\\CourseProjects\\Automata\\venv\\lib\\site-packages\\automata\\tm\\dtm.py\u001b[0m in \u001b[0;36m_validate_transition_result\u001b[1;34m(self, result)\u001b[0m\n\u001b[0;32m     53\u001b[0m             raise exceptions.InvalidSymbolError(\n\u001b[0;32m     54\u001b[0m                 'result symbol is not valid ({})'.format(result_symbol))\n\u001b[1;32m---> 55\u001b[1;33m         \u001b[0mself\u001b[0m\u001b[1;33m.\u001b[0m\u001b[0m_validate_transition_result_direction\u001b[0m\u001b[1;33m(\u001b[0m\u001b[0mresult_direction\u001b[0m\u001b[1;33m)\u001b[0m\u001b[1;33m\u001b[0m\u001b[1;33m\u001b[0m\u001b[0m\n\u001b[0m\u001b[0;32m     56\u001b[0m \u001b[1;33m\u001b[0m\u001b[0m\n\u001b[0;32m     57\u001b[0m     \u001b[1;32mdef\u001b[0m \u001b[0m_validate_transition_results\u001b[0m\u001b[1;33m(\u001b[0m\u001b[0mself\u001b[0m\u001b[1;33m,\u001b[0m \u001b[0mpaths\u001b[0m\u001b[1;33m)\u001b[0m\u001b[1;33m:\u001b[0m\u001b[1;33m\u001b[0m\u001b[1;33m\u001b[0m\u001b[0m\n",
      "\u001b[1;32md:\\Projects\\CourseProjects\\Automata\\venv\\lib\\site-packages\\automata\\tm\\dtm.py\u001b[0m in \u001b[0;36m_validate_transition_result_direction\u001b[1;34m(self, result_direction)\u001b[0m\n\u001b[0;32m     41\u001b[0m     \u001b[1;32mdef\u001b[0m \u001b[0m_validate_transition_result_direction\u001b[0m\u001b[1;33m(\u001b[0m\u001b[0mself\u001b[0m\u001b[1;33m,\u001b[0m \u001b[0mresult_direction\u001b[0m\u001b[1;33m)\u001b[0m\u001b[1;33m:\u001b[0m\u001b[1;33m\u001b[0m\u001b[1;33m\u001b[0m\u001b[0m\n\u001b[0;32m     42\u001b[0m         \u001b[1;32mif\u001b[0m \u001b[0mresult_direction\u001b[0m \u001b[1;32mnot\u001b[0m \u001b[1;32min\u001b[0m \u001b[1;33m(\u001b[0m\u001b[1;34m'L'\u001b[0m\u001b[1;33m,\u001b[0m \u001b[1;34m'N'\u001b[0m\u001b[1;33m,\u001b[0m \u001b[1;34m'R'\u001b[0m\u001b[1;33m)\u001b[0m\u001b[1;33m:\u001b[0m\u001b[1;33m\u001b[0m\u001b[1;33m\u001b[0m\u001b[0m\n\u001b[1;32m---> 43\u001b[1;33m             raise tm_exceptions.InvalidDirectionError(\n\u001b[0m\u001b[0;32m     44\u001b[0m                 'result direction is not valid ({})'.format(\n\u001b[0;32m     45\u001b[0m                     result_direction))\n",
      "\u001b[1;31mInvalidDirectionError\u001b[0m: result direction is not valid (S)"
     ]
    }
   ],
   "source": [
    "U_TM = DTM(\n",
    "    states={'q0', 'q1', 'q2', 'q3', 'q4', 'q5', 'q6',\n",
    "    'q7', 'q8', 'q9', 'q10', 'q11', 'q12', 'q13'},\n",
    "    input_symbols={'0', '1'},\n",
    "    tape_symbols={'0', '1', 'x','$', '#', '_'},\n",
    "    transitions={\n",
    "        'q0': {\n",
    "            '$': ('q1', '$', 'R'),\n",
    "        },\n",
    "        'q1': {\n",
    "            '0': ('q2', 'x', 'R'),\n",
    "            '1': ('q1', '1', 'R'),\n",
    "            'x': ('q1', 'x', 'R'),\n",
    "            '#': ('q12', '#', 'L')\n",
    "        },\n",
    "        'q2': {\n",
    "            '0': ('q3', 'x', 'R'),\n",
    "            '1': ('q2', '1', 'R'),\n",
    "            'x': ('q2', 'x', 'R'),\n",
    "            '#': ('q5', '#', 'R')\n",
    "        },\n",
    "        'q3': {\n",
    "            '0': ('q4', '0', 'R'),\n",
    "            '1': ('q3', '1', 'R'),\n",
    "            'x': ('q3', 'x', 'R'),\n",
    "            '#': ('q5', '#', 'R')\n",
    "        },\n",
    "        'q4': {\n",
    "            '0': ('q2', 'x', 'R'),\n",
    "            '1': ('q4', '1', 'R'),\n",
    "            'x': ('q4', 'x', 'R'),\n",
    "            '#': ('q5', '#', 'R')\n",
    "        },\n",
    "        'q5': {\n",
    "            '0': ('q7', '0', 'R'),\n",
    "            '1': ('q7', '1', 'R'),\n",
    "            '_': ('q6', '0', 'L')\n",
    "        },\n",
    "        'q6': {\n",
    "            '#': ('q5', '#', 'R')\n",
    "        },\n",
    "        'q7': {\n",
    "            '0': ('q7', '0', 'R'),\n",
    "            '1': ('q7', '1', 'R'),\n",
    "            '_': ('q8', '_', 'L')\n",
    "        },\n",
    "        'q8': {\n",
    "            '0': ('q9', '1', 'L'),\n",
    "            '1': ('q8', '0', 'L'),\n",
    "            '#': ('q11', '#', 'R'),\n",
    "        },\n",
    "        'q9': {\n",
    "            '0': ('q9', '0', 'L'),\n",
    "            '1': ('q9', '1', 'L'),\n",
    "            'x': ('q9', 'x', 'L'),\n",
    "            '$': ('q0', '$', 'S'),\n",
    "            '#': ('q9', '#', 'L'),\n",
    "        },\n",
    "        'q10': {\n",
    "            '0': ('q10', '0', 'R'),\n",
    "            '_': ('q9', '0', 'L')\n",
    "        },\n",
    "        'q11': {\n",
    "            '0': ('q10', '1', 'R'),\n",
    "        },\n",
    "        'q12': {\n",
    "            '1': ('q12', '1', 'L'),\n",
    "            'x': ('q12', 'x', 'L'),\n",
    "            '$': ('q13', '$', 'L'),\n",
    "        }\n",
    "    },\n",
    "    initial_state='q1',\n",
    "    blank_symbol='_',\n",
    "    final_states={'q13'}\n",
    ")"
   ]
  },
  {
   "cell_type": "code",
   "execution_count": null,
   "metadata": {},
   "outputs": [],
   "source": [
    "for i in U_TM.read_input_stepwise('101000011'):\n",
    "    print(i)"
   ]
  },
  {
   "cell_type": "code",
   "execution_count": null,
   "metadata": {},
   "outputs": [],
   "source": [
    "'101111101'.count('1') == 1+ 3*'101111101'.count('0')"
   ]
  },
  {
   "cell_type": "code",
   "execution_count": null,
   "metadata": {},
   "outputs": [],
   "source": [
    "Q3_A_TM = DTM(\n",
    "    states={'A', 'B', 'C', 'D', 'E', 'F', 'G', 'H', 'I', 'J', 'K', 'L'},\n",
    "    input_symbols={'0', '1'},\n",
    "    tape_symbols={'0', '1', 'a','b', '$', '#', '_'},\n",
    "    transitions={\n",
    "        'A': {\n",
    "            '$': ('B', '$', 'R'),\n",
    "        },\n",
    "        'B': {\n",
    "            '0': ('D', '0', 'R'),\n",
    "            '1': ('C', 'b', 'R')\n",
    "        },\n",
    "        'C': {\n",
    "            '0': ('C', '0', 'R'),\n",
    "            '1': ('E', 'b', 'R'),\n",
    "            'a': ('C', 'a', 'R'),\n",
    "            'b': ('C', 'b', 'R'),\n",
    "            '#': ('K', '#', 'L')\n",
    "        },\n",
    "        'D': {\n",
    "            '0': ('D', '0', 'R'),\n",
    "            '1': ('C', 'b', 'R'),\n",
    "        },\n",
    "        'E': {\n",
    "            '0': ('E', '0', 'R'),\n",
    "            '1': ('F', 'b', 'R'),\n",
    "            'a': ('E', 'a', 'R'),\n",
    "\n",
    "        },\n",
    "        'F': {\n",
    "            '0': ('F', '0', 'R'),\n",
    "            '1': ('G', 'b', 'L'),\n",
    "            'a': ('F', 'a', 'R'),\n",
    "        },\n",
    "        'G': {\n",
    "            '0': ('H', '0', 'L'),\n",
    "            'a': ('H', 'a', 'L'),\n",
    "            'b': ('H', 'b', 'L'),\n",
    "        },\n",
    "        'H': {\n",
    "            '0': ('H', '0', 'L'),\n",
    "            'a': ('H', 'a', 'L'),\n",
    "            'b': ('H', 'b', 'L'),\n",
    "            '$': ('I', '$', 'R'),\n",
    "        },\n",
    "        'I': {\n",
    "            '0': ('J', 'a', 'L'),\n",
    "            '1': ('I', '1', 'R'),\n",
    "            'a': ('I', 'a', 'R'),\n",
    "            'b': ('I', 'b', 'R'),\n",
    "        },\n",
    "        'J': {\n",
    "            '1': ('J', '1', 'L'),\n",
    "            'a': ('J', 'a', 'L'),\n",
    "            'b': ('J', 'b', 'L'),\n",
    "            '$': ('C', '$', 'R'),\n",
    "        },\n",
    "        'K':{\n",
    "            'a': ('K', 'a', 'L'),\n",
    "            'b': ('K', 'b', 'L'),\n",
    "            '$': ('L', '$', 'R'),\n",
    "        }\n",
    "        \n",
    "    },\n",
    "    initial_state='A',\n",
    "    blank_symbol='_',\n",
    "    final_states={'L'}\n",
    ")"
   ]
  },
  {
   "cell_type": "code",
   "execution_count": null,
   "metadata": {},
   "outputs": [
    {
     "data": {
      "text/plain": [
       "False"
      ]
     },
     "execution_count": 42,
     "metadata": {},
     "output_type": "execute_result"
    }
   ],
   "source": [
    "Q3_A_TM.accepts_input('$111110011#')"
   ]
  },
  {
   "cell_type": "code",
   "execution_count": null,
   "metadata": {},
   "outputs": [],
   "source": [
    "data = ''\n",
    "with open('D:\\Projects\\CourseProjects\\Automata\\Scripts\\gendata.txt', 'r') as f:\n",
    "    data = f.read()\n"
   ]
  },
  {
   "cell_type": "code",
   "execution_count": null,
   "metadata": {},
   "outputs": [],
   "source": [
    "data = ['${}#'.format(i) for i in data.split('\\n')]"
   ]
  },
  {
   "cell_type": "code",
   "execution_count": null,
   "metadata": {},
   "outputs": [
    {
     "name": "stdout",
     "output_type": "stream",
     "text": [
      "True\n",
      "True\n"
     ]
    },
    {
     "data": {
      "text/plain": [
       "True"
      ]
     },
     "execution_count": 55,
     "metadata": {},
     "output_type": "execute_result"
    }
   ],
   "source": [
    "i = '$111110011#'\n",
    "print(Q3_A_TM.accepts_input(i))\n",
    "print((i[1:-1].count('1') == 1+ 3*i[1:-1].count('0')))\n",
    "Q3_A_TM.accepts_input(i) == (i[1:-1].count('1') == 1+ 3*i[1:-1].count('0'))"
   ]
  },
  {
   "cell_type": "code",
   "execution_count": null,
   "metadata": {},
   "outputs": [],
   "source": [
    "for i in data:\n",
    "    if not (Q3_A_TM.accepts_input(i) == (i[1:-1].count('1') == 1+ 3*i[1:-1].count('0'))):\n",
    "        print(i)"
   ]
  },
  {
   "cell_type": "code",
   "execution_count": null,
   "metadata": {},
   "outputs": [],
   "source": [
    "'$01adds01#'[1:-1]"
   ]
  },
  {
   "cell_type": "code",
   "execution_count": null,
   "metadata": {},
   "outputs": [
    {
     "name": "stdout",
     "output_type": "stream",
     "text": [
      "TMConfiguration('A', TMTape('$111110011#', 0))\n",
      "TMConfiguration('B', TMTape('$111110011#', 1))\n",
      "TMConfiguration('C', TMTape('$b11110011#', 2))\n",
      "TMConfiguration('E', TMTape('$bb1110011#', 3))\n",
      "TMConfiguration('F', TMTape('$bbb110011#', 4))\n",
      "TMConfiguration('G', TMTape('$bbbb10011#', 3))\n",
      "TMConfiguration('H', TMTape('$bbbb10011#', 2))\n",
      "TMConfiguration('H', TMTape('$bbbb10011#', 1))\n",
      "TMConfiguration('H', TMTape('$bbbb10011#', 0))\n",
      "TMConfiguration('I', TMTape('$bbbb10011#', 1))\n",
      "TMConfiguration('I', TMTape('$bbbb10011#', 2))\n",
      "TMConfiguration('I', TMTape('$bbbb10011#', 3))\n",
      "TMConfiguration('I', TMTape('$bbbb10011#', 4))\n",
      "TMConfiguration('I', TMTape('$bbbb10011#', 5))\n",
      "TMConfiguration('I', TMTape('$bbbb10011#', 6))\n",
      "TMConfiguration('J', TMTape('$bbbb1a011#', 5))\n",
      "TMConfiguration('J', TMTape('$bbbb1a011#', 4))\n",
      "TMConfiguration('J', TMTape('$bbbb1a011#', 3))\n",
      "TMConfiguration('J', TMTape('$bbbb1a011#', 2))\n",
      "TMConfiguration('J', TMTape('$bbbb1a011#', 1))\n",
      "TMConfiguration('J', TMTape('$bbbb1a011#', 0))\n",
      "TMConfiguration('C', TMTape('$bbbb1a011#', 1))\n",
      "TMConfiguration('C', TMTape('$bbbb1a011#', 2))\n",
      "TMConfiguration('C', TMTape('$bbbb1a011#', 3))\n",
      "TMConfiguration('C', TMTape('$bbbb1a011#', 4))\n",
      "TMConfiguration('C', TMTape('$bbbb1a011#', 5))\n",
      "TMConfiguration('E', TMTape('$bbbbba011#', 6))\n",
      "TMConfiguration('E', TMTape('$bbbbba011#', 7))\n",
      "TMConfiguration('E', TMTape('$bbbbba011#', 8))\n",
      "TMConfiguration('F', TMTape('$bbbbba0b1#', 9))\n",
      "TMConfiguration('G', TMTape('$bbbbba0bb#', 8))\n",
      "TMConfiguration('H', TMTape('$bbbbba0bb#', 7))\n",
      "TMConfiguration('H', TMTape('$bbbbba0bb#', 6))\n",
      "TMConfiguration('H', TMTape('$bbbbba0bb#', 5))\n",
      "TMConfiguration('H', TMTape('$bbbbba0bb#', 4))\n",
      "TMConfiguration('H', TMTape('$bbbbba0bb#', 3))\n",
      "TMConfiguration('H', TMTape('$bbbbba0bb#', 2))\n",
      "TMConfiguration('H', TMTape('$bbbbba0bb#', 1))\n",
      "TMConfiguration('H', TMTape('$bbbbba0bb#', 0))\n",
      "TMConfiguration('I', TMTape('$bbbbba0bb#', 1))\n",
      "TMConfiguration('I', TMTape('$bbbbba0bb#', 2))\n",
      "TMConfiguration('I', TMTape('$bbbbba0bb#', 3))\n",
      "TMConfiguration('I', TMTape('$bbbbba0bb#', 4))\n",
      "TMConfiguration('I', TMTape('$bbbbba0bb#', 5))\n",
      "TMConfiguration('I', TMTape('$bbbbba0bb#', 6))\n",
      "TMConfiguration('I', TMTape('$bbbbba0bb#', 7))\n",
      "TMConfiguration('J', TMTape('$bbbbbaabb#', 6))\n",
      "TMConfiguration('J', TMTape('$bbbbbaabb#', 5))\n",
      "TMConfiguration('J', TMTape('$bbbbbaabb#', 4))\n",
      "TMConfiguration('J', TMTape('$bbbbbaabb#', 3))\n",
      "TMConfiguration('J', TMTape('$bbbbbaabb#', 2))\n",
      "TMConfiguration('J', TMTape('$bbbbbaabb#', 1))\n",
      "TMConfiguration('J', TMTape('$bbbbbaabb#', 0))\n",
      "TMConfiguration('C', TMTape('$bbbbbaabb#', 1))\n",
      "TMConfiguration('C', TMTape('$bbbbbaabb#', 2))\n",
      "TMConfiguration('C', TMTape('$bbbbbaabb#', 3))\n",
      "TMConfiguration('C', TMTape('$bbbbbaabb#', 4))\n",
      "TMConfiguration('C', TMTape('$bbbbbaabb#', 5))\n",
      "TMConfiguration('C', TMTape('$bbbbbaabb#', 6))\n",
      "TMConfiguration('C', TMTape('$bbbbbaabb#', 7))\n",
      "TMConfiguration('C', TMTape('$bbbbbaabb#', 8))\n",
      "TMConfiguration('C', TMTape('$bbbbbaabb#', 9))\n",
      "TMConfiguration('C', TMTape('$bbbbbaabb#', 10))\n",
      "TMConfiguration('K', TMTape('$bbbbbaabb#', 9))\n",
      "TMConfiguration('K', TMTape('$bbbbbaabb#', 8))\n",
      "TMConfiguration('K', TMTape('$bbbbbaabb#', 7))\n",
      "TMConfiguration('K', TMTape('$bbbbbaabb#', 6))\n",
      "TMConfiguration('K', TMTape('$bbbbbaabb#', 5))\n",
      "TMConfiguration('K', TMTape('$bbbbbaabb#', 4))\n",
      "TMConfiguration('K', TMTape('$bbbbbaabb#', 3))\n",
      "TMConfiguration('K', TMTape('$bbbbbaabb#', 2))\n",
      "TMConfiguration('K', TMTape('$bbbbbaabb#', 1))\n",
      "TMConfiguration('K', TMTape('$bbbbbaabb#', 0))\n",
      "TMConfiguration('L', TMTape('$bbbbbaabb#', 1))\n"
     ]
    }
   ],
   "source": [
    "for i in Q3_A_TM.read_input_stepwise('$111110011#'):\n",
    "    print(i)"
   ]
  },
  {
   "cell_type": "code",
   "execution_count": null,
   "metadata": {},
   "outputs": [],
   "source": [
    "Q3_A_TM_v2 = DTM(\n",
    "    states={'A', 'B', 'C', 'E', 'F', 'G', 'H', 'I', 'J', 'K', 'L'},\n",
    "    input_symbols={'0', '1'},\n",
    "    tape_symbols={'0', '1', 'a','b', '$', '#', '_'},\n",
    "    transitions={\n",
    "        'A': {\n",
    "            '$': ('B', '$', 'R'),\n",
    "        },\n",
    "        'B': {\n",
    "            '0': ('B', '0', 'R'),\n",
    "            '1': ('C', 'b', 'R')\n",
    "        },\n",
    "        'C': {\n",
    "            '0': ('C', '0', 'R'),\n",
    "            '1': ('E', 'b', 'R'),\n",
    "            'a': ('C', 'a', 'R'),\n",
    "            'b': ('C', 'b', 'R'),\n",
    "            '#': ('K', '#', 'L')\n",
    "        },\n",
    "        'E': {\n",
    "            '0': ('E', '0', 'R'),\n",
    "            '1': ('F', 'b', 'R'),\n",
    "            'a': ('E', 'a', 'R'),\n",
    "\n",
    "        },\n",
    "        'F': {\n",
    "            '0': ('F', '0', 'R'),\n",
    "            '1': ('G', 'b', 'L'),\n",
    "            'a': ('F', 'a', 'R'),\n",
    "        },\n",
    "        'G': {\n",
    "            '0': ('H', '0', 'L'),\n",
    "            'a': ('H', 'a', 'L'),\n",
    "            'b': ('H', 'b', 'L'),\n",
    "        },\n",
    "        'H': {\n",
    "            '0': ('H', '0', 'L'),\n",
    "            'a': ('H', 'a', 'L'),\n",
    "            'b': ('H', 'b', 'L'),\n",
    "            '$': ('I', '$', 'R'),\n",
    "        },\n",
    "        'I': {\n",
    "            '0': ('J', 'a', 'L'),\n",
    "            '1': ('I', '1', 'R'),\n",
    "            'a': ('I', 'a', 'R'),\n",
    "            'b': ('I', 'b', 'R'),\n",
    "        },\n",
    "        'J': {\n",
    "            '1': ('J', '1', 'L'),\n",
    "            'a': ('J', 'a', 'L'),\n",
    "            'b': ('J', 'b', 'L'),\n",
    "            '$': ('C', '$', 'R'),\n",
    "        },\n",
    "        'K':{\n",
    "            'a': ('K', 'a', 'L'),\n",
    "            'b': ('K', 'b', 'L'),\n",
    "            '$': ('L', '$', 'R'),\n",
    "        }\n",
    "        \n",
    "    },\n",
    "    initial_state='A',\n",
    "    blank_symbol='_',\n",
    "    final_states={'L'}\n",
    ")"
   ]
  },
  {
   "cell_type": "code",
   "execution_count": null,
   "metadata": {},
   "outputs": [],
   "source": [
    "for i in data:\n",
    "    if not (Q3_A_TM_v2.accepts_input(i) == (i[1:-1].count('1') == 1+ 3*i[1:-1].count('0'))):\n",
    "        print(i)"
   ]
  },
  {
   "cell_type": "code",
   "execution_count": null,
   "metadata": {},
   "outputs": [],
   "source": [
    "Q3_A_TM_v3 = DTM(\n",
    "    states={'A', 'B', 'C', 'E', 'F', 'G', 'H', 'I', 'J', 'K', 'L'},\n",
    "    input_symbols={'0', '1'},\n",
    "    tape_symbols={'0', '1', 'a','b', '$', '#', '_'},\n",
    "    transitions={\n",
    "        'A': {\n",
    "            '$': ('B', '$', 'R'),\n",
    "        },\n",
    "        'B': {\n",
    "            '0': ('B', '0', 'R'),\n",
    "            '1': ('C', 'b', 'R')\n",
    "        },\n",
    "        'C': {\n",
    "            '0': ('C', '0', 'R'),\n",
    "            '1': ('E', 'b', 'R'),\n",
    "            'a': ('C', 'a', 'R'),\n",
    "            'b': ('C', 'b', 'R'),\n",
    "            '#': ('K', '#', 'L')\n",
    "        },\n",
    "        'E': {\n",
    "            '0': ('E', '0', 'R'),\n",
    "            '1': ('F', 'b', 'R'),\n",
    "            'a': ('E', 'a', 'R'),\n",
    "        },\n",
    "        'F': {\n",
    "            '0': ('F', '0', 'R'),\n",
    "            '1': ('H', 'b', 'L'),\n",
    "            'a': ('F', 'a', 'R'),\n",
    "        },\n",
    "        'H': {\n",
    "            '0': ('H', '0', 'L'),\n",
    "            'a': ('H', 'a', 'L'),\n",
    "            'b': ('H', 'b', 'L'),\n",
    "            '$': ('I', '$', 'R'),\n",
    "        },\n",
    "        'I': {\n",
    "            '0': ('J', 'a', 'L'),\n",
    "            '1': ('I', '1', 'R'),\n",
    "            'a': ('I', 'a', 'R'),\n",
    "            'b': ('I', 'b', 'R'),\n",
    "        },\n",
    "        'J': {\n",
    "            '1': ('J', '1', 'L'),\n",
    "            'a': ('J', 'a', 'L'),\n",
    "            'b': ('J', 'b', 'L'),\n",
    "            '$': ('C', '$', 'R'),\n",
    "        },\n",
    "        'K':{\n",
    "            'a': ('K', 'a', 'L'),\n",
    "            'b': ('K', 'b', 'L'),\n",
    "            '$': ('L', '$', 'R'),\n",
    "        }\n",
    "        \n",
    "    },\n",
    "    initial_state='A',\n",
    "    blank_symbol='_',\n",
    "    final_states={'L'}\n",
    ")"
   ]
  },
  {
   "cell_type": "code",
   "execution_count": null,
   "metadata": {},
   "outputs": [],
   "source": [
    "for i in data:\n",
    "    if not (Q3_A_TM_v3.accepts_input(i) == (i[1:-1].count('1') == 1+ 3*i[1:-1].count('0'))):\n",
    "        print(i)"
   ]
  },
  {
   "cell_type": "code",
   "execution_count": null,
   "metadata": {},
   "outputs": [],
   "source": [
    "Q3_B_TM = DTM(\n",
    "    states={'A', 'B', 'C', 'D', 'E', 'F', 'G', 'H'},\n",
    "    input_symbols={'0', '1'},\n",
    "    tape_symbols={'0', '1', '$', '_'},\n",
    "    transitions={\n",
    "        'A': {\n",
    "\n",
    "            '$': ('B', '$', 'R'),\n",
    "        },\n",
    "        'B': {\n",
    "            '0': ('C', '0', 'R'),\n",
    "            '1': ('C', '1', 'R'),\n",
    "        },\n",
    "        'C': {\n",
    "            '0': ('C', '0', 'R'),\n",
    "            '1': ('C', '1', 'R'),\n",
    "            '_': ('D', '_', 'L'),\n",
    "        },\n",
    "        'D': {\n",
    "            '0': ('G', '1', 'L'),\n",
    "            '1': ('D', '0', 'L'),\n",
    "            '$': ('E', '$', 'R'),\n",
    "        },\n",
    "        'E': {\n",
    "            '0': ('F', '1', 'R'),\n",
    "        },\n",
    "        'F': {\n",
    "            '0': ('F', '0', 'R'),\n",
    "            '_': ('G', '0', 'L'),\n",
    "        },\n",
    "        'G': {\n",
    "            '0': ('G', '0', 'L'),\n",
    "            '1': ('G', '1', 'L'),\n",
    "            '$': ('H', '$', 'R'),\n",
    "        }            \n",
    "    },\n",
    "    initial_state='A',\n",
    "    blank_symbol='_',\n",
    "    final_states={'H'}\n",
    ")"
   ]
  },
  {
   "cell_type": "code",
   "execution_count": null,
   "metadata": {},
   "outputs": [
    {
     "data": {
      "text/plain": [
       "'11'"
      ]
     },
     "execution_count": 111,
     "metadata": {},
     "output_type": "execute_result"
    }
   ],
   "source": [
    "''.join(Q3_B_TM.read_input('$10')[1][0])[1:-1]"
   ]
  },
  {
   "cell_type": "code",
   "execution_count": null,
   "metadata": {},
   "outputs": [],
   "source": [
    "data = ['${}'.format(i) for i in data.split('\\n')]"
   ]
  },
  {
   "cell_type": "code",
   "execution_count": null,
   "metadata": {},
   "outputs": [],
   "source": [
    "for i in data:\n",
    "    inc_str = ''.join(Q3_B_TM.read_input(i)[1][0])[1:]\n",
    "    if inc_str[-1] == '_':\n",
    "        inc_str = inc_str[:-1] \n",
    "    try:        \n",
    "        inc_int = int(inc_str, 2)\n",
    "    except ValueError:\n",
    "        print('Error', inc_str)\n",
    "    if (inc_int != int(i[1:], 2) + 1):\n",
    "        print(i)"
   ]
  },
  {
   "cell_type": "code",
   "execution_count": null,
   "metadata": {},
   "outputs": [
    {
     "data": {
      "text/plain": [
       "TMConfiguration('H', TMTape('$100', 1))"
      ]
     },
     "execution_count": 126,
     "metadata": {},
     "output_type": "execute_result"
    }
   ],
   "source": [
    "Q3_B_TM.read_input('$11')"
   ]
  },
  {
   "cell_type": "code",
   "execution_count": 3,
   "metadata": {},
   "outputs": [
    {
     "ename": "InvalidDirectionError",
     "evalue": "result direction is not valid (S)",
     "output_type": "error",
     "traceback": [
      "\u001b[1;31m---------------------------------------------------------------------------\u001b[0m",
      "\u001b[1;31mInvalidDirectionError\u001b[0m                     Traceback (most recent call last)",
      "\u001b[1;32m~\\AppData\\Local\\Temp/ipykernel_25260/1193510084.py\u001b[0m in \u001b[0;36m<module>\u001b[1;34m\u001b[0m\n\u001b[1;32m----> 1\u001b[1;33m Q3_B_TM_v3 = DTM(\n\u001b[0m\u001b[0;32m      2\u001b[0m     \u001b[0mstates\u001b[0m\u001b[1;33m=\u001b[0m\u001b[1;33m{\u001b[0m\u001b[1;34m'A'\u001b[0m\u001b[1;33m,\u001b[0m \u001b[1;34m'B'\u001b[0m\u001b[1;33m,\u001b[0m \u001b[1;34m'C'\u001b[0m\u001b[1;33m,\u001b[0m \u001b[1;34m'D'\u001b[0m\u001b[1;33m,\u001b[0m \u001b[1;34m'E'\u001b[0m\u001b[1;33m,\u001b[0m \u001b[1;34m'F'\u001b[0m\u001b[1;33m,\u001b[0m \u001b[1;34m'G'\u001b[0m\u001b[1;33m,\u001b[0m \u001b[1;34m'H'\u001b[0m\u001b[1;33m}\u001b[0m\u001b[1;33m,\u001b[0m\u001b[1;33m\u001b[0m\u001b[1;33m\u001b[0m\u001b[0m\n\u001b[0;32m      3\u001b[0m     \u001b[0minput_symbols\u001b[0m\u001b[1;33m=\u001b[0m\u001b[1;33m{\u001b[0m\u001b[1;34m'0'\u001b[0m\u001b[1;33m,\u001b[0m \u001b[1;34m'1'\u001b[0m\u001b[1;33m}\u001b[0m\u001b[1;33m,\u001b[0m\u001b[1;33m\u001b[0m\u001b[1;33m\u001b[0m\u001b[0m\n\u001b[0;32m      4\u001b[0m     \u001b[0mtape_symbols\u001b[0m\u001b[1;33m=\u001b[0m\u001b[1;33m{\u001b[0m\u001b[1;34m'0'\u001b[0m\u001b[1;33m,\u001b[0m \u001b[1;34m'1'\u001b[0m\u001b[1;33m,\u001b[0m \u001b[1;34m'$'\u001b[0m\u001b[1;33m,\u001b[0m \u001b[1;34m'_'\u001b[0m\u001b[1;33m}\u001b[0m\u001b[1;33m,\u001b[0m\u001b[1;33m\u001b[0m\u001b[1;33m\u001b[0m\u001b[0m\n\u001b[0;32m      5\u001b[0m     transitions={\n",
      "\u001b[1;32md:\\Projects\\CourseProjects\\Automata\\venv\\lib\\site-packages\\automata\\tm\\dtm.py\u001b[0m in \u001b[0;36m__init__\u001b[1;34m(self, states, input_symbols, tape_symbols, transitions, initial_state, blank_symbol, final_states)\u001b[0m\n\u001b[0;32m     25\u001b[0m         \u001b[0mself\u001b[0m\u001b[1;33m.\u001b[0m\u001b[0mblank_symbol\u001b[0m \u001b[1;33m=\u001b[0m \u001b[0mblank_symbol\u001b[0m\u001b[1;33m\u001b[0m\u001b[1;33m\u001b[0m\u001b[0m\n\u001b[0;32m     26\u001b[0m         \u001b[0mself\u001b[0m\u001b[1;33m.\u001b[0m\u001b[0mfinal_states\u001b[0m \u001b[1;33m=\u001b[0m \u001b[0mfinal_states\u001b[0m\u001b[1;33m.\u001b[0m\u001b[0mcopy\u001b[0m\u001b[1;33m(\u001b[0m\u001b[1;33m)\u001b[0m\u001b[1;33m\u001b[0m\u001b[1;33m\u001b[0m\u001b[0m\n\u001b[1;32m---> 27\u001b[1;33m         \u001b[0mself\u001b[0m\u001b[1;33m.\u001b[0m\u001b[0mvalidate\u001b[0m\u001b[1;33m(\u001b[0m\u001b[1;33m)\u001b[0m\u001b[1;33m\u001b[0m\u001b[1;33m\u001b[0m\u001b[0m\n\u001b[0m\u001b[0;32m     28\u001b[0m \u001b[1;33m\u001b[0m\u001b[0m\n\u001b[0;32m     29\u001b[0m     \u001b[1;32mdef\u001b[0m \u001b[0m_validate_transition_state\u001b[0m\u001b[1;33m(\u001b[0m\u001b[0mself\u001b[0m\u001b[1;33m,\u001b[0m \u001b[0mtransition_state\u001b[0m\u001b[1;33m)\u001b[0m\u001b[1;33m:\u001b[0m\u001b[1;33m\u001b[0m\u001b[1;33m\u001b[0m\u001b[0m\n",
      "\u001b[1;32md:\\Projects\\CourseProjects\\Automata\\venv\\lib\\site-packages\\automata\\tm\\dtm.py\u001b[0m in \u001b[0;36mvalidate\u001b[1;34m(self)\u001b[0m\n\u001b[0;32m     76\u001b[0m         \u001b[0mself\u001b[0m\u001b[1;33m.\u001b[0m\u001b[0m_read_input_symbol_subset\u001b[0m\u001b[1;33m(\u001b[0m\u001b[1;33m)\u001b[0m\u001b[1;33m\u001b[0m\u001b[1;33m\u001b[0m\u001b[0m\n\u001b[0;32m     77\u001b[0m         \u001b[0mself\u001b[0m\u001b[1;33m.\u001b[0m\u001b[0m_validate_blank_symbol\u001b[0m\u001b[1;33m(\u001b[0m\u001b[1;33m)\u001b[0m\u001b[1;33m\u001b[0m\u001b[1;33m\u001b[0m\u001b[0m\n\u001b[1;32m---> 78\u001b[1;33m         \u001b[0mself\u001b[0m\u001b[1;33m.\u001b[0m\u001b[0m_validate_transitions\u001b[0m\u001b[1;33m(\u001b[0m\u001b[1;33m)\u001b[0m\u001b[1;33m\u001b[0m\u001b[1;33m\u001b[0m\u001b[0m\n\u001b[0m\u001b[0;32m     79\u001b[0m         \u001b[0mself\u001b[0m\u001b[1;33m.\u001b[0m\u001b[0m_validate_initial_state\u001b[0m\u001b[1;33m(\u001b[0m\u001b[1;33m)\u001b[0m\u001b[1;33m\u001b[0m\u001b[1;33m\u001b[0m\u001b[0m\n\u001b[0;32m     80\u001b[0m         \u001b[0mself\u001b[0m\u001b[1;33m.\u001b[0m\u001b[0m_validate_initial_state_transitions\u001b[0m\u001b[1;33m(\u001b[0m\u001b[1;33m)\u001b[0m\u001b[1;33m\u001b[0m\u001b[1;33m\u001b[0m\u001b[0m\n",
      "\u001b[1;32md:\\Projects\\CourseProjects\\Automata\\venv\\lib\\site-packages\\automata\\tm\\dtm.py\u001b[0m in \u001b[0;36m_validate_transitions\u001b[1;34m(self)\u001b[0m\n\u001b[0;32m     63\u001b[0m             \u001b[0mself\u001b[0m\u001b[1;33m.\u001b[0m\u001b[0m_validate_transition_state\u001b[0m\u001b[1;33m(\u001b[0m\u001b[0mstate\u001b[0m\u001b[1;33m)\u001b[0m\u001b[1;33m\u001b[0m\u001b[1;33m\u001b[0m\u001b[0m\n\u001b[0;32m     64\u001b[0m             \u001b[0mself\u001b[0m\u001b[1;33m.\u001b[0m\u001b[0m_validate_transition_symbols\u001b[0m\u001b[1;33m(\u001b[0m\u001b[0mstate\u001b[0m\u001b[1;33m,\u001b[0m \u001b[0mpaths\u001b[0m\u001b[1;33m)\u001b[0m\u001b[1;33m\u001b[0m\u001b[1;33m\u001b[0m\u001b[0m\n\u001b[1;32m---> 65\u001b[1;33m             \u001b[0mself\u001b[0m\u001b[1;33m.\u001b[0m\u001b[0m_validate_transition_results\u001b[0m\u001b[1;33m(\u001b[0m\u001b[0mpaths\u001b[0m\u001b[1;33m)\u001b[0m\u001b[1;33m\u001b[0m\u001b[1;33m\u001b[0m\u001b[0m\n\u001b[0m\u001b[0;32m     66\u001b[0m \u001b[1;33m\u001b[0m\u001b[0m\n\u001b[0;32m     67\u001b[0m     \u001b[1;32mdef\u001b[0m \u001b[0m_validate_final_state_transitions\u001b[0m\u001b[1;33m(\u001b[0m\u001b[0mself\u001b[0m\u001b[1;33m)\u001b[0m\u001b[1;33m:\u001b[0m\u001b[1;33m\u001b[0m\u001b[1;33m\u001b[0m\u001b[0m\n",
      "\u001b[1;32md:\\Projects\\CourseProjects\\Automata\\venv\\lib\\site-packages\\automata\\tm\\dtm.py\u001b[0m in \u001b[0;36m_validate_transition_results\u001b[1;34m(self, paths)\u001b[0m\n\u001b[0;32m     57\u001b[0m     \u001b[1;32mdef\u001b[0m \u001b[0m_validate_transition_results\u001b[0m\u001b[1;33m(\u001b[0m\u001b[0mself\u001b[0m\u001b[1;33m,\u001b[0m \u001b[0mpaths\u001b[0m\u001b[1;33m)\u001b[0m\u001b[1;33m:\u001b[0m\u001b[1;33m\u001b[0m\u001b[1;33m\u001b[0m\u001b[0m\n\u001b[0;32m     58\u001b[0m         \u001b[1;32mfor\u001b[0m \u001b[0mresult\u001b[0m \u001b[1;32min\u001b[0m \u001b[0mpaths\u001b[0m\u001b[1;33m.\u001b[0m\u001b[0mvalues\u001b[0m\u001b[1;33m(\u001b[0m\u001b[1;33m)\u001b[0m\u001b[1;33m:\u001b[0m\u001b[1;33m\u001b[0m\u001b[1;33m\u001b[0m\u001b[0m\n\u001b[1;32m---> 59\u001b[1;33m             \u001b[0mself\u001b[0m\u001b[1;33m.\u001b[0m\u001b[0m_validate_transition_result\u001b[0m\u001b[1;33m(\u001b[0m\u001b[0mresult\u001b[0m\u001b[1;33m)\u001b[0m\u001b[1;33m\u001b[0m\u001b[1;33m\u001b[0m\u001b[0m\n\u001b[0m\u001b[0;32m     60\u001b[0m \u001b[1;33m\u001b[0m\u001b[0m\n\u001b[0;32m     61\u001b[0m     \u001b[1;32mdef\u001b[0m \u001b[0m_validate_transitions\u001b[0m\u001b[1;33m(\u001b[0m\u001b[0mself\u001b[0m\u001b[1;33m)\u001b[0m\u001b[1;33m:\u001b[0m\u001b[1;33m\u001b[0m\u001b[1;33m\u001b[0m\u001b[0m\n",
      "\u001b[1;32md:\\Projects\\CourseProjects\\Automata\\venv\\lib\\site-packages\\automata\\tm\\dtm.py\u001b[0m in \u001b[0;36m_validate_transition_result\u001b[1;34m(self, result)\u001b[0m\n\u001b[0;32m     53\u001b[0m             raise exceptions.InvalidSymbolError(\n\u001b[0;32m     54\u001b[0m                 'result symbol is not valid ({})'.format(result_symbol))\n\u001b[1;32m---> 55\u001b[1;33m         \u001b[0mself\u001b[0m\u001b[1;33m.\u001b[0m\u001b[0m_validate_transition_result_direction\u001b[0m\u001b[1;33m(\u001b[0m\u001b[0mresult_direction\u001b[0m\u001b[1;33m)\u001b[0m\u001b[1;33m\u001b[0m\u001b[1;33m\u001b[0m\u001b[0m\n\u001b[0m\u001b[0;32m     56\u001b[0m \u001b[1;33m\u001b[0m\u001b[0m\n\u001b[0;32m     57\u001b[0m     \u001b[1;32mdef\u001b[0m \u001b[0m_validate_transition_results\u001b[0m\u001b[1;33m(\u001b[0m\u001b[0mself\u001b[0m\u001b[1;33m,\u001b[0m \u001b[0mpaths\u001b[0m\u001b[1;33m)\u001b[0m\u001b[1;33m:\u001b[0m\u001b[1;33m\u001b[0m\u001b[1;33m\u001b[0m\u001b[0m\n",
      "\u001b[1;32md:\\Projects\\CourseProjects\\Automata\\venv\\lib\\site-packages\\automata\\tm\\dtm.py\u001b[0m in \u001b[0;36m_validate_transition_result_direction\u001b[1;34m(self, result_direction)\u001b[0m\n\u001b[0;32m     41\u001b[0m     \u001b[1;32mdef\u001b[0m \u001b[0m_validate_transition_result_direction\u001b[0m\u001b[1;33m(\u001b[0m\u001b[0mself\u001b[0m\u001b[1;33m,\u001b[0m \u001b[0mresult_direction\u001b[0m\u001b[1;33m)\u001b[0m\u001b[1;33m:\u001b[0m\u001b[1;33m\u001b[0m\u001b[1;33m\u001b[0m\u001b[0m\n\u001b[0;32m     42\u001b[0m         \u001b[1;32mif\u001b[0m \u001b[0mresult_direction\u001b[0m \u001b[1;32mnot\u001b[0m \u001b[1;32min\u001b[0m \u001b[1;33m(\u001b[0m\u001b[1;34m'L'\u001b[0m\u001b[1;33m,\u001b[0m \u001b[1;34m'N'\u001b[0m\u001b[1;33m,\u001b[0m \u001b[1;34m'R'\u001b[0m\u001b[1;33m)\u001b[0m\u001b[1;33m:\u001b[0m\u001b[1;33m\u001b[0m\u001b[1;33m\u001b[0m\u001b[0m\n\u001b[1;32m---> 43\u001b[1;33m             raise tm_exceptions.InvalidDirectionError(\n\u001b[0m\u001b[0;32m     44\u001b[0m                 'result direction is not valid ({})'.format(\n\u001b[0;32m     45\u001b[0m                     result_direction))\n",
      "\u001b[1;31mInvalidDirectionError\u001b[0m: result direction is not valid (S)"
     ]
    }
   ],
   "source": [
    "Q3_B_TM_v3 = DTM(\n",
    "    states={'A', 'B', 'C', 'D', 'E', 'F', 'G', 'H'},\n",
    "    input_symbols={'0', '1'},\n",
    "    tape_symbols={'0', '1', '$', '_'},\n",
    "    transitions={\n",
    "        'A': {\n",
    "\n",
    "            '$': ('C', '$', 'R'),\n",
    "        },\n",
    "        'C': {\n",
    "            '0': ('C', '0', 'R'),\n",
    "            '1': ('C', '1', 'R'),\n",
    "            '_': ('D', '_', 'L'),\n",
    "        },\n",
    "        'D': {\n",
    "            '0': ('G', '1', 'L'),\n",
    "            '1': ('D', '0', 'L'),\n",
    "            '$': ('E', '$', 'R'),\n",
    "        },\n",
    "        'E': {\n",
    "            '0': ('F', '1', 'R'),\n",
    "        },\n",
    "        'F': {\n",
    "            '0': ('F', '0', 'R'),\n",
    "            '_': ('G', '0', 'L'),\n",
    "        },\n",
    "        'G': {\n",
    "            '0': ('G', '0', 'L'),\n",
    "            '1': ('G', '1', 'L'),\n",
    "            '$': ('H', '$', 'L'),\n",
    "        }            \n",
    "    },\n",
    "    initial_state='A',\n",
    "    blank_symbol='_',\n",
    "    final_states={'H'}\n",
    ")"
   ]
  },
  {
   "cell_type": "code",
   "execution_count": null,
   "metadata": {},
   "outputs": [],
   "source": [
    "for i in data:\n",
    "    inc_str = ''.join(Q3_B_TM.read_input(i)[1][0])[1:]\n",
    "    if inc_str[-1] == '_':\n",
    "        inc_str = inc_str[:-1] \n",
    "    try:        \n",
    "        inc_int = int(inc_str, 2)\n",
    "    except ValueError:\n",
    "        print('Error', inc_str)\n",
    "    if (inc_int != int(i[1:], 2) + 1):\n",
    "        print(i)"
   ]
  }
 ],
 "metadata": {
  "interpreter": {
   "hash": "67176aa62ce702ae4822ae5a2222842b74bf2fe1fdc4a19d69f0ad18bd063919"
  },
  "kernelspec": {
   "display_name": "Python 3.8.0 32-bit ('venv': venv)",
   "name": "python3"
  },
  "language_info": {
   "codemirror_mode": {
    "name": "ipython",
    "version": 3
   },
   "file_extension": ".py",
   "mimetype": "text/x-python",
   "name": "python",
   "nbconvert_exporter": "python",
   "pygments_lexer": "ipython3",
   "version": "3.8.0"
  },
  "orig_nbformat": 4
 },
 "nbformat": 4,
 "nbformat_minor": 2
}
