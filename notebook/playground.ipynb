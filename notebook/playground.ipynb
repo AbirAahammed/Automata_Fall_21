{
 "cells": [
  {
   "cell_type": "markdown",
   "metadata": {},
   "source": [
    "# Automata"
   ]
  },
  {
   "cell_type": "code",
   "execution_count": 1,
   "metadata": {},
   "outputs": [],
   "source": [
    "from itertools import chain, combinations"
   ]
  },
  {
   "cell_type": "code",
   "execution_count": 2,
   "metadata": {},
   "outputs": [],
   "source": [
    "L = [\"01\", \"00\", \"100\"]"
   ]
  },
  {
   "cell_type": "code",
   "execution_count": 3,
   "metadata": {},
   "outputs": [],
   "source": [
    "def power(l1, p):\n",
    "    if p == 1:\n",
    "        return l1\n",
    "    else:\n",
    "        res = power(l1, p - 1)\n",
    "        return concatLanguage(res, l1)\n",
    "\n",
    "def concatLanguage(l1, l2):\n",
    "    res = []\n",
    "    for k in l1:\n",
    "        for j in l2:\n",
    "            res.append(k+j)\n",
    "    return res\n",
    "\n",
    "def powerOfLanguage(l, p):\n",
    "    \"\"\"\n",
    "    Step one: Concatenate once\n",
    "    \"\"\"\n",
    "    res = l\n",
    "    for i in range(p - 1):\n",
    "        res = concatLanguage(res, l)\n",
    "    return res\n"
   ]
  },
  {
   "cell_type": "code",
   "execution_count": 4,
   "metadata": {},
   "outputs": [],
   "source": [
    "res = powerOfLanguage([\"01\", \"00\", \"100\"], 4)"
   ]
  },
  {
   "cell_type": "code",
   "execution_count": 5,
   "metadata": {},
   "outputs": [],
   "source": [
    "w1=\"01001000100\"\n",
    "w2=\"000010000\"\n",
    "w3=\"100000100001\"\n",
    "w4=\"100000100\""
   ]
  },
  {
   "cell_type": "code",
   "execution_count": 6,
   "metadata": {},
   "outputs": [],
   "source": [
    "def checkIn(l, w):\n",
    "    try:\n",
    "        print(l.index(w))\n",
    "    except:\n",
    "        raise ValueError('W not found')\n"
   ]
  },
  {
   "cell_type": "code",
   "execution_count": 7,
   "metadata": {},
   "outputs": [
    {
     "name": "stdout",
     "output_type": "stream",
     "text": [
      "0 not found\n",
      "43\n",
      "2 not found\n",
      "64\n"
     ]
    }
   ],
   "source": [
    "test = [w1, w2, w3, w4]\n",
    "index = 0\n",
    "for i in test:\n",
    "    try:\n",
    "        checkIn(res, i)\n",
    "    except ValueError as nf:\n",
    "        print(\"%d not found\" % index)\n",
    "    index += 1\n",
    "\n",
    "    "
   ]
  },
  {
   "cell_type": "code",
   "execution_count": 8,
   "metadata": {},
   "outputs": [
    {
     "data": {
      "text/plain": [
       "['01010101',\n",
       " '01010100',\n",
       " '010101100',\n",
       " '01010001',\n",
       " '01010000',\n",
       " '010100100',\n",
       " '010110001',\n",
       " '010110000',\n",
       " '0101100100',\n",
       " '01000101',\n",
       " '01000100',\n",
       " '010001100',\n",
       " '01000001',\n",
       " '01000000',\n",
       " '010000100',\n",
       " '010010001',\n",
       " '010010000',\n",
       " '0100100100',\n",
       " '011000101',\n",
       " '011000100',\n",
       " '0110001100',\n",
       " '011000001',\n",
       " '011000000',\n",
       " '0110000100',\n",
       " '0110010001',\n",
       " '0110010000',\n",
       " '01100100100',\n",
       " '00010101',\n",
       " '00010100',\n",
       " '000101100',\n",
       " '00010001',\n",
       " '00010000',\n",
       " '000100100',\n",
       " '000110001',\n",
       " '000110000',\n",
       " '0001100100',\n",
       " '00000101',\n",
       " '00000100',\n",
       " '000001100',\n",
       " '00000001',\n",
       " '00000000',\n",
       " '000000100',\n",
       " '000010001',\n",
       " '000010000',\n",
       " '0000100100',\n",
       " '001000101',\n",
       " '001000100',\n",
       " '0010001100',\n",
       " '001000001',\n",
       " '001000000',\n",
       " '0010000100',\n",
       " '0010010001',\n",
       " '0010010000',\n",
       " '00100100100',\n",
       " '100010101',\n",
       " '100010100',\n",
       " '1000101100',\n",
       " '100010001',\n",
       " '100010000',\n",
       " '1000100100',\n",
       " '1000110001',\n",
       " '1000110000',\n",
       " '10001100100',\n",
       " '100000101',\n",
       " '100000100',\n",
       " '1000001100',\n",
       " '100000001',\n",
       " '100000000',\n",
       " '1000000100',\n",
       " '1000010001',\n",
       " '1000010000',\n",
       " '10000100100',\n",
       " '1001000101',\n",
       " '1001000100',\n",
       " '10010001100',\n",
       " '1001000001',\n",
       " '1001000000',\n",
       " '10010000100',\n",
       " '10010010001',\n",
       " '10010010000',\n",
       " '100100100100']"
      ]
     },
     "execution_count": 8,
     "metadata": {},
     "output_type": "execute_result"
    }
   ],
   "source": [
    "res"
   ]
  },
  {
   "cell_type": "code",
   "execution_count": 9,
   "metadata": {},
   "outputs": [],
   "source": [
    "res2 = []\n",
    "for i in range(10):\n",
    "    res2 = res2 + powerOfLanguage([\"01\", \"00\", \"100\"], i+1)\n"
   ]
  },
  {
   "cell_type": "code",
   "execution_count": 10,
   "metadata": {},
   "outputs": [
    {
     "name": "stdout",
     "output_type": "stream",
     "text": [
      "166\n",
      "82\n",
      "2 not found\n",
      "103\n"
     ]
    }
   ],
   "source": [
    "test = [w1, w2, w3, w4]\n",
    "index = 0\n",
    "for i in test:\n",
    "    try:\n",
    "        checkIn(res2, i)\n",
    "    except ValueError as nf:\n",
    "        print(\"%d not found\" % index)\n",
    "    index += 1"
   ]
  },
  {
   "cell_type": "markdown",
   "metadata": {},
   "source": [
    "# <center>Shortlex ordering</center>"
   ]
  },
  {
   "cell_type": "code",
   "execution_count": 11,
   "metadata": {},
   "outputs": [],
   "source": [
    "alphabet = ['0', '1']\n",
    "L = ['010', '01', '100']"
   ]
  },
  {
   "cell_type": "code",
   "execution_count": 12,
   "metadata": {},
   "outputs": [],
   "source": [
    "res_short = []\n",
    "for i in range(4):\n",
    "    res_short = res_short + powerOfLanguage(L, i+1)"
   ]
  },
  {
   "cell_type": "code",
   "execution_count": 13,
   "metadata": {},
   "outputs": [],
   "source": [
    "res_short.sort()\n",
    "res_short.sort(key=len, reverse=False)"
   ]
  },
  {
   "cell_type": "code",
   "execution_count": 14,
   "metadata": {},
   "outputs": [],
   "source": [
    "res_short.sort(key=len, reverse=False)"
   ]
  },
  {
   "cell_type": "markdown",
   "metadata": {},
   "source": [
    "# Answer for shortlex order: \n"
   ]
  },
  {
   "cell_type": "code",
   "execution_count": 15,
   "metadata": {},
   "outputs": [
    {
     "data": {
      "text/plain": [
       "['01',\n",
       " '010',\n",
       " '100',\n",
       " '0101',\n",
       " '01001',\n",
       " '01010',\n",
       " '01100',\n",
       " '10001',\n",
       " '010010',\n",
       " '010100',\n",
       " '010101',\n",
       " '100010',\n",
       " '100100',\n",
       " '0100101',\n",
       " '0101001',\n",
       " '0101010']"
      ]
     },
     "execution_count": 15,
     "metadata": {},
     "output_type": "execute_result"
    }
   ],
   "source": [
    "res_short[:16]"
   ]
  },
  {
   "cell_type": "markdown",
   "metadata": {},
   "source": [
    "# Power set"
   ]
  },
  {
   "cell_type": "code",
   "execution_count": 16,
   "metadata": {},
   "outputs": [],
   "source": [
    "\n",
    "def powerset(iterable):\n",
    "    \"powerset([1,2,3]) --> () (1,) (2,) (3,) (1,2) (1,3) (2,3) (1,2,3)\"\n",
    "    s = list(iterable)\n",
    "    return chain.from_iterable(combinations(s, r) for r in range(len(s)+1))"
   ]
  },
  {
   "cell_type": "code",
   "execution_count": 17,
   "metadata": {},
   "outputs": [
    {
     "data": {
      "text/plain": [
       "[(), (('a', 2),), (('b', 2),), (('a', 2), ('b', 2))]"
      ]
     },
     "execution_count": 17,
     "metadata": {},
     "output_type": "execute_result"
    }
   ],
   "source": [
    "list(powerset([('a', 2), ('b', 2), ]))"
   ]
  },
  {
   "cell_type": "markdown",
   "metadata": {},
   "source": [
    "The answer of 4d is : {$\\phi$, {(a, 2)}, {(b, 2)}, {(a, 2), (b, 2)} }"
   ]
  },
  {
   "cell_type": "markdown",
   "metadata": {},
   "source": [
    "## Week 04"
   ]
  },
  {
   "cell_type": "markdown",
   "metadata": {},
   "source": [
    "> Machine algorithm"
   ]
  },
  {
   "cell_type": "code",
   "execution_count": 18,
   "metadata": {},
   "outputs": [],
   "source": [
    "import numpy as np"
   ]
  },
  {
   "cell_type": "code",
   "execution_count": 19,
   "metadata": {},
   "outputs": [],
   "source": [
    "num_states = 5\n",
    "num_salphabets = 2\n",
    "state_table = np.array([[1,2,3], [1,2,3]])"
   ]
  },
  {
   "cell_type": "code",
   "execution_count": 20,
   "metadata": {},
   "outputs": [],
   "source": [
    "state_table = np.array([\n",
    "    [\n",
    "        [1],\n",
    "        [1],\n",
    "        [2]\n",
    "    ], \n",
    "    [\n",
    "        [1,2],\n",
    "        [2],\n",
    "        []\n",
    "    ], \n",
    "    [\n",
    "        [0],\n",
    "        [],\n",
    "        []\n",
    "    ]\n",
    "], dtype=object)"
   ]
  },
  {
   "cell_type": "code",
   "execution_count": 21,
   "metadata": {},
   "outputs": [],
   "source": [
    "m_state = [1, 0, 0]\n",
    "string = \"0001100110\"\n",
    "string = [int(char) for char in string]\n",
    "\n"
   ]
  }
 ],
 "metadata": {
  "interpreter": {
   "hash": "67176aa62ce702ae4822ae5a2222842b74bf2fe1fdc4a19d69f0ad18bd063919"
  },
  "kernelspec": {
   "display_name": "Python 3.8.0 32-bit ('venv': venv)",
   "name": "python3"
  },
  "language_info": {
   "codemirror_mode": {
    "name": "ipython",
    "version": 3
   },
   "file_extension": ".py",
   "mimetype": "text/x-python",
   "name": "python",
   "nbconvert_exporter": "python",
   "pygments_lexer": "ipython3",
   "version": "3.8.0"
  },
  "orig_nbformat": 4
 },
 "nbformat": 4,
 "nbformat_minor": 2
}
