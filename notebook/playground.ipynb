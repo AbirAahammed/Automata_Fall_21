{
 "cells": [
  {
   "cell_type": "markdown",
   "metadata": {},
   "source": [
    "# Automata"
   ]
  },
  {
   "cell_type": "code",
   "execution_count": 1,
   "metadata": {},
   "outputs": [],
   "source": [
    "from itertools import chain, combinations"
   ]
  },
  {
   "cell_type": "code",
   "execution_count": 2,
   "metadata": {},
   "outputs": [],
   "source": [
    "L = [\"01\", \"00\", \"100\"]"
   ]
  },
  {
   "cell_type": "code",
   "execution_count": 29,
   "metadata": {},
   "outputs": [],
   "source": [
    "def power(l1, p):\n",
    "    if p == 1:\n",
    "        return l1\n",
    "    else:\n",
    "        res = power(l1, p - 1)\n",
    "        return concatLanguage(res, l1)\n",
    "\n",
    "def concatLanguage(l1, l2):\n",
    "    res = []\n",
    "    for k in l1:\n",
    "        for j in l2:\n",
    "            res.append(k+j)\n",
    "    return res\n",
    "\n",
    "def powerOfLanguage(l, p):\n",
    "    \"\"\"\n",
    "    Step one: Concatenate once\n",
    "    \"\"\"\n",
    "    if p == 0:\n",
    "        return []\n",
    "    res = l\n",
    "    for i in range(p - 1):\n",
    "        res = concatLanguage(res, l)\n",
    "    return res\n"
   ]
  },
  {
   "cell_type": "code",
   "execution_count": 4,
   "metadata": {},
   "outputs": [],
   "source": [
    "res = powerOfLanguage([\"01\", \"00\", \"100\"], 4)"
   ]
  },
  {
   "cell_type": "code",
   "execution_count": 5,
   "metadata": {},
   "outputs": [],
   "source": [
    "w1=\"01001000100\"\n",
    "w2=\"000010000\"\n",
    "w3=\"100000100001\"\n",
    "w4=\"100000100\""
   ]
  },
  {
   "cell_type": "code",
   "execution_count": 6,
   "metadata": {},
   "outputs": [],
   "source": [
    "def checkIn(l, w):\n",
    "    try:\n",
    "        print(l.index(w))\n",
    "    except:\n",
    "        raise ValueError('W not found')\n"
   ]
  },
  {
   "cell_type": "code",
   "execution_count": 7,
   "metadata": {},
   "outputs": [
    {
     "name": "stdout",
     "output_type": "stream",
     "text": [
      "0 not found\n",
      "43\n",
      "2 not found\n",
      "64\n"
     ]
    }
   ],
   "source": [
    "test = [w1, w2, w3, w4]\n",
    "index = 0\n",
    "for i in test:\n",
    "    try:\n",
    "        checkIn(res, i)\n",
    "    except ValueError as nf:\n",
    "        print(\"%d not found\" % index)\n",
    "    index += 1\n",
    "\n",
    "    "
   ]
  },
  {
   "cell_type": "code",
   "execution_count": 8,
   "metadata": {},
   "outputs": [
    {
     "data": {
      "text/plain": [
       "['01010101',\n",
       " '01010100',\n",
       " '010101100',\n",
       " '01010001',\n",
       " '01010000',\n",
       " '010100100',\n",
       " '010110001',\n",
       " '010110000',\n",
       " '0101100100',\n",
       " '01000101',\n",
       " '01000100',\n",
       " '010001100',\n",
       " '01000001',\n",
       " '01000000',\n",
       " '010000100',\n",
       " '010010001',\n",
       " '010010000',\n",
       " '0100100100',\n",
       " '011000101',\n",
       " '011000100',\n",
       " '0110001100',\n",
       " '011000001',\n",
       " '011000000',\n",
       " '0110000100',\n",
       " '0110010001',\n",
       " '0110010000',\n",
       " '01100100100',\n",
       " '00010101',\n",
       " '00010100',\n",
       " '000101100',\n",
       " '00010001',\n",
       " '00010000',\n",
       " '000100100',\n",
       " '000110001',\n",
       " '000110000',\n",
       " '0001100100',\n",
       " '00000101',\n",
       " '00000100',\n",
       " '000001100',\n",
       " '00000001',\n",
       " '00000000',\n",
       " '000000100',\n",
       " '000010001',\n",
       " '000010000',\n",
       " '0000100100',\n",
       " '001000101',\n",
       " '001000100',\n",
       " '0010001100',\n",
       " '001000001',\n",
       " '001000000',\n",
       " '0010000100',\n",
       " '0010010001',\n",
       " '0010010000',\n",
       " '00100100100',\n",
       " '100010101',\n",
       " '100010100',\n",
       " '1000101100',\n",
       " '100010001',\n",
       " '100010000',\n",
       " '1000100100',\n",
       " '1000110001',\n",
       " '1000110000',\n",
       " '10001100100',\n",
       " '100000101',\n",
       " '100000100',\n",
       " '1000001100',\n",
       " '100000001',\n",
       " '100000000',\n",
       " '1000000100',\n",
       " '1000010001',\n",
       " '1000010000',\n",
       " '10000100100',\n",
       " '1001000101',\n",
       " '1001000100',\n",
       " '10010001100',\n",
       " '1001000001',\n",
       " '1001000000',\n",
       " '10010000100',\n",
       " '10010010001',\n",
       " '10010010000',\n",
       " '100100100100']"
      ]
     },
     "execution_count": 8,
     "metadata": {},
     "output_type": "execute_result"
    }
   ],
   "source": [
    "res"
   ]
  },
  {
   "cell_type": "code",
   "execution_count": 9,
   "metadata": {},
   "outputs": [],
   "source": [
    "res2 = []\n",
    "for i in range(10):\n",
    "    res2 = res2 + powerOfLanguage([\"01\", \"00\", \"100\"], i+1)\n"
   ]
  },
  {
   "cell_type": "code",
   "execution_count": 10,
   "metadata": {},
   "outputs": [
    {
     "name": "stdout",
     "output_type": "stream",
     "text": [
      "166\n",
      "82\n",
      "2 not found\n",
      "103\n"
     ]
    }
   ],
   "source": [
    "test = [w1, w2, w3, w4]\n",
    "index = 0\n",
    "for i in test:\n",
    "    try:\n",
    "        checkIn(res2, i)\n",
    "    except ValueError as nf:\n",
    "        print(\"%d not found\" % index)\n",
    "    index += 1"
   ]
  },
  {
   "cell_type": "markdown",
   "metadata": {},
   "source": [
    "# <center>Shortlex ordering</center>"
   ]
  },
  {
   "cell_type": "code",
   "execution_count": 11,
   "metadata": {},
   "outputs": [],
   "source": [
    "alphabet = ['0', '1']\n",
    "L = ['010', '01', '100']"
   ]
  },
  {
   "cell_type": "code",
   "execution_count": 12,
   "metadata": {},
   "outputs": [],
   "source": [
    "res_short = []\n",
    "for i in range(4):\n",
    "    res_short = res_short + powerOfLanguage(L, i+1)"
   ]
  },
  {
   "cell_type": "code",
   "execution_count": 13,
   "metadata": {},
   "outputs": [],
   "source": [
    "res_short.sort()\n",
    "res_short.sort(key=len, reverse=False)"
   ]
  },
  {
   "cell_type": "code",
   "execution_count": 14,
   "metadata": {},
   "outputs": [],
   "source": [
    "res_short.sort(key=len, reverse=False)"
   ]
  },
  {
   "cell_type": "markdown",
   "metadata": {},
   "source": [
    "# Answer for shortlex order: \n"
   ]
  },
  {
   "cell_type": "code",
   "execution_count": 15,
   "metadata": {},
   "outputs": [
    {
     "data": {
      "text/plain": [
       "['01',\n",
       " '010',\n",
       " '100',\n",
       " '0101',\n",
       " '01001',\n",
       " '01010',\n",
       " '01100',\n",
       " '10001',\n",
       " '010010',\n",
       " '010100',\n",
       " '010101',\n",
       " '100010',\n",
       " '100100',\n",
       " '0100101',\n",
       " '0101001',\n",
       " '0101010']"
      ]
     },
     "execution_count": 15,
     "metadata": {},
     "output_type": "execute_result"
    }
   ],
   "source": [
    "res_short[:16]"
   ]
  },
  {
   "cell_type": "markdown",
   "metadata": {},
   "source": [
    "# Power set"
   ]
  },
  {
   "cell_type": "code",
   "execution_count": 16,
   "metadata": {},
   "outputs": [],
   "source": [
    "\n",
    "def powerset(iterable):\n",
    "    \"powerset([1,2,3]) --> () (1,) (2,) (3,) (1,2) (1,3) (2,3) (1,2,3)\"\n",
    "    s = list(iterable)\n",
    "    return chain.from_iterable(combinations(s, r) for r in range(len(s)+1))"
   ]
  },
  {
   "cell_type": "code",
   "execution_count": 17,
   "metadata": {},
   "outputs": [
    {
     "data": {
      "text/plain": [
       "[(), (('a', 2),), (('b', 2),), (('a', 2), ('b', 2))]"
      ]
     },
     "execution_count": 17,
     "metadata": {},
     "output_type": "execute_result"
    }
   ],
   "source": [
    "list(powerset([('a', 2), ('b', 2), ]))"
   ]
  },
  {
   "cell_type": "markdown",
   "metadata": {},
   "source": [
    "The answer of 4d is : {$\\phi$, {(a, 2)}, {(b, 2)}, {(a, 2), (b, 2)} }"
   ]
  },
  {
   "cell_type": "markdown",
   "metadata": {},
   "source": [
    "## Week 04"
   ]
  },
  {
   "cell_type": "markdown",
   "metadata": {},
   "source": [
    "> Machine algorithm"
   ]
  },
  {
   "cell_type": "code",
   "execution_count": 18,
   "metadata": {},
   "outputs": [],
   "source": [
    "import numpy as np"
   ]
  },
  {
   "cell_type": "code",
   "execution_count": 19,
   "metadata": {},
   "outputs": [],
   "source": [
    "num_states = 5\n",
    "num_salphabets = 2\n",
    "state_table = np.array([[1,2,3], [1,2,3]])"
   ]
  },
  {
   "cell_type": "code",
   "execution_count": 20,
   "metadata": {},
   "outputs": [],
   "source": [
    "state_table = np.array([\n",
    "    [\n",
    "        [1],\n",
    "        [1],\n",
    "        [2]\n",
    "    ], \n",
    "    [\n",
    "        [1,2],\n",
    "        [2],\n",
    "        []\n",
    "    ], \n",
    "    [\n",
    "        [0],\n",
    "        [],\n",
    "        []\n",
    "    ]\n",
    "], dtype=object)"
   ]
  },
  {
   "cell_type": "code",
   "execution_count": 21,
   "metadata": {},
   "outputs": [],
   "source": [
    "m_state = [1, 0, 0]\n",
    "string = \"0001100110\"\n",
    "string = [int(char) for char in string]\n",
    "\n"
   ]
  },
  {
   "cell_type": "markdown",
   "metadata": {},
   "source": [
    "# Assignment 3 Rough work"
   ]
  },
  {
   "cell_type": "code",
   "execution_count": 30,
   "metadata": {},
   "outputs": [
    {
     "data": {
      "text/plain": [
       "(0, 2, 4, 8, 16)"
      ]
     },
     "execution_count": 30,
     "metadata": {},
     "output_type": "execute_result"
    }
   ],
   "source": [
    "len(powerOfLanguage(['0', '1'], 0)), len(powerOfLanguage(['0', '1'], 1)), len(powerOfLanguage(['0', '1'], 2)), len(powerOfLanguage(['0', '1'], 3)), len(powerOfLanguage(['0', '1'], 4))"
   ]
  },
  {
   "cell_type": "code",
   "execution_count": 33,
   "metadata": {},
   "outputs": [
    {
     "name": "stdout",
     "output_type": "stream",
     "text": [
      "i : 0, length : 0\n",
      "i : 1, length : 2\n",
      "i : 2, length : 4\n",
      "i : 3, length : 8\n",
      "i : 4, length : 16\n",
      "i : 5, length : 32\n",
      "i : 6, length : 64\n",
      "i : 7, length : 128\n",
      "i : 8, length : 256\n",
      "i : 9, length : 512\n"
     ]
    }
   ],
   "source": [
    "for i in range(10):\n",
    "    print('i : {}, length : {}'.format(i,len(powerOfLanguage(['0', '1'], i))))"
   ]
  },
  {
   "cell_type": "code",
   "execution_count": 36,
   "metadata": {},
   "outputs": [
    {
     "name": "stdout",
     "output_type": "stream",
     "text": [
      "Thread-1: Sun Oct 24 12:26:47 2021\n",
      "Thread-2: Sun Oct 24 12:26:49 2021\n",
      "Thread-1: Sun Oct 24 12:26:50 2021\n",
      "Thread-1: Sun Oct 24 12:26:52 2021\n",
      "Thread-2: Sun Oct 24 12:26:54 2021\n",
      "Thread-1: Sun Oct 24 12:26:54 2021\n",
      "Thread-1: Sun Oct 24 12:26:56 2021\n",
      "Thread-2: Sun Oct 24 12:26:58 2021\n",
      "Thread-2: Sun Oct 24 12:27:02 2021\n",
      "Thread-2: Sun Oct 24 12:27:06 2021\n"
     ]
    },
    {
     "ename": "KeyboardInterrupt",
     "evalue": "",
     "output_type": "error",
     "traceback": [
      "\u001b[1;31m---------------------------------------------------------------------------\u001b[0m",
      "\u001b[1;31mKeyboardInterrupt\u001b[0m                         Traceback (most recent call last)",
      "\u001b[1;32m~\\AppData\\Local\\Temp/ipykernel_25428/4073777765.py\u001b[0m in \u001b[0;36m<module>\u001b[1;34m\u001b[0m\n\u001b[0;32m     18\u001b[0m \u001b[1;33m\u001b[0m\u001b[0m\n\u001b[0;32m     19\u001b[0m \u001b[1;32mwhile\u001b[0m \u001b[1;36m1\u001b[0m\u001b[1;33m:\u001b[0m\u001b[1;33m\u001b[0m\u001b[1;33m\u001b[0m\u001b[0m\n\u001b[1;32m---> 20\u001b[1;33m    \u001b[1;32mpass\u001b[0m\u001b[1;33m\u001b[0m\u001b[1;33m\u001b[0m\u001b[0m\n\u001b[0m",
      "\u001b[1;31mKeyboardInterrupt\u001b[0m: "
     ]
    }
   ],
   "source": [
    "import _thread as thread\n",
    "import time\n",
    "\n",
    "# Define a function for the thread\n",
    "def print_time( threadName, delay):\n",
    "   count = 0\n",
    "   while count < 5:\n",
    "      time.sleep(delay)\n",
    "      count += 1\n",
    "      print(\"%s: %s\" % ( threadName, time.ctime(time.time()) ))\n",
    "\n",
    "# Create two threads as follows\n",
    "try:\n",
    "   thread.start_new_thread( print_time, (\"Thread-1\", 2, ) )\n",
    "   thread.start_new_thread( print_time, (\"Thread-2\", 4, ) )\n",
    "except:\n",
    "   print(\"Error: unable to start thread\")\n",
    "\n",
    "while 1:\n",
    "   pass"
   ]
  },
  {
   "cell_type": "code",
   "execution_count": 53,
   "metadata": {},
   "outputs": [
    {
     "name": "stderr",
     "output_type": "stream",
     "text": [
      "12:49:06: Main    : before creating thread\n",
      "12:49:06: Main    : before running thread\n",
      "12:49:06: Thread 2: starting\n",
      "12:49:06: Main    : wait for the thread to finish\n",
      "12:49:06: Main    : all done\n",
      "12:49:08: Thread 2: finishing\n"
     ]
    }
   ],
   "source": [
    "import logging\n",
    "import threading\n",
    "import time\n",
    "\n",
    "def thread_function(name):\n",
    "    logging.info(\"Thread %s: starting\", name)\n",
    "    time.sleep(2)\n",
    "    logging.info(\"Thread %s: finishing\", name)\n",
    "\n",
    "if __name__ == \"__main__\":\n",
    "    format = \"%(asctime)s: %(message)s\"\n",
    "    logging.basicConfig(format=format, level=logging.INFO,\n",
    "                        datefmt=\"%H:%M:%S\")\n",
    "\n",
    "    logging.info(\"Main    : before creating thread\")\n",
    "    x = threading.Thread(target=thread_function, args=(2,))\n",
    "    logging.info(\"Main    : before running thread\")\n",
    "    x.start()\n",
    "    logging.info(\"Main    : wait for the thread to finish\")\n",
    "    # x.join()\n",
    "    logging.info(\"Main    : all done\")"
   ]
  },
  {
   "cell_type": "code",
   "execution_count": 89,
   "metadata": {},
   "outputs": [
    {
     "name": "stderr",
     "output_type": "stream",
     "text": [
      "13:22:12: Thread : 1 : has started.\n",
      "13:22:12: Length : 2046\n",
      "13:22:12: Thread : 1 : has finished.\n"
     ]
    },
    {
     "name": "stdout",
     "output_type": "stream",
     "text": [
      "[]\n"
     ]
    }
   ],
   "source": [
    "from threading import  Thread\n",
    "import logging\n",
    "\n",
    "def thread_function(p_start, p_end, t_name, res):\n",
    "    logging.info(\"Thread : {} : has started.\".format(t_name))\n",
    "\n",
    "    for i in range(p_start, p_end+1):\n",
    "        res = res + powerOfLanguage(['0', '1'], i)\n",
    "    logging.info(\"Length : {}\".format(len(res)))\n",
    "    logging.info(\"Thread : {} : has finished.\".format(t_name))\n",
    "\n",
    "#create a list of threads\n",
    "threads = []\n",
    "res = []\n",
    "process = Thread(target=thread_function, args=[0, 10, 1, res])\n",
    "process.start()\n",
    "threads.append(process)\n",
    "# We now pause execution on the main thread by 'joining' all of our started threads.\n",
    "# This ensures that each has finished processing the urls.\n",
    "for process in threads:\n",
    "    process.join()\n",
    "print(res)\n",
    "# At this point, results for each URL are now neatly stored in order in 'results'\n"
   ]
  },
  {
   "cell_type": "code",
   "execution_count": 88,
   "metadata": {},
   "outputs": [
    {
     "name": "stderr",
     "output_type": "stream",
     "text": [
      "13:13:56: Main    : Starting thread\n",
      "13:13:56: Thread : 1 : has started.\n",
      "13:13:56: Length : 2046\n",
      "13:13:56: Thread : 2 : has started.\n",
      "13:13:56: Thread : 1 : has finished.\n",
      "13:13:56: Length : 6144\n",
      "13:13:56: Thread : 2 : has finished.\n",
      "13:13:56: Main    : All thread finished\n"
     ]
    },
    {
     "name": "stdout",
     "output_type": "stream",
     "text": [
      "[] []\n"
     ]
    }
   ],
   "source": [
    "import logging\n",
    "import threading\n",
    "import time\n",
    "\n",
    "def thread_function(p_start, p_end, t_name, res):\n",
    "    logging.info(\"Thread : {} : has started.\".format(t_name))\n",
    "\n",
    "    for i in range(p_start, p_end+1):\n",
    "        res = res + powerOfLanguage(['0', '1'], i)\n",
    "    logging.info(\"Length : {}\".format(len(res)))\n",
    "    logging.info(\"Thread : {} : has finished.\".format(t_name))\n",
    "\n",
    "res_x1 = []\n",
    "res_x2 = []\n",
    "res_x3 = []\n",
    "res_x4 = []\n",
    "res_x5 = []\n",
    "\n",
    "x1 = threading.Thread(target=thread_function, args=(0, 10, 1, res_x1))\n",
    "x2 = threading.Thread(target=thread_function, args=(11, 12, 2, res_x2))\n",
    "# x3 = threading.Thread(target=thread_function, args=(53, 54, 3, res_x3))\n",
    "# x4 = threading.Thread(target=thread_function, args=(55, 56, 4, res_x4))\n",
    "# x5 = threading.Thread(target=thread_function, args=(56, 57, 5, res_x5))\n",
    "logging.info(\"Main    : Starting thread\")\n",
    "x1.start()\n",
    "x2.start()\n",
    "# x3.start()\n",
    "# x4.start()\n",
    "# x5.start()\n",
    "x1.join()\n",
    "x2.join()\n",
    "# x3.join()\n",
    "# x4.join()\n",
    "# x5.join()\n",
    "logging.info(\"Main    : All thread finished\")\n",
    "print(res_x1, res_x2)\n",
    "\n",
    "\n"
   ]
  },
  {
   "cell_type": "code",
   "execution_count": 45,
   "metadata": {},
   "outputs": [
    {
     "data": {
      "text/plain": [
       "['0',\n",
       " '1',\n",
       " '00',\n",
       " '01',\n",
       " '10',\n",
       " '11',\n",
       " '000',\n",
       " '001',\n",
       " '010',\n",
       " '011',\n",
       " '100',\n",
       " '101',\n",
       " '110',\n",
       " '111',\n",
       " '0000',\n",
       " '0001',\n",
       " '0010',\n",
       " '0011',\n",
       " '0100',\n",
       " '0101',\n",
       " '0110',\n",
       " '0111',\n",
       " '1000',\n",
       " '1001',\n",
       " '1010',\n",
       " '1011',\n",
       " '1100',\n",
       " '1101',\n",
       " '1110',\n",
       " '1111']"
      ]
     },
     "execution_count": 45,
     "metadata": {},
     "output_type": "execute_result"
    }
   ],
   "source": [
    "res = []\n",
    "for i in range(5):\n",
    "    res = res+powerOfLanguage(['0', '1'], i)\n",
    "res"
   ]
  },
  {
   "cell_type": "code",
   "execution_count": 43,
   "metadata": {},
   "outputs": [
    {
     "data": {
      "text/plain": [
       "array([list([]), list(['0', '1']), list(['00', '01', '10', '11'])],\n",
       "      dtype=object)"
      ]
     },
     "execution_count": 43,
     "metadata": {},
     "output_type": "execute_result"
    }
   ],
   "source": [
    "res.flatten()"
   ]
  },
  {
   "cell_type": "code",
   "execution_count": 54,
   "metadata": {},
   "outputs": [
    {
     "name": "stdout",
     "output_type": "stream",
     "text": [
      "0\n",
      "1\n",
      "2\n",
      "3\n",
      "4\n",
      "5\n",
      "--------------------------------------\n",
      "6\n"
     ]
    }
   ],
   "source": [
    "p_start = 0\n",
    "p_end = p_start + 5\n",
    "for i in range(p_start, p_end + 1):\n",
    "    print(i)\n",
    "print(\"--------------------------------------\")\n",
    "p_start = p_start + 5 + 1\n",
    "p_end = p_start + 1\n",
    "\n",
    "for i in range(p_start, p_end):\n",
    "    print(i)"
   ]
  },
  {
   "cell_type": "code",
   "execution_count": 4,
   "metadata": {},
   "outputs": [
    {
     "data": {
      "text/plain": [
       "[1, 2, 3, 1, 2, 1, 4, 5, 6, 7]"
      ]
     },
     "execution_count": 4,
     "metadata": {},
     "output_type": "execute_result"
    }
   ],
   "source": [
    "[j for sub in [[1,2,3],[1,2],[1,4,5,6,7]] for j in sub]"
   ]
  },
  {
   "cell_type": "code",
   "execution_count": 5,
   "metadata": {},
   "outputs": [],
   "source": [
    "from multiprocessing import Pool\n",
    "\n",
    "def powerOfLanguageMod(p):\n",
    "    return powerOfLanguage(['0', '1'], p)\n",
    "\n",
    "\n",
    "res = []\n",
    "with Pool(5) as p:\n",
    "    res = p.map(powerOfLanguageMod, [i for i in range(4+1)])\n",
    "res = [j for sub in res for j in sub]\n",
    "print(res)\n",
    "print(len(res))"
   ]
  },
  {
   "cell_type": "code",
   "execution_count": 5,
   "metadata": {},
   "outputs": [
    {
     "data": {
      "text/plain": [
       "'John\\nCharles\\nSmith'"
      ]
     },
     "execution_count": 5,
     "metadata": {},
     "output_type": "execute_result"
    }
   ],
   "source": [
    "\"\\n\".join([\"John\", \"Charles\", \"Smith\"])\n"
   ]
  },
  {
   "cell_type": "code",
   "execution_count": 6,
   "metadata": {},
   "outputs": [
    {
     "data": {
      "text/plain": [
       "22"
      ]
     },
     "execution_count": 6,
     "metadata": {},
     "output_type": "execute_result"
    }
   ],
   "source": [
    "len('1111111111111111111111')"
   ]
  }
 ],
 "metadata": {
  "interpreter": {
   "hash": "67176aa62ce702ae4822ae5a2222842b74bf2fe1fdc4a19d69f0ad18bd063919"
  },
  "kernelspec": {
   "display_name": "Python 3.8.0 32-bit ('venv': venv)",
   "name": "python3"
  },
  "language_info": {
   "codemirror_mode": {
    "name": "ipython",
    "version": 3
   },
   "file_extension": ".py",
   "mimetype": "text/x-python",
   "name": "python",
   "nbconvert_exporter": "python",
   "pygments_lexer": "ipython3",
   "version": "3.8.0"
  },
  "orig_nbformat": 4
 },
 "nbformat": 4,
 "nbformat_minor": 2
}
