{
 "cells": [
  {
   "cell_type": "markdown",
   "metadata": {},
   "source": [
    "# <center>A2</center>"
   ]
  },
  {
   "cell_type": "code",
   "execution_count": 12,
   "metadata": {},
   "outputs": [],
   "source": [
    "from automata.fa.dfa import DFA\n",
    "from automata.base.exceptions import RejectionException"
   ]
  },
  {
   "cell_type": "markdown",
   "metadata": {},
   "source": [
    "## 3c"
   ]
  },
  {
   "cell_type": "code",
   "execution_count": 13,
   "metadata": {},
   "outputs": [],
   "source": [
    "# DFA which matches all binary strings ending in an odd number of '1's\n",
    "dfa = DFA(\n",
    "    states={'A', 'B', 'C', 'D'},\n",
    "    input_symbols={'0', '1'},\n",
    "    transitions={\n",
    "        'A': {'0': 'A', '1': 'B'},\n",
    "        'B': {'0': 'A', '1': 'C'},\n",
    "        'C': {'0': 'D', '1': 'A'},\n",
    "        'D': {'0': 'D', '1': 'D'}\n",
    "    },\n",
    "    initial_state='A',\n",
    "    final_states={'A', 'B', 'C'}\n",
    ")"
   ]
  },
  {
   "cell_type": "code",
   "execution_count": 14,
   "metadata": {},
   "outputs": [
    {
     "data": {
      "text/plain": [
       "'B'"
      ]
     },
     "execution_count": 14,
     "metadata": {},
     "output_type": "execute_result"
    }
   ],
   "source": [
    "dfa.read_input('001010101')"
   ]
  },
  {
   "cell_type": "code",
   "execution_count": 15,
   "metadata": {},
   "outputs": [],
   "source": [
    "def power(l1, p):\n",
    "    if p == 1:\n",
    "        return l1\n",
    "    else:\n",
    "        res = power(l1, p - 1)\n",
    "        return concatLanguage(res, l1)\n",
    "\n",
    "def concatLanguage(l1, l2):\n",
    "    res = []\n",
    "    for k in l1:\n",
    "        for j in l2:\n",
    "            res.append(k+j)\n",
    "    return res\n",
    "\n",
    "def powerOfLanguage(l, p):\n",
    "    \"\"\"\n",
    "    Step one: Concatenate once\n",
    "    \"\"\"\n",
    "    res = l\n",
    "    for i in range(p - 1):\n",
    "        res = concatLanguage(res, l)\n",
    "    return res"
   ]
  },
  {
   "cell_type": "code",
   "execution_count": 17,
   "metadata": {},
   "outputs": [
    {
     "name": "stdout",
     "output_type": "stream",
     "text": [
      "Accepted 0\n",
      "Accepted 1\n",
      "Accepted 0\n",
      "Accepted 1\n",
      "Accepted 00\n",
      "Accepted 01\n",
      "Accepted 10\n",
      "Accepted 11\n",
      "Accepted 000\n",
      "Accepted 001\n",
      "Accepted 010\n",
      "Accepted 011\n",
      "Accepted 100\n",
      "Accepted 101\n",
      "Rejected 110\n",
      "Accepted 111\n",
      "Accepted 0000\n",
      "Accepted 0001\n",
      "Accepted 0010\n",
      "Accepted 0011\n",
      "Accepted 0100\n",
      "Accepted 0101\n",
      "Rejected 0110\n",
      "Accepted 0111\n",
      "Accepted 1000\n",
      "Accepted 1001\n",
      "Accepted 1010\n",
      "Accepted 1011\n",
      "Rejected 1100\n",
      "Rejected 1101\n",
      "Accepted 1110\n",
      "Accepted 1111\n"
     ]
    }
   ],
   "source": [
    "l = ['0','1']\n",
    "powerOfLanguage(l, 2)\n",
    "for i in range(5):\n",
    "    ls = powerOfLanguage(l, i)\n",
    "    for k in ls:\n",
    "        try:\n",
    "            dfa.read_input(k)\n",
    "            print(\"Accepted {}\".format(k))\n",
    "        except RejectionException:\n",
    "            print(\"Rejected {}\".format(k))\n"
   ]
  },
  {
   "cell_type": "code",
   "execution_count": 18,
   "metadata": {},
   "outputs": [
    {
     "data": {
      "text/plain": [
       "['0000',\n",
       " '0001',\n",
       " '0010',\n",
       " '0011',\n",
       " '0100',\n",
       " '0101',\n",
       " '0110',\n",
       " '0111',\n",
       " '1000',\n",
       " '1001',\n",
       " '1010',\n",
       " '1011',\n",
       " '1100',\n",
       " '1101',\n",
       " '1110',\n",
       " '1111']"
      ]
     },
     "execution_count": 18,
     "metadata": {},
     "output_type": "execute_result"
    }
   ],
   "source": [
    "powerOfLanguage(l, 4)"
   ]
  },
  {
   "cell_type": "code",
   "execution_count": 23,
   "metadata": {},
   "outputs": [
    {
     "data": {
      "text/plain": [
       "[1, 2, 3, 4, 5]"
      ]
     },
     "execution_count": 23,
     "metadata": {},
     "output_type": "execute_result"
    }
   ],
   "source": [
    "[i+1 for i in range(5)]"
   ]
  },
  {
   "cell_type": "code",
   "execution_count": 26,
   "metadata": {},
   "outputs": [
    {
     "data": {
      "text/plain": [
       "True"
      ]
     },
     "execution_count": 26,
     "metadata": {},
     "output_type": "execute_result"
    }
   ],
   "source": [
    "not '110' in \"100000\""
   ]
  },
  {
   "cell_type": "code",
   "execution_count": 1,
   "metadata": {},
   "outputs": [
    {
     "ename": "NameError",
     "evalue": "name 'DFA' is not defined",
     "output_type": "error",
     "traceback": [
      "\u001b[1;31m---------------------------------------------------------------------------\u001b[0m",
      "\u001b[1;31mNameError\u001b[0m                                 Traceback (most recent call last)",
      "\u001b[1;32m~\\AppData\\Local\\Temp/ipykernel_12084/1147500611.py\u001b[0m in \u001b[0;36m<module>\u001b[1;34m\u001b[0m\n\u001b[1;32m----> 1\u001b[1;33m dfa_a = DFA(\n\u001b[0m\u001b[0;32m      2\u001b[0m     \u001b[0mstates\u001b[0m\u001b[1;33m=\u001b[0m\u001b[1;33m{\u001b[0m\u001b[1;34m'A'\u001b[0m\u001b[1;33m,\u001b[0m \u001b[1;34m'B'\u001b[0m\u001b[1;33m,\u001b[0m \u001b[1;34m'C'\u001b[0m\u001b[1;33m,\u001b[0m \u001b[1;34m'D'\u001b[0m\u001b[1;33m}\u001b[0m\u001b[1;33m,\u001b[0m\u001b[1;33m\u001b[0m\u001b[1;33m\u001b[0m\u001b[0m\n\u001b[0;32m      3\u001b[0m     \u001b[0minput_symbols\u001b[0m\u001b[1;33m=\u001b[0m\u001b[1;33m{\u001b[0m\u001b[1;34m'0'\u001b[0m\u001b[1;33m,\u001b[0m \u001b[1;34m'1'\u001b[0m\u001b[1;33m}\u001b[0m\u001b[1;33m,\u001b[0m\u001b[1;33m\u001b[0m\u001b[1;33m\u001b[0m\u001b[0m\n\u001b[0;32m      4\u001b[0m     transitions={\n\u001b[0;32m      5\u001b[0m         \u001b[1;34m'A'\u001b[0m\u001b[1;33m:\u001b[0m \u001b[1;33m{\u001b[0m\u001b[1;34m'0'\u001b[0m\u001b[1;33m:\u001b[0m \u001b[1;34m'A'\u001b[0m\u001b[1;33m,\u001b[0m \u001b[1;34m'1'\u001b[0m\u001b[1;33m:\u001b[0m \u001b[1;34m'B'\u001b[0m\u001b[1;33m}\u001b[0m\u001b[1;33m,\u001b[0m\u001b[1;33m\u001b[0m\u001b[1;33m\u001b[0m\u001b[0m\n",
      "\u001b[1;31mNameError\u001b[0m: name 'DFA' is not defined"
     ]
    }
   ],
   "source": [
    "from automata.fa.dfa import DFA\n",
    "\n",
    "dfa_a = DFA(\n",
    "    states={'A', 'B', 'C', 'D'},\n",
    "    input_symbols={'0', '1'},\n",
    "    transitions={\n",
    "        'A': {'0': 'A', '1': 'B'},\n",
    "        'B': {'0': 'A', '1': 'C'},\n",
    "        'C': {'0': 'D', '1': 'C'},\n",
    "        'D': {'0': 'D', '1': 'D'}\n",
    "    },\n",
    "    initial_state='A',\n",
    "    final_states={'A', 'B', 'C'}\n",
    ")\n",
    "\n",
    "\n",
    "dfa_b = DFA(\n",
    "    states={'A', 'B', 'C', 'D', 'E'},\n",
    "    input_symbols={'0', '1'},\n",
    "    transitions={\n",
    "        'A': {'0': 'C', '1': 'B'},\n",
    "        'B': {'0': 'E', '1': 'D'},\n",
    "        'C': {'0': 'A', '1': 'D'},\n",
    "        'D': {'0': 'E', '1': 'B'},\n",
    "        'E': {'0': 'E', '1': 'E'},\n",
    "    },\n",
    "    initial_state='A',\n",
    "    final_states={'B', 'C'}\n",
    ")\n",
    "\n",
    "dfa_c = DFA(\n",
    "    states={'A', 'B', 'C', 'D'},\n",
    "    input_symbols={'0', '1'},\n",
    "    transitions={\n",
    "        'A': {'0': 'A', '1': 'B'},\n",
    "        'B': {'0': 'A', '1': 'C'},\n",
    "        'C': {'0': 'D', '1': 'C'},\n",
    "        'D': {'0': 'D', '1': 'D'}\n",
    "    },\n",
    "    initial_state='A',\n",
    "    final_states={'A', 'B', 'C'}\n",
    ")\n"
   ]
  }
 ],
 "metadata": {
  "interpreter": {
   "hash": "67176aa62ce702ae4822ae5a2222842b74bf2fe1fdc4a19d69f0ad18bd063919"
  },
  "kernelspec": {
   "display_name": "Python 3.8.0 32-bit ('venv': venv)",
   "name": "python3"
  },
  "language_info": {
   "codemirror_mode": {
    "name": "ipython",
    "version": 3
   },
   "file_extension": ".py",
   "mimetype": "text/x-python",
   "name": "python",
   "nbconvert_exporter": "python",
   "pygments_lexer": "ipython3",
   "version": "3.8.0"
  },
  "orig_nbformat": 4
 },
 "nbformat": 4,
 "nbformat_minor": 2
}
