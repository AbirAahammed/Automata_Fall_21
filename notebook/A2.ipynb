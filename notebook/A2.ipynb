{
 "cells": [
  {
   "cell_type": "markdown",
   "metadata": {},
   "source": [
    "# <center>A2</center>"
   ]
  },
  {
   "cell_type": "code",
   "execution_count": 1,
   "metadata": {},
   "outputs": [],
   "source": [
    "from automata.fa.dfa import DFA\n",
    "from automata.base.exceptions import RejectionException"
   ]
  },
  {
   "cell_type": "markdown",
   "metadata": {},
   "source": [
    "## 3c"
   ]
  },
  {
   "cell_type": "code",
   "execution_count": 2,
   "metadata": {},
   "outputs": [],
   "source": [
    "# DFA which matches all binary strings ending in an odd number of '1's\n",
    "dfa = DFA(\n",
    "    states={'A', 'B', 'C', 'D'},\n",
    "    input_symbols={'0', '1'},\n",
    "    transitions={\n",
    "        'A': {'0': 'A', '1': 'B'},\n",
    "        'B': {'0': 'A', '1': 'C'},\n",
    "        'C': {'0': 'D', '1': 'A'},\n",
    "        'D': {'0': 'D', '1': 'D'}\n",
    "    },\n",
    "    initial_state='A',\n",
    "    final_states={'A', 'B', 'C'}\n",
    ")"
   ]
  },
  {
   "cell_type": "code",
   "execution_count": 3,
   "metadata": {},
   "outputs": [
    {
     "data": {
      "text/plain": [
       "'B'"
      ]
     },
     "execution_count": 3,
     "metadata": {},
     "output_type": "execute_result"
    }
   ],
   "source": [
    "dfa.read_input('001010101')"
   ]
  },
  {
   "cell_type": "code",
   "execution_count": 4,
   "metadata": {},
   "outputs": [],
   "source": [
    "def power(l1, p):\n",
    "    if p == 1:\n",
    "        return l1\n",
    "    else:\n",
    "        res = power(l1, p - 1)\n",
    "        return concatLanguage(res, l1)\n",
    "\n",
    "def concatLanguage(l1, l2):\n",
    "    res = []\n",
    "    for k in l1:\n",
    "        for j in l2:\n",
    "            res.append(k+j)\n",
    "    return res\n",
    "\n",
    "def powerOfLanguage(l, p):\n",
    "    \"\"\"\n",
    "    Step one: Concatenate once\n",
    "    \"\"\"\n",
    "    res = l\n",
    "    for i in range(p - 1):\n",
    "        res = concatLanguage(res, l)\n",
    "    return res"
   ]
  },
  {
   "cell_type": "code",
   "execution_count": 11,
   "metadata": {},
   "outputs": [
    {
     "data": {
      "text/plain": [
       "['00', '01', '10', '11']"
      ]
     },
     "execution_count": 11,
     "metadata": {},
     "output_type": "execute_result"
    }
   ],
   "source": [
    "l = ['0','1']\n",
    "powerOfLanguage(l, 2)\n",
    "for i in range(5):\n",
    "    ls = powerOfLanguage(l, i)\n",
    "    for k in ls:\n",
    "        try:\n",
    "            dfa.read_input(k)\n",
    "        except RejectionException:\n",
    "            print(\"Rejected {}\".format(k))\n"
   ]
  }
 ],
 "metadata": {
  "interpreter": {
   "hash": "67176aa62ce702ae4822ae5a2222842b74bf2fe1fdc4a19d69f0ad18bd063919"
  },
  "kernelspec": {
   "display_name": "Python 3.8.0 32-bit ('venv': venv)",
   "name": "python3"
  },
  "language_info": {
   "codemirror_mode": {
    "name": "ipython",
    "version": 3
   },
   "file_extension": ".py",
   "mimetype": "text/x-python",
   "name": "python",
   "nbconvert_exporter": "python",
   "pygments_lexer": "ipython3",
   "version": "3.8.0"
  },
  "orig_nbformat": 4
 },
 "nbformat": 4,
 "nbformat_minor": 2
}
